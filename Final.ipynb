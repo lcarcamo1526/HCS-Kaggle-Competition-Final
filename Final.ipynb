{
 "cells": [
  {
   "cell_type": "markdown",
   "metadata": {
    "colab_type": "text",
    "id": "FSRh1nm6Phaw"
   },
   "source": [
    "# Final Project"
   ]
  },
  {
   "cell_type": "code",
   "execution_count": 1,
   "metadata": {
    "_cell_guid": "b1076dfc-b9ad-4769-8c92-a6c4dae69d19",
    "_uuid": "8f2839f25d086af736a60e9eeb907d3b93b6e0e5",
    "colab": {},
    "colab_type": "code",
    "id": "7OXETkyCPha0"
   },
   "outputs": [],
   "source": [
    "import numpy as np\n",
    "import seaborn as sns\n",
    "\n",
    "import pickle\n",
    "import gc\n",
    "import os\n",
    "import time\n",
    "import pandas as pd\n",
    "from tqdm import tqdm\n",
    "\n",
    "from sklearn.preprocessing import LabelEncoder\n",
    "from sklearn.feature_extraction import text\n",
    "from sklearn.decomposition import NMF #PCA, TruncatedSVD, \n",
    "from sklearn.preprocessing import StandardScaler\n",
    "from sklearn.metrics import r2_score, mean_squared_error\n",
    "from sklearn.linear_model import LinearRegression, Ridge, Lasso, SGDRegressor\n",
    "from sklearn.ensemble import RandomForestRegressor\n",
    "from catboost import CatBoostRegressor\n",
    "import xgboost as xgb\n",
    "import lightgbm as lgb\n",
    "\n",
    "pd.set_option('display.max_columns', None)"
   ]
  },
  {
   "cell_type": "markdown",
   "metadata": {
    "colab_type": "text",
    "id": "KKQ2GDcXPhbI"
   },
   "source": [
    "## Import data"
   ]
  },
  {
   "cell_type": "markdown",
   "metadata": {
    "colab": {
     "base_uri": "https://localhost:8080/",
     "height": 74
    },
    "colab_type": "code",
    "executionInfo": {
     "elapsed": 3435,
     "status": "ok",
     "timestamp": 1561965839300,
     "user": {
      "displayName": "Shengbing YU",
      "photoUrl": "",
      "userId": "03994843105687918628"
     },
     "user_tz": -600
    },
    "id": "eVP6GZGAPhbM",
    "outputId": "534376fb-48a7-4c7d-adc1-6ba9ed15e3c1"
   },
   "source": [
    "from google.colab import drive\n",
    "drive.mount('/content/drive')"
   ]
  },
  {
   "cell_type": "code",
   "execution_count": 2,
   "metadata": {
    "_cell_guid": "79c7e3d0-c299-4dcb-8224-4455121ee9b0",
    "_uuid": "d629ff2d2480ee46fbb7e2d37f6b5fab8052498a",
    "colab": {},
    "colab_type": "code",
    "id": "xcHDYiH3PhbX"
   },
   "outputs": [],
   "source": [
    "#DATA_FOLDER = '../input/'  # kaggle data folder\n",
    "DATA_FOLDER = 'data/' # data folder on my Mac Pro\n",
    "# data folder on google colab\n",
    "#DATA_FOLDER = './drive/My Drive/Colab Notebooks/final_project_data/'  \n",
    "\n",
    "test = pd.read_csv('data/test.csv')\n",
    "shops = pd.read_csv('data/shops.csv')\n",
    "submission = pd.read_csv('data/sample_submission.csv')\n",
    "sales_train = pd.read_csv('data/sales.csv')\n",
    "items = pd.read_csv('data/items.csv')\n",
    "item_categories = pd.read_csv('data/item_categories.csv')"
   ]
  },
  {
   "cell_type": "code",
   "execution_count": 3,
   "metadata": {
    "colab": {
     "base_uri": "https://localhost:8080/",
     "height": 204
    },
    "colab_type": "code",
    "executionInfo": {
     "elapsed": 7327,
     "status": "ok",
     "timestamp": 1561965843322,
     "user": {
      "displayName": "Shengbing YU",
      "photoUrl": "",
      "userId": "03994843105687918628"
     },
     "user_tz": -600
    },
    "id": "QbTJ8H6xPhbd",
    "outputId": "779c5629-117f-445f-f9b2-8f9170ce9624"
   },
   "outputs": [
    {
     "data": {
      "text/html": [
       "<div>\n",
       "<style scoped>\n",
       "    .dataframe tbody tr th:only-of-type {\n",
       "        vertical-align: middle;\n",
       "    }\n",
       "\n",
       "    .dataframe tbody tr th {\n",
       "        vertical-align: top;\n",
       "    }\n",
       "\n",
       "    .dataframe thead th {\n",
       "        text-align: right;\n",
       "    }\n",
       "</style>\n",
       "<table border=\"1\" class=\"dataframe\">\n",
       "  <thead>\n",
       "    <tr style=\"text-align: right;\">\n",
       "      <th></th>\n",
       "      <th>date</th>\n",
       "      <th>date_block_num</th>\n",
       "      <th>shop_id</th>\n",
       "      <th>item_id</th>\n",
       "      <th>item_price</th>\n",
       "      <th>item_cnt_day</th>\n",
       "    </tr>\n",
       "  </thead>\n",
       "  <tbody>\n",
       "    <tr>\n",
       "      <th>0</th>\n",
       "      <td>02.01.2013</td>\n",
       "      <td>0</td>\n",
       "      <td>59</td>\n",
       "      <td>22154</td>\n",
       "      <td>999.00</td>\n",
       "      <td>1.0</td>\n",
       "    </tr>\n",
       "    <tr>\n",
       "      <th>1</th>\n",
       "      <td>03.01.2013</td>\n",
       "      <td>0</td>\n",
       "      <td>25</td>\n",
       "      <td>2552</td>\n",
       "      <td>899.00</td>\n",
       "      <td>1.0</td>\n",
       "    </tr>\n",
       "    <tr>\n",
       "      <th>2</th>\n",
       "      <td>05.01.2013</td>\n",
       "      <td>0</td>\n",
       "      <td>25</td>\n",
       "      <td>2552</td>\n",
       "      <td>899.00</td>\n",
       "      <td>-1.0</td>\n",
       "    </tr>\n",
       "    <tr>\n",
       "      <th>3</th>\n",
       "      <td>06.01.2013</td>\n",
       "      <td>0</td>\n",
       "      <td>25</td>\n",
       "      <td>2554</td>\n",
       "      <td>1709.05</td>\n",
       "      <td>1.0</td>\n",
       "    </tr>\n",
       "    <tr>\n",
       "      <th>4</th>\n",
       "      <td>15.01.2013</td>\n",
       "      <td>0</td>\n",
       "      <td>25</td>\n",
       "      <td>2555</td>\n",
       "      <td>1099.00</td>\n",
       "      <td>1.0</td>\n",
       "    </tr>\n",
       "  </tbody>\n",
       "</table>\n",
       "</div>"
      ],
      "text/plain": [
       "         date  date_block_num  shop_id  item_id  item_price  item_cnt_day\n",
       "0  02.01.2013               0       59    22154      999.00           1.0\n",
       "1  03.01.2013               0       25     2552      899.00           1.0\n",
       "2  05.01.2013               0       25     2552      899.00          -1.0\n",
       "3  06.01.2013               0       25     2554     1709.05           1.0\n",
       "4  15.01.2013               0       25     2555     1099.00           1.0"
      ]
     },
     "execution_count": 3,
     "metadata": {},
     "output_type": "execute_result"
    }
   ],
   "source": [
    "sales_train.head()"
   ]
  },
  {
   "cell_type": "code",
   "execution_count": 4,
   "metadata": {
    "colab": {
     "base_uri": "https://localhost:8080/",
     "height": 204
    },
    "colab_type": "code",
    "executionInfo": {
     "elapsed": 9322,
     "status": "ok",
     "timestamp": 1561965845735,
     "user": {
      "displayName": "Shengbing YU",
      "photoUrl": "",
      "userId": "03994843105687918628"
     },
     "user_tz": -600
    },
    "id": "BjvqLUxRPhda",
    "outputId": "98931770-8985-4100-e577-7068b98077d4"
   },
   "outputs": [
    {
     "data": {
      "text/html": [
       "<div>\n",
       "<style scoped>\n",
       "    .dataframe tbody tr th:only-of-type {\n",
       "        vertical-align: middle;\n",
       "    }\n",
       "\n",
       "    .dataframe tbody tr th {\n",
       "        vertical-align: top;\n",
       "    }\n",
       "\n",
       "    .dataframe thead th {\n",
       "        text-align: right;\n",
       "    }\n",
       "</style>\n",
       "<table border=\"1\" class=\"dataframe\">\n",
       "  <thead>\n",
       "    <tr style=\"text-align: right;\">\n",
       "      <th></th>\n",
       "      <th>item_category_name</th>\n",
       "      <th>item_category_id</th>\n",
       "    </tr>\n",
       "  </thead>\n",
       "  <tbody>\n",
       "    <tr>\n",
       "      <th>0</th>\n",
       "      <td>PC - Гарнитуры/Наушники</td>\n",
       "      <td>0</td>\n",
       "    </tr>\n",
       "    <tr>\n",
       "      <th>1</th>\n",
       "      <td>Аксессуары - PS2</td>\n",
       "      <td>1</td>\n",
       "    </tr>\n",
       "    <tr>\n",
       "      <th>2</th>\n",
       "      <td>Аксессуары - PS3</td>\n",
       "      <td>2</td>\n",
       "    </tr>\n",
       "    <tr>\n",
       "      <th>3</th>\n",
       "      <td>Аксессуары - PS4</td>\n",
       "      <td>3</td>\n",
       "    </tr>\n",
       "    <tr>\n",
       "      <th>4</th>\n",
       "      <td>Аксессуары - PSP</td>\n",
       "      <td>4</td>\n",
       "    </tr>\n",
       "  </tbody>\n",
       "</table>\n",
       "</div>"
      ],
      "text/plain": [
       "        item_category_name  item_category_id\n",
       "0  PC - Гарнитуры/Наушники                 0\n",
       "1         Аксессуары - PS2                 1\n",
       "2         Аксессуары - PS3                 2\n",
       "3         Аксессуары - PS4                 3\n",
       "4         Аксессуары - PSP                 4"
      ]
     },
     "execution_count": 4,
     "metadata": {},
     "output_type": "execute_result"
    }
   ],
   "source": [
    "item_categories.head()\n",
    "\n"
   ]
  },
  {
   "cell_type": "code",
   "execution_count": 5,
   "metadata": {
    "collapsed": false,
    "jupyter": {
     "outputs_hidden": false
    },
    "pycharm": {
     "name": "#%%\n"
    }
   },
   "outputs": [
    {
     "name": "stderr",
     "output_type": "stream",
     "text": [
      "/home/luis/anaconda3/envs/sommelierAPI/lib/python3.8/site-packages/seaborn/_decorators.py:36: FutureWarning: Pass the following variable as a keyword arg: x. From version 0.12, the only valid positional argument will be `data`, and passing other arguments without an explicit keyword will result in an error or misinterpretation.\n",
      "  warnings.warn(\n"
     ]
    },
    {
     "data": {
      "text/plain": [
       "<AxesSubplot:xlabel='item_cnt_day'>"
      ]
     },
     "execution_count": 5,
     "metadata": {},
     "output_type": "execute_result"
    },
    {
     "data": {
      "image/png": "[encoded data removed]",
      "text/plain": [
       "<Figure size 432x288 with 1 Axes>"
      ]
     },
     "metadata": {
      "needs_background": "light"
     },
     "output_type": "display_data"
    }
   ],
   "source": [
    "sales_copy = sales_train.copy()\n",
    "sns.boxplot(sales_train.item_cnt_day)"
   ]
  },
  {
   "cell_type": "code",
   "execution_count": 6,
   "metadata": {
    "colab": {
     "base_uri": "https://localhost:8080/",
     "height": 136
    },
    "colab_type": "code",
    "executionInfo": {
     "elapsed": 11123,
     "status": "ok",
     "timestamp": 1561965847888,
     "user": {
      "displayName": "Shengbing YU",
      "photoUrl": "",
      "userId": "03994843105687918628"
     },
     "user_tz": -600
    },
    "id": "ypUFq6hlPhdy",
    "outputId": "2049c4dd-a938-4ce0-9ad1-aed7d890e16b"
   },
   "outputs": [
    {
     "data": {
      "text/plain": [
       "date              28.10.2015\n",
       "date_block_num            33\n",
       "shop_id                   12\n",
       "item_id                11373\n",
       "item_price          0.908714\n",
       "item_cnt_day            2169\n",
       "Name: 2909818, dtype: object"
      ]
     },
     "execution_count": 6,
     "metadata": {},
     "output_type": "execute_result"
    }
   ],
   "source": [
    "sales_train.loc[sales_train.item_cnt_day.idxmax()]"
   ]
  },
  {
   "cell_type": "code",
   "execution_count": 7,
   "metadata": {
    "colab": {},
    "colab_type": "code",
    "id": "EOdcbgWwPhd1"
   },
   "outputs": [],
   "source": [
    "# Use median value for outliers\n",
    "median = sales_train[(sales_train.shop_id==12)&(\n",
    "    sales_train.item_id==11373)&(sales_train.date_block_num==33)&(\n",
    "    sales_train.item_cnt_day<2000)].item_cnt_day.median()\n",
    "sales_train.loc[sales_train.item_cnt_day > 2000, 'item_cnt_day'] = round(median)"
   ]
  },
  {
   "cell_type": "code",
   "execution_count": 8,
   "metadata": {
    "colab": {
     "base_uri": "https://localhost:8080/",
     "height": 296
    },
    "colab_type": "code",
    "executionInfo": {
     "elapsed": 12422,
     "status": "ok",
     "timestamp": 1561965849293,
     "user": {
      "displayName": "Shengbing YU",
      "photoUrl": "",
      "userId": "03994843105687918628"
     },
     "user_tz": -600
    },
    "id": "IyXCIsUrPhd4",
    "outputId": "9d4e91c4-a9ee-46dd-a760-916d0ad3371c"
   },
   "outputs": [
    {
     "name": "stderr",
     "output_type": "stream",
     "text": [
      "/home/luis/anaconda3/envs/sommelierAPI/lib/python3.8/site-packages/seaborn/_decorators.py:36: FutureWarning: Pass the following variable as a keyword arg: x. From version 0.12, the only valid positional argument will be `data`, and passing other arguments without an explicit keyword will result in an error or misinterpretation.\n",
      "  warnings.warn(\n"
     ]
    },
    {
     "data": {
      "text/plain": [
       "<AxesSubplot:xlabel='item_price'>"
      ]
     },
     "execution_count": 8,
     "metadata": {},
     "output_type": "execute_result"
    },
    {
     "data": {
      "image/png": "[encoded data removed]",
      "text/plain": [
       "<Figure size 432x288 with 1 Axes>"
      ]
     },
     "metadata": {
      "needs_background": "light"
     },
     "output_type": "display_data"
    }
   ],
   "source": [
    "sns.boxplot(sales_train.item_price)"
   ]
  },
  {
   "cell_type": "code",
   "execution_count": 9,
   "metadata": {
    "colab": {
     "base_uri": "https://localhost:8080/",
     "height": 279
    },
    "colab_type": "code",
    "executionInfo": {
     "elapsed": 13154,
     "status": "ok",
     "timestamp": 1561965850083,
     "user": {
      "displayName": "Shengbing YU",
      "photoUrl": "",
      "userId": "03994843105687918628"
     },
     "user_tz": -600
    },
    "id": "1MirypNXPhd9",
    "outputId": "9e8ed3a7-b58f-4ee8-b3c5-944b267f283f"
   },
   "outputs": [
    {
     "data": {
      "text/plain": [
       "<AxesSubplot:xlabel='item_price', ylabel='Density'>"
      ]
     },
     "execution_count": 9,
     "metadata": {},
     "output_type": "execute_result"
    },
    {
     "data": {
      "image/png": "[encoded data removed]",
      "text/plain": [
       "<Figure size 432x288 with 1 Axes>"
      ]
     },
     "metadata": {
      "needs_background": "light"
     },
     "output_type": "display_data"
    }
   ],
   "source": [
    "sns.kdeplot(sales_train.item_price)"
   ]
  },
  {
   "cell_type": "code",
   "execution_count": 10,
   "metadata": {
    "colab": {
     "base_uri": "https://localhost:8080/",
     "height": 51
    },
    "colab_type": "code",
    "executionInfo": {
     "elapsed": 13110,
     "status": "ok",
     "timestamp": 1561965850087,
     "user": {
      "displayName": "Shengbing YU",
      "photoUrl": "",
      "userId": "03994843105687918628"
     },
     "user_tz": -600
    },
    "id": "CuMStZuJPheB",
    "outputId": "e304babc-fdd7-4e05-e82f-5885e3dc4921"
   },
   "outputs": [
    {
     "name": "stdout",
     "output_type": "stream",
     "text": [
      "[-1.0, 0.07, 0.0875, 0.09, 0.1]\n",
      "[307980.0, 59200.0, 50999.0, 49782.0, 42990.0]\n"
     ]
    }
   ],
   "source": [
    "tmp = sorted(sales_train.item_price.unique())\n",
    "print(tmp[:5])\n",
    "print(tmp[::-1][:5])"
   ]
  },
  {
   "cell_type": "code",
   "execution_count": 12,
   "metadata": {
    "colab": {
     "base_uri": "https://localhost:8080/",
     "height": 80
    },
    "colab_type": "code",
    "executionInfo": {
     "elapsed": 13013,
     "status": "ok",
     "timestamp": 1561965850089,
     "user": {
      "displayName": "Shengbing YU",
      "photoUrl": "",
      "userId": "03994843105687918628"
     },
     "user_tz": -600
    },
    "id": "4BuOAtoVPheJ",
    "outputId": "9e9f90a0-9ee9-4137-a0f2-f8dbb00a153b"
   },
   "outputs": [
    {
     "data": {
      "text/html": [
       "<div>\n",
       "<style scoped>\n",
       "    .dataframe tbody tr th:only-of-type {\n",
       "        vertical-align: middle;\n",
       "    }\n",
       "\n",
       "    .dataframe tbody tr th {\n",
       "        vertical-align: top;\n",
       "    }\n",
       "\n",
       "    .dataframe thead th {\n",
       "        text-align: right;\n",
       "    }\n",
       "</style>\n",
       "<table border=\"1\" class=\"dataframe\">\n",
       "  <thead>\n",
       "    <tr style=\"text-align: right;\">\n",
       "      <th></th>\n",
       "      <th>date</th>\n",
       "      <th>date_block_num</th>\n",
       "      <th>shop_id</th>\n",
       "      <th>item_id</th>\n",
       "      <th>item_price</th>\n",
       "      <th>item_cnt_day</th>\n",
       "    </tr>\n",
       "  </thead>\n",
       "  <tbody>\n",
       "    <tr>\n",
       "      <th>1163158</th>\n",
       "      <td>13.12.2013</td>\n",
       "      <td>11</td>\n",
       "      <td>12</td>\n",
       "      <td>6066</td>\n",
       "      <td>307980.0</td>\n",
       "      <td>1.0</td>\n",
       "    </tr>\n",
       "  </tbody>\n",
       "</table>\n",
       "</div>"
      ],
      "text/plain": [
       "               date  date_block_num  shop_id  item_id  item_price  \\\n",
       "1163158  13.12.2013              11       12     6066    307980.0   \n",
       "\n",
       "         item_cnt_day  \n",
       "1163158           1.0  "
      ]
     },
     "execution_count": 12,
     "metadata": {},
     "output_type": "execute_result"
    }
   ],
   "source": [
    "# only one record for this item_id\n",
    "sales_train[sales_train.item_id==6066]"
   ]
  },
  {
   "cell_type": "code",
   "execution_count": 13,
   "metadata": {
    "colab": {},
    "colab_type": "code",
    "id": "ke3wfafwPheN"
   },
   "outputs": [],
   "source": [
    "#median = sales_train[(sales_train.shop_id==12)&(sales_train.date_block_num==11)&(\n",
    "#    sales_train.item_price>0)&(sales_train.item_price<60000)].item_price.median()\n",
    "sales_train.loc[sales_train.item_id==6066, 'item_price'] /= 10"
   ]
  },
  {
   "cell_type": "code",
   "execution_count": 15,
   "metadata": {
    "colab": {},
    "colab_type": "code",
    "id": "OxcaBVxPPheT"
   },
   "outputs": [],
   "source": [
    "median = sales_train[(sales_train.shop_id==32)&(\n",
    "    sales_train.item_id==2973)&(sales_train.date_block_num==4)&(\n",
    "    sales_train.item_price>0)].item_price.median()\n",
    "sales_train.loc[sales_train.item_price<0, 'item_price'] = median"
   ]
  },
  {
   "cell_type": "markdown",
   "metadata": {
    "colab_type": "text",
    "id": "XX22Eb6APheZ"
   },
   "source": [
    "Let's deal with duplicated shop names"
   ]
  },
  {
   "cell_type": "code",
   "execution_count": 16,
   "metadata": {
    "colab": {},
    "colab_type": "code",
    "id": "Noi8m9fQPhed"
   },
   "outputs": [],
   "source": [
    "# Якутск Орджоникидзе, 56\n",
    "sales_train.loc[sales_train.shop_id == 0, 'shop_id'] = 57\n",
    "test.loc[test.shop_id == 0, 'shop_id'] = 57\n",
    "# Якутск ТЦ \"Центральный\"\n",
    "sales_train.loc[sales_train.shop_id == 1, 'shop_id'] = 58\n",
    "test.loc[test.shop_id == 1, 'shop_id'] = 58\n",
    "# Жуковский ул. Чкалова 39м²\n",
    "sales_train.loc[sales_train.shop_id == 10, 'shop_id'] = 11\n",
    "test.loc[test.shop_id == 10, 'shop_id'] = 11"
   ]
  },
  {
   "cell_type": "code",
   "execution_count": 17,
   "metadata": {
    "colab": {
     "base_uri": "https://localhost:8080/",
     "height": 68
    },
    "colab_type": "code",
    "executionInfo": {
     "elapsed": 15229,
     "status": "ok",
     "timestamp": 1561965852588,
     "user": {
      "displayName": "Shengbing YU",
      "photoUrl": "",
      "userId": "03994843105687918628"
     },
     "user_tz": -600
    },
    "id": "4UumubF1Pheg",
    "outputId": "3ca0b322-b8ee-4157-cb4e-f4ca7dda40ad"
   },
   "outputs": [
    {
     "name": "stdout",
     "output_type": "stream",
     "text": [
      "False    2935825\n",
      "True          24\n",
      "dtype: int64\n"
     ]
    }
   ],
   "source": [
    "# Check for duplicates\n",
    "cols = ['date','date_block_num','shop_id','item_id','item_cnt_day']\n",
    "print(sales_train.duplicated(subset=cols).value_counts())\n",
    "sales_train.drop_duplicates(subset=cols, inplace=True)"
   ]
  },
  {
   "cell_type": "markdown",
   "metadata": {
    "colab_type": "text",
    "id": "dwGjci1RPhek"
   },
   "source": [
    "## Categorical values"
   ]
  },
  {
   "cell_type": "code",
   "execution_count": 18,
   "metadata": {
    "colab": {},
    "colab_type": "code",
    "id": "w3axoffnPhek"
   },
   "outputs": [],
   "source": [
    "# save a copy for text feature processing\n",
    "shops_copy = shops.copy()\n",
    "item_categories_copy = item_categories.copy()\n",
    "items_copy = items.copy()"
   ]
  },
  {
   "cell_type": "code",
   "execution_count": 19,
   "metadata": {
    "colab": {},
    "colab_type": "code",
    "id": "O42pgIbPPhen"
   },
   "outputs": [],
   "source": [
    "shops.loc[shops.shop_name == 'Сергиев Посад ТЦ \"7Я\"', 'shop_name'] = 'СергиевПосад ТЦ \"7Я\"'\n",
    "shops['city'] = shops['shop_name'].str.split(' ').map(lambda x: x[0])\n",
    "shops.loc[shops.city == '!Якутск', 'city'] = 'Якутск'\n",
    "shops['city_code'] = LabelEncoder().fit_transform(shops['city'])\n",
    "shops = shops[['shop_id','city_code']]"
   ]
  },
  {
   "cell_type": "code",
   "execution_count": 20,
   "metadata": {
    "colab": {
     "base_uri": "https://localhost:8080/",
     "height": 204
    },
    "colab_type": "code",
    "executionInfo": {
     "elapsed": 15126,
     "status": "ok",
     "timestamp": 1561965852599,
     "user": {
      "displayName": "Shengbing YU",
      "photoUrl": "",
      "userId": "03994843105687918628"
     },
     "user_tz": -600
    },
    "id": "Zq79guXaPheo",
    "outputId": "6d4d03ab-0115-4fac-bcab-a9935d302173"
   },
   "outputs": [
    {
     "data": {
      "text/html": [
       "<div>\n",
       "<style scoped>\n",
       "    .dataframe tbody tr th:only-of-type {\n",
       "        vertical-align: middle;\n",
       "    }\n",
       "\n",
       "    .dataframe tbody tr th {\n",
       "        vertical-align: top;\n",
       "    }\n",
       "\n",
       "    .dataframe thead th {\n",
       "        text-align: right;\n",
       "    }\n",
       "</style>\n",
       "<table border=\"1\" class=\"dataframe\">\n",
       "  <thead>\n",
       "    <tr style=\"text-align: right;\">\n",
       "      <th></th>\n",
       "      <th>shop_id</th>\n",
       "      <th>city_code</th>\n",
       "    </tr>\n",
       "  </thead>\n",
       "  <tbody>\n",
       "    <tr>\n",
       "      <th>0</th>\n",
       "      <td>0</td>\n",
       "      <td>29</td>\n",
       "    </tr>\n",
       "    <tr>\n",
       "      <th>1</th>\n",
       "      <td>1</td>\n",
       "      <td>29</td>\n",
       "    </tr>\n",
       "    <tr>\n",
       "      <th>2</th>\n",
       "      <td>2</td>\n",
       "      <td>0</td>\n",
       "    </tr>\n",
       "    <tr>\n",
       "      <th>3</th>\n",
       "      <td>3</td>\n",
       "      <td>1</td>\n",
       "    </tr>\n",
       "    <tr>\n",
       "      <th>4</th>\n",
       "      <td>4</td>\n",
       "      <td>2</td>\n",
       "    </tr>\n",
       "  </tbody>\n",
       "</table>\n",
       "</div>"
      ],
      "text/plain": [
       "   shop_id  city_code\n",
       "0        0         29\n",
       "1        1         29\n",
       "2        2          0\n",
       "3        3          1\n",
       "4        4          2"
      ]
     },
     "execution_count": 20,
     "metadata": {},
     "output_type": "execute_result"
    }
   ],
   "source": [
    "shops.head()"
   ]
  },
  {
   "cell_type": "code",
   "execution_count": 21,
   "metadata": {
    "colab": {},
    "colab_type": "code",
    "id": "IMHg7-5QPhes"
   },
   "outputs": [],
   "source": [
    "item_categories['split'] = item_categories['item_category_name'].str.split('-')\n",
    "item_categories['type'] = item_categories['split'].map(lambda x: x[0].strip())\n",
    "item_categories['type_code'] = LabelEncoder().fit_transform(item_categories['type'])\n",
    "item_categories['subtype'] = item_categories['split'].map(\n",
    "    lambda x: x[1].strip() if len(x) > 1 else x[0].strip())\n",
    "item_categories['subtype_code'] = LabelEncoder().fit_transform(item_categories['subtype'])\n",
    "item_categories = item_categories[['item_category_id','type_code', 'subtype_code']]\n",
    "\n",
    "items.drop(['item_name'], axis=1, inplace=True)"
   ]
  },
  {
   "cell_type": "code",
   "execution_count": 22,
   "metadata": {
    "colab": {
     "base_uri": "https://localhost:8080/",
     "height": 204
    },
    "colab_type": "code",
    "executionInfo": {
     "elapsed": 15058,
     "status": "ok",
     "timestamp": 1561965852603,
     "user": {
      "displayName": "Shengbing YU",
      "photoUrl": "",
      "userId": "03994843105687918628"
     },
     "user_tz": -600
    },
    "id": "--SAOTHFPhet",
    "outputId": "f07e8ae1-61e5-4a19-fefb-cbfb95426db0"
   },
   "outputs": [
    {
     "data": {
      "text/html": [
       "<div>\n",
       "<style scoped>\n",
       "    .dataframe tbody tr th:only-of-type {\n",
       "        vertical-align: middle;\n",
       "    }\n",
       "\n",
       "    .dataframe tbody tr th {\n",
       "        vertical-align: top;\n",
       "    }\n",
       "\n",
       "    .dataframe thead th {\n",
       "        text-align: right;\n",
       "    }\n",
       "</style>\n",
       "<table border=\"1\" class=\"dataframe\">\n",
       "  <thead>\n",
       "    <tr style=\"text-align: right;\">\n",
       "      <th></th>\n",
       "      <th>item_category_id</th>\n",
       "      <th>type_code</th>\n",
       "      <th>subtype_code</th>\n",
       "    </tr>\n",
       "  </thead>\n",
       "  <tbody>\n",
       "    <tr>\n",
       "      <th>0</th>\n",
       "      <td>0</td>\n",
       "      <td>0</td>\n",
       "      <td>29</td>\n",
       "    </tr>\n",
       "    <tr>\n",
       "      <th>1</th>\n",
       "      <td>1</td>\n",
       "      <td>1</td>\n",
       "      <td>9</td>\n",
       "    </tr>\n",
       "    <tr>\n",
       "      <th>2</th>\n",
       "      <td>2</td>\n",
       "      <td>1</td>\n",
       "      <td>10</td>\n",
       "    </tr>\n",
       "    <tr>\n",
       "      <th>3</th>\n",
       "      <td>3</td>\n",
       "      <td>1</td>\n",
       "      <td>11</td>\n",
       "    </tr>\n",
       "    <tr>\n",
       "      <th>4</th>\n",
       "      <td>4</td>\n",
       "      <td>1</td>\n",
       "      <td>13</td>\n",
       "    </tr>\n",
       "  </tbody>\n",
       "</table>\n",
       "</div>"
      ],
      "text/plain": [
       "   item_category_id  type_code  subtype_code\n",
       "0                 0          0            29\n",
       "1                 1          1             9\n",
       "2                 2          1            10\n",
       "3                 3          1            11\n",
       "4                 4          1            13"
      ]
     },
     "execution_count": 22,
     "metadata": {},
     "output_type": "execute_result"
    }
   ],
   "source": [
    "item_categories.head()"
   ]
  },
  {
   "cell_type": "code",
   "execution_count": 23,
   "metadata": {},
   "outputs": [
    {
     "data": {
      "text/plain": [
       "item_category_id    84\n",
       "type_code           20\n",
       "subtype_code        65\n",
       "dtype: int64"
      ]
     },
     "execution_count": 23,
     "metadata": {},
     "output_type": "execute_result"
    }
   ],
   "source": [
    "item_categories.nunique()"
   ]
  },
  {
   "cell_type": "code",
   "execution_count": 24,
   "metadata": {
    "colab": {
     "base_uri": "https://localhost:8080/",
     "height": 204
    },
    "colab_type": "code",
    "executionInfo": {
     "elapsed": 15018,
     "status": "ok",
     "timestamp": 1561965852604,
     "user": {
      "displayName": "Shengbing YU",
      "photoUrl": "",
      "userId": "03994843105687918628"
     },
     "user_tz": -600
    },
    "id": "lUqOwnwEPhew",
    "outputId": "f564242e-e319-4d11-dc4c-102e0f19fd0c"
   },
   "outputs": [
    {
     "data": {
      "text/html": [
       "<div>\n",
       "<style scoped>\n",
       "    .dataframe tbody tr th:only-of-type {\n",
       "        vertical-align: middle;\n",
       "    }\n",
       "\n",
       "    .dataframe tbody tr th {\n",
       "        vertical-align: top;\n",
       "    }\n",
       "\n",
       "    .dataframe thead th {\n",
       "        text-align: right;\n",
       "    }\n",
       "</style>\n",
       "<table border=\"1\" class=\"dataframe\">\n",
       "  <thead>\n",
       "    <tr style=\"text-align: right;\">\n",
       "      <th></th>\n",
       "      <th>item_id</th>\n",
       "      <th>item_category_id</th>\n",
       "    </tr>\n",
       "  </thead>\n",
       "  <tbody>\n",
       "    <tr>\n",
       "      <th>0</th>\n",
       "      <td>0</td>\n",
       "      <td>40</td>\n",
       "    </tr>\n",
       "    <tr>\n",
       "      <th>1</th>\n",
       "      <td>1</td>\n",
       "      <td>76</td>\n",
       "    </tr>\n",
       "    <tr>\n",
       "      <th>2</th>\n",
       "      <td>2</td>\n",
       "      <td>40</td>\n",
       "    </tr>\n",
       "    <tr>\n",
       "      <th>3</th>\n",
       "      <td>3</td>\n",
       "      <td>40</td>\n",
       "    </tr>\n",
       "    <tr>\n",
       "      <th>4</th>\n",
       "      <td>4</td>\n",
       "      <td>40</td>\n",
       "    </tr>\n",
       "  </tbody>\n",
       "</table>\n",
       "</div>"
      ],
      "text/plain": [
       "   item_id  item_category_id\n",
       "0        0                40\n",
       "1        1                76\n",
       "2        2                40\n",
       "3        3                40\n",
       "4        4                40"
      ]
     },
     "execution_count": 24,
     "metadata": {},
     "output_type": "execute_result"
    }
   ],
   "source": [
    "items.head()"
   ]
  },
  {
   "cell_type": "markdown",
   "metadata": {
    "colab_type": "text",
    "id": "xpv2G3TQPhe1"
   },
   "source": [
    "## 2.3. ID values of Train and test data<a name=\"Making23\"></a>\n"
   ]
  },
  {
   "cell_type": "code",
   "execution_count": 25,
   "metadata": {
    "colab": {
     "base_uri": "https://localhost:8080/",
     "height": 34
    },
    "colab_type": "code",
    "executionInfo": {
     "elapsed": 15216,
     "status": "ok",
     "timestamp": 1561965852854,
     "user": {
      "displayName": "Shengbing YU",
      "photoUrl": "",
      "userId": "03994843105687918628"
     },
     "user_tz": -600
    },
    "id": "AfpwxLcHPhe2",
    "outputId": "8cce8dfb-16f3-4e67-8358-5928c0f5d7bd"
   },
   "outputs": [
    {
     "name": "stdout",
     "output_type": "stream",
     "text": [
      "[ True]\n"
     ]
    }
   ],
   "source": [
    "# test1 = test.copy()\n",
    "# test1['key'] = test1['shop_id'].astype(str) + '_' + test1['item_id'].astype(str)\n",
    "# print(test1['key'].nunique() == len(test1))\n",
    "# del test1\n",
    "print(test.duplicated(subset=['shop_id','item_id']).value_counts().values == len(test))"
   ]
  },
  {
   "cell_type": "code",
   "execution_count": 26,
   "metadata": {
    "colab": {
     "base_uri": "https://localhost:8080/",
     "height": 68
    },
    "colab_type": "code",
    "executionInfo": {
     "elapsed": 15861,
     "status": "ok",
     "timestamp": 1561965853550,
     "user": {
      "displayName": "Shengbing YU",
      "photoUrl": "",
      "userId": "03994843105687918628"
     },
     "user_tz": -600
    },
    "id": "tmWmXW_IPhe4",
    "outputId": "6236b8ba-e3f7-4ed1-b3f2-0caee9a33397"
   },
   "outputs": [
    {
     "name": "stdout",
     "output_type": "stream",
     "text": [
      "number of item_id in test set 5100\n",
      "number of item_id in train set 21807\n",
      "number of difference between two above -16707\n",
      "number of item_id include in test but not in sales_train 363\n",
      "number of item_id include in sales_train but not in test 17070\n"
     ]
    }
   ],
   "source": [
    "print('number of item_id in test set', test.item_id.nunique())\n",
    "print('number of item_id in train set', sales_train.item_id.nunique())\n",
    "diff = test.item_id.nunique() - sales_train.item_id.nunique()\n",
    "print('number of difference between two above', diff)\n",
    "diff = set(test.item_id) - set(sales_train.item_id)\n",
    "print('number of item_id include in test but not in sales_train', len(diff))\n",
    "diff =   set(sales_train.item_id) - set(test.item_id)\n",
    "print('number of item_id include in sales_train but not in test', len(diff))"
   ]
  },
  {
   "cell_type": "code",
   "execution_count": 27,
   "metadata": {},
   "outputs": [
    {
     "name": "stdout",
     "output_type": "stream",
     "text": [
      "number of shop_id in test set 42\n",
      "number of shop_id in train set 57\n",
      "number of difference between two above -15\n",
      "number of shop_id include in test but not in sales_train 0\n",
      "number of shop_id include in sales_train but not in test 15\n"
     ]
    }
   ],
   "source": [
    "print('number of shop_id in test set', test.shop_id.nunique())\n",
    "print('number of shop_id in train set', sales_train.shop_id.nunique())\n",
    "diff = test.shop_id.nunique() - sales_train.shop_id.nunique()\n",
    "print('number of difference between two above', diff)\n",
    "diff = set(test.shop_id) - set(sales_train.shop_id)\n",
    "print('number of shop_id include in test but not in sales_train', len(diff))\n",
    "diff =   set(sales_train.shop_id) - set(test.shop_id)\n",
    "print('number of shop_id include in sales_train but not in test', len(diff))"
   ]
  },
  {
   "cell_type": "markdown",
   "metadata": {
    "colab_type": "text",
    "id": "_a86LNA2Phe6"
   },
   "source": [
    "#### Note\n",
    "The difference of unique number of item_id between test and sales_train data set indicates that there are 363 item_ids which are not included in sales_train data set. We need to add these item_ids into our train data set so that train data will be similar to test data.   \n",
    "Tha main idea is to calculate monthly sales and extend it with zero sales for each unique pair within the month. "
   ]
  },
  {
   "cell_type": "code",
   "execution_count": 28,
   "metadata": {},
   "outputs": [
    {
     "name": "stdout",
     "output_type": "stream",
     "text": [
      "Number of unique item_id  22170\n",
      "Number of unique shop_id  57\n",
      "Number of unique shop_id item_id pairs  521638\n"
     ]
    }
   ],
   "source": [
    "cols = ['shop_id','item_id']\n",
    "unique_key = pd.concat([test[cols], sales_train[cols]], ignore_index=True, sort=False)\n",
    "print('Number of unique item_id ',unique_key.item_id.nunique())\n",
    "print('Number of unique shop_id ',unique_key.shop_id.nunique())\n",
    "unique_key.drop_duplicates(subset=cols, inplace=True)\n",
    "print('Number of unique shop_id item_id pairs ',unique_key.shape[0])"
   ]
  },
  {
   "cell_type": "code",
   "execution_count": 29,
   "metadata": {},
   "outputs": [
    {
     "name": "stdout",
     "output_type": "stream",
     "text": [
      "Number of unique shop_id item_id pairs  441092\n"
     ]
    }
   ],
   "source": [
    "if 1: # delete shop_id which not include in test\n",
    "    unique_key = unique_key.merge(test[['shop_id']].drop_duplicates(), how = 'inner')\n",
    "    print('Number of unique shop_id item_id pairs ',unique_key.shape[0])"
   ]
  },
  {
   "cell_type": "code",
   "execution_count": 30,
   "metadata": {},
   "outputs": [
    {
     "name": "stdout",
     "output_type": "stream",
     "text": [
      "Number of unique shop_id item_id pairs  214200\n"
     ]
    }
   ],
   "source": [
    "if 1: # delete item_id which not include in test\n",
    "    unique_key = unique_key.merge(test[['item_id']].drop_duplicates(), how = 'inner')\n",
    "    print('Number of unique shop_id item_id pairs ',unique_key.shape[0])"
   ]
  },
  {
   "cell_type": "code",
   "execution_count": 31,
   "metadata": {},
   "outputs": [
    {
     "data": {
      "text/plain": [
       "(214200, 3)"
      ]
     },
     "execution_count": 31,
     "metadata": {},
     "output_type": "execute_result"
    }
   ],
   "source": [
    "test.shape"
   ]
  },
  {
   "cell_type": "code",
   "execution_count": 32,
   "metadata": {},
   "outputs": [
    {
     "data": {
      "text/plain": [
       "shop_id      42\n",
       "item_id    5100\n",
       "dtype: int64"
      ]
     },
     "execution_count": 32,
     "metadata": {},
     "output_type": "execute_result"
    }
   ],
   "source": [
    "unique_key.nunique()"
   ]
  },
  {
   "cell_type": "code",
   "execution_count": 33,
   "metadata": {
    "colab": {
     "base_uri": "https://localhost:8080/",
     "height": 34
    },
    "colab_type": "code",
    "executionInfo": {
     "elapsed": 24950,
     "status": "ok",
     "timestamp": 1561965862686,
     "user": {
      "displayName": "Shengbing YU",
      "photoUrl": "",
      "userId": "03994843105687918628"
     },
     "user_tz": -600
    },
    "id": "WeAPQEDbPhe7",
    "outputId": "11206834-48bc-4ced-b1ee-329e04a0d85f"
   },
   "outputs": [
    {
     "name": "stderr",
     "output_type": "stream",
     "text": [
      "100%|██████████| 34/34 [00:00<00:00, 55.33it/s] \n"
     ]
    }
   ],
   "source": [
    "test1 = test.copy()\n",
    "test1['date_block_num'] = 34\n",
    "cols = ['date_block_num','shop_id','item_id']\n",
    "\n",
    "matrix = pd.DataFrame()\n",
    "# from itertools import product\n",
    "# grid = []\n",
    "# sales1 = sales_train.merge(test[['shop_id']].drop_duplicates(), how = 'inner')\n",
    "for i in tqdm(range(0,34)):\n",
    "    unique_key['date_block_num'] = i\n",
    "    matrix = pd.concat([matrix,unique_key])\n",
    "\n",
    "matrix = pd.concat([matrix,test1[cols]], ignore_index=True, sort=False)\n",
    "del test1, unique_key"
   ]
  },
  {
   "cell_type": "code",
   "execution_count": 34,
   "metadata": {},
   "outputs": [
    {
     "name": "stdout",
     "output_type": "stream",
     "text": [
      "shop_id    0.0\n",
      "item_id    0.0\n",
      "dtype: float64\n"
     ]
    }
   ],
   "source": [
    "matrix.sort_values(['date_block_num','shop_id','item_id'],inplace=True)\n",
    "\n",
    "# check id order\n",
    "matrix_tmp = matrix.copy()\n",
    "for m in range(0,35):\n",
    "    matrix_tmp.loc[matrix.date_block_num==m,['shop_id','item_id']] -= test[['shop_id','item_id']]\n",
    "print(matrix_tmp.loc[:,['shop_id','item_id']].sum())\n",
    "del matrix_tmp"
   ]
  },
  {
   "cell_type": "code",
   "execution_count": 35,
   "metadata": {},
   "outputs": [
    {
     "name": "stdout",
     "output_type": "stream",
     "text": [
      "(7497000, 3) (7282800, 3)\n"
     ]
    },
    {
     "data": {
      "text/html": [
       "<div>\n",
       "<style scoped>\n",
       "    .dataframe tbody tr th:only-of-type {\n",
       "        vertical-align: middle;\n",
       "    }\n",
       "\n",
       "    .dataframe tbody tr th {\n",
       "        vertical-align: top;\n",
       "    }\n",
       "\n",
       "    .dataframe thead th {\n",
       "        text-align: right;\n",
       "    }\n",
       "</style>\n",
       "<table border=\"1\" class=\"dataframe\">\n",
       "  <thead>\n",
       "    <tr style=\"text-align: right;\">\n",
       "      <th></th>\n",
       "      <th>shop_id</th>\n",
       "      <th>item_id</th>\n",
       "      <th>date_block_num</th>\n",
       "    </tr>\n",
       "  </thead>\n",
       "  <tbody>\n",
       "    <tr>\n",
       "      <th>7432375</th>\n",
       "      <td>59</td>\n",
       "      <td>22162</td>\n",
       "      <td>34</td>\n",
       "    </tr>\n",
       "    <tr>\n",
       "      <th>7431599</th>\n",
       "      <td>59</td>\n",
       "      <td>22163</td>\n",
       "      <td>34</td>\n",
       "    </tr>\n",
       "    <tr>\n",
       "      <th>7432042</th>\n",
       "      <td>59</td>\n",
       "      <td>22164</td>\n",
       "      <td>34</td>\n",
       "    </tr>\n",
       "    <tr>\n",
       "      <th>7435128</th>\n",
       "      <td>59</td>\n",
       "      <td>22166</td>\n",
       "      <td>34</td>\n",
       "    </tr>\n",
       "    <tr>\n",
       "      <th>7431177</th>\n",
       "      <td>59</td>\n",
       "      <td>22167</td>\n",
       "      <td>34</td>\n",
       "    </tr>\n",
       "  </tbody>\n",
       "</table>\n",
       "</div>"
      ],
      "text/plain": [
       "         shop_id  item_id  date_block_num\n",
       "7432375       59    22162              34\n",
       "7431599       59    22163              34\n",
       "7432042       59    22164              34\n",
       "7435128       59    22166              34\n",
       "7431177       59    22167              34"
      ]
     },
     "execution_count": 35,
     "metadata": {},
     "output_type": "execute_result"
    }
   ],
   "source": [
    "print(matrix.shape, matrix[matrix.date_block_num<34].shape)\n",
    "matrix.tail()"
   ]
  },
  {
   "cell_type": "markdown",
   "metadata": {
    "colab_type": "text",
    "id": "bEuvNhKcPhe-"
   },
   "source": [
    "## 2.4. Text features with TF-IDF<a name=\"Text24\"></a>"
   ]
  },
  {
   "cell_type": "code",
   "execution_count": 36,
   "metadata": {
    "colab": {
     "base_uri": "https://localhost:8080/",
     "height": 414
    },
    "colab_type": "code",
    "executionInfo": {
     "elapsed": 25197,
     "status": "ok",
     "timestamp": 1561965862983,
     "user": {
      "displayName": "Shengbing YU",
      "photoUrl": "",
      "userId": "03994843105687918628"
     },
     "user_tz": -600
    },
    "id": "DEu2yD_UPhe_",
    "outputId": "ecd79db8-0fa9-4010-fc2f-d106a6a27495"
   },
   "outputs": [
    {
     "data": {
      "text/html": [
       "<div>\n",
       "<style scoped>\n",
       "    .dataframe tbody tr th:only-of-type {\n",
       "        vertical-align: middle;\n",
       "    }\n",
       "\n",
       "    .dataframe tbody tr th {\n",
       "        vertical-align: top;\n",
       "    }\n",
       "\n",
       "    .dataframe thead th {\n",
       "        text-align: right;\n",
       "    }\n",
       "</style>\n",
       "<table border=\"1\" class=\"dataframe\">\n",
       "  <thead>\n",
       "    <tr style=\"text-align: right;\">\n",
       "      <th></th>\n",
       "      <th>item_name</th>\n",
       "      <th>item_id</th>\n",
       "      <th>item_category_id</th>\n",
       "      <th>item_name_len</th>\n",
       "      <th>item_name_wc</th>\n",
       "      <th>item_name_tfidf_0</th>\n",
       "      <th>item_name_tfidf_1</th>\n",
       "      <th>item_name_tfidf_2</th>\n",
       "      <th>item_name_tfidf_3</th>\n",
       "      <th>item_name_tfidf_4</th>\n",
       "      <th>item_name_tfidf_5</th>\n",
       "      <th>item_name_tfidf_6</th>\n",
       "      <th>item_name_tfidf_7</th>\n",
       "      <th>item_name_tfidf_8</th>\n",
       "      <th>item_name_tfidf_9</th>\n",
       "      <th>item_name_tfidf_10</th>\n",
       "      <th>item_name_tfidf_11</th>\n",
       "      <th>item_name_tfidf_12</th>\n",
       "      <th>item_name_tfidf_13</th>\n",
       "      <th>item_name_tfidf_14</th>\n",
       "      <th>item_name_tfidf_15</th>\n",
       "      <th>item_name_tfidf_16</th>\n",
       "      <th>item_name_tfidf_17</th>\n",
       "      <th>item_name_tfidf_18</th>\n",
       "      <th>item_name_tfidf_19</th>\n",
       "      <th>item_name_tfidf_20</th>\n",
       "      <th>item_name_tfidf_21</th>\n",
       "      <th>item_name_tfidf_22</th>\n",
       "      <th>item_name_tfidf_23</th>\n",
       "      <th>item_name_tfidf_24</th>\n",
       "    </tr>\n",
       "  </thead>\n",
       "  <tbody>\n",
       "    <tr>\n",
       "      <th>0</th>\n",
       "      <td>! ВО ВЛАСТИ НАВАЖДЕНИЯ (ПЛАСТ.)         D</td>\n",
       "      <td>0</td>\n",
       "      <td>40</td>\n",
       "      <td>41</td>\n",
       "      <td>14</td>\n",
       "      <td>0.0</td>\n",
       "      <td>0.0</td>\n",
       "      <td>0.0</td>\n",
       "      <td>0.0</td>\n",
       "      <td>0.0</td>\n",
       "      <td>0.0</td>\n",
       "      <td>0.0</td>\n",
       "      <td>0.000000</td>\n",
       "      <td>0.0</td>\n",
       "      <td>0.0</td>\n",
       "      <td>0.0</td>\n",
       "      <td>0.0</td>\n",
       "      <td>0.000000</td>\n",
       "      <td>0.0</td>\n",
       "      <td>0.0</td>\n",
       "      <td>0.0</td>\n",
       "      <td>0.000000</td>\n",
       "      <td>0.0</td>\n",
       "      <td>0.0</td>\n",
       "      <td>0.0</td>\n",
       "      <td>0.0</td>\n",
       "      <td>0.0</td>\n",
       "      <td>0.0</td>\n",
       "      <td>0.0</td>\n",
       "      <td>0.000000</td>\n",
       "    </tr>\n",
       "    <tr>\n",
       "      <th>1</th>\n",
       "      <td>!ABBYY FineReader 12 Professional Edition Full...</td>\n",
       "      <td>1</td>\n",
       "      <td>76</td>\n",
       "      <td>68</td>\n",
       "      <td>9</td>\n",
       "      <td>0.0</td>\n",
       "      <td>0.0</td>\n",
       "      <td>0.0</td>\n",
       "      <td>0.0</td>\n",
       "      <td>0.0</td>\n",
       "      <td>0.0</td>\n",
       "      <td>0.0</td>\n",
       "      <td>0.637695</td>\n",
       "      <td>0.0</td>\n",
       "      <td>0.0</td>\n",
       "      <td>0.0</td>\n",
       "      <td>0.0</td>\n",
       "      <td>0.442627</td>\n",
       "      <td>0.0</td>\n",
       "      <td>0.0</td>\n",
       "      <td>0.0</td>\n",
       "      <td>0.403809</td>\n",
       "      <td>0.0</td>\n",
       "      <td>0.0</td>\n",
       "      <td>0.0</td>\n",
       "      <td>0.0</td>\n",
       "      <td>0.0</td>\n",
       "      <td>0.0</td>\n",
       "      <td>0.0</td>\n",
       "      <td>0.483887</td>\n",
       "    </tr>\n",
       "    <tr>\n",
       "      <th>2</th>\n",
       "      <td>***В ЛУЧАХ СЛАВЫ   (UNV)                    D</td>\n",
       "      <td>2</td>\n",
       "      <td>40</td>\n",
       "      <td>45</td>\n",
       "      <td>26</td>\n",
       "      <td>0.0</td>\n",
       "      <td>0.0</td>\n",
       "      <td>0.0</td>\n",
       "      <td>0.0</td>\n",
       "      <td>0.0</td>\n",
       "      <td>0.0</td>\n",
       "      <td>0.0</td>\n",
       "      <td>0.000000</td>\n",
       "      <td>0.0</td>\n",
       "      <td>0.0</td>\n",
       "      <td>0.0</td>\n",
       "      <td>0.0</td>\n",
       "      <td>0.000000</td>\n",
       "      <td>0.0</td>\n",
       "      <td>0.0</td>\n",
       "      <td>0.0</td>\n",
       "      <td>0.000000</td>\n",
       "      <td>0.0</td>\n",
       "      <td>0.0</td>\n",
       "      <td>0.0</td>\n",
       "      <td>0.0</td>\n",
       "      <td>0.0</td>\n",
       "      <td>0.0</td>\n",
       "      <td>0.0</td>\n",
       "      <td>0.000000</td>\n",
       "    </tr>\n",
       "    <tr>\n",
       "      <th>3</th>\n",
       "      <td>***ГОЛУБАЯ ВОЛНА  (Univ)                      D</td>\n",
       "      <td>3</td>\n",
       "      <td>40</td>\n",
       "      <td>47</td>\n",
       "      <td>26</td>\n",
       "      <td>0.0</td>\n",
       "      <td>0.0</td>\n",
       "      <td>0.0</td>\n",
       "      <td>0.0</td>\n",
       "      <td>0.0</td>\n",
       "      <td>0.0</td>\n",
       "      <td>0.0</td>\n",
       "      <td>0.000000</td>\n",
       "      <td>0.0</td>\n",
       "      <td>0.0</td>\n",
       "      <td>0.0</td>\n",
       "      <td>0.0</td>\n",
       "      <td>0.000000</td>\n",
       "      <td>0.0</td>\n",
       "      <td>0.0</td>\n",
       "      <td>0.0</td>\n",
       "      <td>0.000000</td>\n",
       "      <td>0.0</td>\n",
       "      <td>0.0</td>\n",
       "      <td>0.0</td>\n",
       "      <td>0.0</td>\n",
       "      <td>0.0</td>\n",
       "      <td>0.0</td>\n",
       "      <td>0.0</td>\n",
       "      <td>0.000000</td>\n",
       "    </tr>\n",
       "    <tr>\n",
       "      <th>4</th>\n",
       "      <td>***КОРОБКА (СТЕКЛО)                       D</td>\n",
       "      <td>4</td>\n",
       "      <td>40</td>\n",
       "      <td>43</td>\n",
       "      <td>25</td>\n",
       "      <td>0.0</td>\n",
       "      <td>0.0</td>\n",
       "      <td>0.0</td>\n",
       "      <td>0.0</td>\n",
       "      <td>0.0</td>\n",
       "      <td>0.0</td>\n",
       "      <td>0.0</td>\n",
       "      <td>0.000000</td>\n",
       "      <td>0.0</td>\n",
       "      <td>0.0</td>\n",
       "      <td>0.0</td>\n",
       "      <td>0.0</td>\n",
       "      <td>0.000000</td>\n",
       "      <td>0.0</td>\n",
       "      <td>0.0</td>\n",
       "      <td>0.0</td>\n",
       "      <td>0.000000</td>\n",
       "      <td>0.0</td>\n",
       "      <td>0.0</td>\n",
       "      <td>0.0</td>\n",
       "      <td>0.0</td>\n",
       "      <td>0.0</td>\n",
       "      <td>0.0</td>\n",
       "      <td>0.0</td>\n",
       "      <td>0.000000</td>\n",
       "    </tr>\n",
       "  </tbody>\n",
       "</table>\n",
       "</div>"
      ],
      "text/plain": [
       "                                           item_name  item_id  \\\n",
       "0          ! ВО ВЛАСТИ НАВАЖДЕНИЯ (ПЛАСТ.)         D        0   \n",
       "1  !ABBYY FineReader 12 Professional Edition Full...        1   \n",
       "2      ***В ЛУЧАХ СЛАВЫ   (UNV)                    D        2   \n",
       "3    ***ГОЛУБАЯ ВОЛНА  (Univ)                      D        3   \n",
       "4        ***КОРОБКА (СТЕКЛО)                       D        4   \n",
       "\n",
       "   item_category_id  item_name_len  item_name_wc  item_name_tfidf_0  \\\n",
       "0                40             41            14                0.0   \n",
       "1                76             68             9                0.0   \n",
       "2                40             45            26                0.0   \n",
       "3                40             47            26                0.0   \n",
       "4                40             43            25                0.0   \n",
       "\n",
       "   item_name_tfidf_1  item_name_tfidf_2  item_name_tfidf_3  item_name_tfidf_4  \\\n",
       "0                0.0                0.0                0.0                0.0   \n",
       "1                0.0                0.0                0.0                0.0   \n",
       "2                0.0                0.0                0.0                0.0   \n",
       "3                0.0                0.0                0.0                0.0   \n",
       "4                0.0                0.0                0.0                0.0   \n",
       "\n",
       "   item_name_tfidf_5  item_name_tfidf_6  item_name_tfidf_7  item_name_tfidf_8  \\\n",
       "0                0.0                0.0           0.000000                0.0   \n",
       "1                0.0                0.0           0.637695                0.0   \n",
       "2                0.0                0.0           0.000000                0.0   \n",
       "3                0.0                0.0           0.000000                0.0   \n",
       "4                0.0                0.0           0.000000                0.0   \n",
       "\n",
       "   item_name_tfidf_9  item_name_tfidf_10  item_name_tfidf_11  \\\n",
       "0                0.0                 0.0                 0.0   \n",
       "1                0.0                 0.0                 0.0   \n",
       "2                0.0                 0.0                 0.0   \n",
       "3                0.0                 0.0                 0.0   \n",
       "4                0.0                 0.0                 0.0   \n",
       "\n",
       "   item_name_tfidf_12  item_name_tfidf_13  item_name_tfidf_14  \\\n",
       "0            0.000000                 0.0                 0.0   \n",
       "1            0.442627                 0.0                 0.0   \n",
       "2            0.000000                 0.0                 0.0   \n",
       "3            0.000000                 0.0                 0.0   \n",
       "4            0.000000                 0.0                 0.0   \n",
       "\n",
       "   item_name_tfidf_15  item_name_tfidf_16  item_name_tfidf_17  \\\n",
       "0                 0.0            0.000000                 0.0   \n",
       "1                 0.0            0.403809                 0.0   \n",
       "2                 0.0            0.000000                 0.0   \n",
       "3                 0.0            0.000000                 0.0   \n",
       "4                 0.0            0.000000                 0.0   \n",
       "\n",
       "   item_name_tfidf_18  item_name_tfidf_19  item_name_tfidf_20  \\\n",
       "0                 0.0                 0.0                 0.0   \n",
       "1                 0.0                 0.0                 0.0   \n",
       "2                 0.0                 0.0                 0.0   \n",
       "3                 0.0                 0.0                 0.0   \n",
       "4                 0.0                 0.0                 0.0   \n",
       "\n",
       "   item_name_tfidf_21  item_name_tfidf_22  item_name_tfidf_23  \\\n",
       "0                 0.0                 0.0                 0.0   \n",
       "1                 0.0                 0.0                 0.0   \n",
       "2                 0.0                 0.0                 0.0   \n",
       "3                 0.0                 0.0                 0.0   \n",
       "4                 0.0                 0.0                 0.0   \n",
       "\n",
       "   item_name_tfidf_24  \n",
       "0            0.000000  \n",
       "1            0.483887  \n",
       "2            0.000000  \n",
       "3            0.000000  \n",
       "4            0.000000  "
      ]
     },
     "execution_count": 36,
     "metadata": {},
     "output_type": "execute_result"
    }
   ],
   "source": [
    "nb_features = 25\n",
    "tfidf = text.TfidfVectorizer(max_features=nb_features)\n",
    "items_copy['item_name_len'] = items_copy['item_name'].map(len).astype(np.int8)  # Name lenth\n",
    "items_copy['item_name_wc'] = items_copy['item_name'].map(\n",
    "    lambda x: len(str(x).split(' '))).astype(np.int8)  # Word Count\n",
    "txtFeatures = pd.DataFrame(tfidf.fit_transform(items_copy['item_name']).toarray())\n",
    "cols = txtFeatures.columns\n",
    "for i in range(nb_features):\n",
    "    items_copy['item_name_tfidf_' + str(i)] = txtFeatures[cols[i]].astype(np.float16)\n",
    "items_copy.head()"
   ]
  },
  {
   "cell_type": "code",
   "execution_count": 38,
   "metadata": {
    "colab": {
     "base_uri": "https://localhost:8080/",
     "height": 380
    },
    "colab_type": "code",
    "executionInfo": {
     "elapsed": 25157,
     "status": "ok",
     "timestamp": 1561965862986,
     "user": {
      "displayName": "Shengbing YU",
      "photoUrl": "",
      "userId": "03994843105687918628"
     },
     "user_tz": -600
    },
    "id": "HdKsacZOPhfB",
    "outputId": "3f78c871-a1c8-4533-84b4-fe047bc62885"
   },
   "outputs": [
    {
     "data": {
      "text/html": [
       "<div>\n",
       "<style scoped>\n",
       "    .dataframe tbody tr th:only-of-type {\n",
       "        vertical-align: middle;\n",
       "    }\n",
       "\n",
       "    .dataframe tbody tr th {\n",
       "        vertical-align: top;\n",
       "    }\n",
       "\n",
       "    .dataframe thead th {\n",
       "        text-align: right;\n",
       "    }\n",
       "</style>\n",
       "<table border=\"1\" class=\"dataframe\">\n",
       "  <thead>\n",
       "    <tr style=\"text-align: right;\">\n",
       "      <th></th>\n",
       "      <th>shop_name</th>\n",
       "      <th>shop_id</th>\n",
       "      <th>shop_name_len</th>\n",
       "      <th>shop_name_wc</th>\n",
       "      <th>shop_name_tfidf_0</th>\n",
       "      <th>shop_name_tfidf_1</th>\n",
       "      <th>shop_name_tfidf_2</th>\n",
       "      <th>shop_name_tfidf_3</th>\n",
       "      <th>shop_name_tfidf_4</th>\n",
       "      <th>shop_name_tfidf_5</th>\n",
       "      <th>shop_name_tfidf_6</th>\n",
       "      <th>shop_name_tfidf_7</th>\n",
       "      <th>shop_name_tfidf_8</th>\n",
       "      <th>shop_name_tfidf_9</th>\n",
       "      <th>shop_name_tfidf_10</th>\n",
       "      <th>shop_name_tfidf_11</th>\n",
       "      <th>shop_name_tfidf_12</th>\n",
       "      <th>shop_name_tfidf_13</th>\n",
       "      <th>shop_name_tfidf_14</th>\n",
       "      <th>shop_name_tfidf_15</th>\n",
       "      <th>shop_name_tfidf_16</th>\n",
       "      <th>shop_name_tfidf_17</th>\n",
       "      <th>shop_name_tfidf_18</th>\n",
       "      <th>shop_name_tfidf_19</th>\n",
       "      <th>shop_name_tfidf_20</th>\n",
       "      <th>shop_name_tfidf_21</th>\n",
       "      <th>shop_name_tfidf_22</th>\n",
       "      <th>shop_name_tfidf_23</th>\n",
       "      <th>shop_name_tfidf_24</th>\n",
       "    </tr>\n",
       "  </thead>\n",
       "  <tbody>\n",
       "    <tr>\n",
       "      <th>0</th>\n",
       "      <td>!Якутск Орджоникидзе, 56 фран</td>\n",
       "      <td>0</td>\n",
       "      <td>29</td>\n",
       "      <td>4</td>\n",
       "      <td>0.0</td>\n",
       "      <td>0.0</td>\n",
       "      <td>0.0</td>\n",
       "      <td>0.0</td>\n",
       "      <td>0.0</td>\n",
       "      <td>0.0</td>\n",
       "      <td>0.0</td>\n",
       "      <td>0.0</td>\n",
       "      <td>0.000000</td>\n",
       "      <td>0.000000</td>\n",
       "      <td>0.0</td>\n",
       "      <td>0.0</td>\n",
       "      <td>0.0</td>\n",
       "      <td>0.0</td>\n",
       "      <td>0.0</td>\n",
       "      <td>0.0</td>\n",
       "      <td>0.0</td>\n",
       "      <td>0.0</td>\n",
       "      <td>0.0</td>\n",
       "      <td>0.0</td>\n",
       "      <td>0.0</td>\n",
       "      <td>0.000000</td>\n",
       "      <td>0.0</td>\n",
       "      <td>0.000000</td>\n",
       "      <td>1.000000</td>\n",
       "    </tr>\n",
       "    <tr>\n",
       "      <th>1</th>\n",
       "      <td>!Якутск ТЦ \"Центральный\" фран</td>\n",
       "      <td>1</td>\n",
       "      <td>29</td>\n",
       "      <td>4</td>\n",
       "      <td>0.0</td>\n",
       "      <td>0.0</td>\n",
       "      <td>0.0</td>\n",
       "      <td>0.0</td>\n",
       "      <td>0.0</td>\n",
       "      <td>0.0</td>\n",
       "      <td>0.0</td>\n",
       "      <td>0.0</td>\n",
       "      <td>0.000000</td>\n",
       "      <td>0.000000</td>\n",
       "      <td>0.0</td>\n",
       "      <td>0.0</td>\n",
       "      <td>0.0</td>\n",
       "      <td>0.0</td>\n",
       "      <td>0.0</td>\n",
       "      <td>0.0</td>\n",
       "      <td>0.0</td>\n",
       "      <td>0.0</td>\n",
       "      <td>0.0</td>\n",
       "      <td>0.0</td>\n",
       "      <td>0.0</td>\n",
       "      <td>0.322754</td>\n",
       "      <td>0.0</td>\n",
       "      <td>0.689453</td>\n",
       "      <td>0.648438</td>\n",
       "    </tr>\n",
       "    <tr>\n",
       "      <th>2</th>\n",
       "      <td>Адыгея ТЦ \"Мега\"</td>\n",
       "      <td>2</td>\n",
       "      <td>16</td>\n",
       "      <td>3</td>\n",
       "      <td>0.0</td>\n",
       "      <td>0.0</td>\n",
       "      <td>0.0</td>\n",
       "      <td>0.0</td>\n",
       "      <td>0.0</td>\n",
       "      <td>0.0</td>\n",
       "      <td>0.0</td>\n",
       "      <td>0.0</td>\n",
       "      <td>0.866699</td>\n",
       "      <td>0.000000</td>\n",
       "      <td>0.0</td>\n",
       "      <td>0.0</td>\n",
       "      <td>0.0</td>\n",
       "      <td>0.0</td>\n",
       "      <td>0.0</td>\n",
       "      <td>0.0</td>\n",
       "      <td>0.0</td>\n",
       "      <td>0.0</td>\n",
       "      <td>0.0</td>\n",
       "      <td>0.0</td>\n",
       "      <td>0.0</td>\n",
       "      <td>0.498535</td>\n",
       "      <td>0.0</td>\n",
       "      <td>0.000000</td>\n",
       "      <td>0.000000</td>\n",
       "    </tr>\n",
       "    <tr>\n",
       "      <th>3</th>\n",
       "      <td>Балашиха ТРК \"Октябрь-Киномир\"</td>\n",
       "      <td>3</td>\n",
       "      <td>30</td>\n",
       "      <td>3</td>\n",
       "      <td>0.0</td>\n",
       "      <td>0.0</td>\n",
       "      <td>0.0</td>\n",
       "      <td>0.0</td>\n",
       "      <td>0.0</td>\n",
       "      <td>0.0</td>\n",
       "      <td>0.0</td>\n",
       "      <td>0.0</td>\n",
       "      <td>0.000000</td>\n",
       "      <td>0.000000</td>\n",
       "      <td>0.0</td>\n",
       "      <td>0.0</td>\n",
       "      <td>0.0</td>\n",
       "      <td>0.0</td>\n",
       "      <td>0.0</td>\n",
       "      <td>0.0</td>\n",
       "      <td>0.0</td>\n",
       "      <td>0.0</td>\n",
       "      <td>0.0</td>\n",
       "      <td>1.0</td>\n",
       "      <td>0.0</td>\n",
       "      <td>0.000000</td>\n",
       "      <td>0.0</td>\n",
       "      <td>0.000000</td>\n",
       "      <td>0.000000</td>\n",
       "    </tr>\n",
       "    <tr>\n",
       "      <th>4</th>\n",
       "      <td>Волжский ТЦ \"Волга Молл\"</td>\n",
       "      <td>4</td>\n",
       "      <td>24</td>\n",
       "      <td>4</td>\n",
       "      <td>0.0</td>\n",
       "      <td>0.0</td>\n",
       "      <td>0.0</td>\n",
       "      <td>0.0</td>\n",
       "      <td>0.0</td>\n",
       "      <td>0.0</td>\n",
       "      <td>0.0</td>\n",
       "      <td>0.0</td>\n",
       "      <td>0.000000</td>\n",
       "      <td>0.905762</td>\n",
       "      <td>0.0</td>\n",
       "      <td>0.0</td>\n",
       "      <td>0.0</td>\n",
       "      <td>0.0</td>\n",
       "      <td>0.0</td>\n",
       "      <td>0.0</td>\n",
       "      <td>0.0</td>\n",
       "      <td>0.0</td>\n",
       "      <td>0.0</td>\n",
       "      <td>0.0</td>\n",
       "      <td>0.0</td>\n",
       "      <td>0.424072</td>\n",
       "      <td>0.0</td>\n",
       "      <td>0.000000</td>\n",
       "      <td>0.000000</td>\n",
       "    </tr>\n",
       "  </tbody>\n",
       "</table>\n",
       "</div>"
      ],
      "text/plain": [
       "                        shop_name  shop_id  shop_name_len  shop_name_wc  \\\n",
       "0   !Якутск Орджоникидзе, 56 фран        0             29             4   \n",
       "1   !Якутск ТЦ \"Центральный\" фран        1             29             4   \n",
       "2                Адыгея ТЦ \"Мега\"        2             16             3   \n",
       "3  Балашиха ТРК \"Октябрь-Киномир\"        3             30             3   \n",
       "4        Волжский ТЦ \"Волга Молл\"        4             24             4   \n",
       "\n",
       "   shop_name_tfidf_0  shop_name_tfidf_1  shop_name_tfidf_2  shop_name_tfidf_3  \\\n",
       "0                0.0                0.0                0.0                0.0   \n",
       "1                0.0                0.0                0.0                0.0   \n",
       "2                0.0                0.0                0.0                0.0   \n",
       "3                0.0                0.0                0.0                0.0   \n",
       "4                0.0                0.0                0.0                0.0   \n",
       "\n",
       "   shop_name_tfidf_4  shop_name_tfidf_5  shop_name_tfidf_6  shop_name_tfidf_7  \\\n",
       "0                0.0                0.0                0.0                0.0   \n",
       "1                0.0                0.0                0.0                0.0   \n",
       "2                0.0                0.0                0.0                0.0   \n",
       "3                0.0                0.0                0.0                0.0   \n",
       "4                0.0                0.0                0.0                0.0   \n",
       "\n",
       "   shop_name_tfidf_8  shop_name_tfidf_9  shop_name_tfidf_10  \\\n",
       "0           0.000000           0.000000                 0.0   \n",
       "1           0.000000           0.000000                 0.0   \n",
       "2           0.866699           0.000000                 0.0   \n",
       "3           0.000000           0.000000                 0.0   \n",
       "4           0.000000           0.905762                 0.0   \n",
       "\n",
       "   shop_name_tfidf_11  shop_name_tfidf_12  shop_name_tfidf_13  \\\n",
       "0                 0.0                 0.0                 0.0   \n",
       "1                 0.0                 0.0                 0.0   \n",
       "2                 0.0                 0.0                 0.0   \n",
       "3                 0.0                 0.0                 0.0   \n",
       "4                 0.0                 0.0                 0.0   \n",
       "\n",
       "   shop_name_tfidf_14  shop_name_tfidf_15  shop_name_tfidf_16  \\\n",
       "0                 0.0                 0.0                 0.0   \n",
       "1                 0.0                 0.0                 0.0   \n",
       "2                 0.0                 0.0                 0.0   \n",
       "3                 0.0                 0.0                 0.0   \n",
       "4                 0.0                 0.0                 0.0   \n",
       "\n",
       "   shop_name_tfidf_17  shop_name_tfidf_18  shop_name_tfidf_19  \\\n",
       "0                 0.0                 0.0                 0.0   \n",
       "1                 0.0                 0.0                 0.0   \n",
       "2                 0.0                 0.0                 0.0   \n",
       "3                 0.0                 0.0                 1.0   \n",
       "4                 0.0                 0.0                 0.0   \n",
       "\n",
       "   shop_name_tfidf_20  shop_name_tfidf_21  shop_name_tfidf_22  \\\n",
       "0                 0.0            0.000000                 0.0   \n",
       "1                 0.0            0.322754                 0.0   \n",
       "2                 0.0            0.498535                 0.0   \n",
       "3                 0.0            0.000000                 0.0   \n",
       "4                 0.0            0.424072                 0.0   \n",
       "\n",
       "   shop_name_tfidf_23  shop_name_tfidf_24  \n",
       "0            0.000000            1.000000  \n",
       "1            0.689453            0.648438  \n",
       "2            0.000000            0.000000  \n",
       "3            0.000000            0.000000  \n",
       "4            0.000000            0.000000  "
      ]
     },
     "execution_count": 38,
     "metadata": {},
     "output_type": "execute_result"
    }
   ],
   "source": [
    "tfidf = text.TfidfVectorizer(max_features=nb_features)\n",
    "shops_copy['shop_name_len'] = shops_copy['shop_name'].map(len).astype(np.int8)  # Name lenth\n",
    "shops_copy['shop_name_wc'] = shops_copy['shop_name'].map(\n",
    "    lambda x: len(str(x).split(' '))).astype(np.int8)  # Word Count\n",
    "txtFeatures = pd.DataFrame(tfidf.fit_transform(shops_copy['shop_name']).toarray())\n",
    "cols = txtFeatures.columns\n",
    "for i in range(nb_features):\n",
    "    shops_copy['shop_name_tfidf_' + str(i)] = txtFeatures[cols[i]].astype(np.float16)\n",
    "shops_copy.head()"
   ]
  },
  {
   "cell_type": "markdown",
   "metadata": {
    "colab_type": "text",
    "id": "yaNNYR1TPhfT"
   },
   "source": [
    "## 2.5. Feature matrix<a name=\"Feature27\"></a>"
   ]
  },
  {
   "cell_type": "markdown",
   "metadata": {
    "colab_type": "text",
    "id": "PMKGmDlxPhfG"
   },
   "source": [
    "#### Group month values"
   ]
  },
  {
   "cell_type": "code",
   "execution_count": 40,
   "metadata": {
    "colab": {
     "base_uri": "https://localhost:8080/",
     "height": 204
    },
    "colab_type": "code",
    "executionInfo": {
     "elapsed": 26876,
     "status": "ok",
     "timestamp": 1561965864752,
     "user": {
      "displayName": "Shengbing YU",
      "photoUrl": "",
      "userId": "03994843105687918628"
     },
     "user_tz": -600
    },
    "id": "JXPNp0hhPhfH",
    "outputId": "028c084b-028d-4e20-ed51-99b280382016"
   },
   "outputs": [
    {
     "name": "stdout",
     "output_type": "stream",
     "text": [
      "3582096 1373797 3261287\n"
     ]
    }
   ],
   "source": [
    "sales_train['item_cnt_day'] = sales_train['item_cnt_day'].clip(0,20).astype(np.int)\n",
    "cols = ['date_block_num','shop_id','item_id']\n",
    "group = sales_train.groupby(cols).agg({'item_cnt_day': ['sum']})\n",
    "group.columns = ['item_cnt_month']\n",
    "group['item_cnt_month'] = group['item_cnt_month'].clip(0,20).astype(np.int)\n",
    "group.reset_index(inplace=True)\n",
    "\n",
    "all_data = pd.merge(matrix, group, on=cols, how='left', suffixes=(False, False))\n",
    "\n",
    "all_data['item_cnt_month'] = all_data['item_cnt_month'].fillna(0).astype(np.int)\n",
    "\n",
    "# Sanity check\n",
    "print(sales_train['item_cnt_day'].sum(), all_data['item_cnt_month'].sum(), group['item_cnt_month'].sum())\n",
    "\n",
    "del group, matrix"
   ]
  },
  {
   "cell_type": "code",
   "execution_count": 41,
   "metadata": {},
   "outputs": [
    {
     "data": {
      "text/html": [
       "<div>\n",
       "<style scoped>\n",
       "    .dataframe tbody tr th:only-of-type {\n",
       "        vertical-align: middle;\n",
       "    }\n",
       "\n",
       "    .dataframe tbody tr th {\n",
       "        vertical-align: top;\n",
       "    }\n",
       "\n",
       "    .dataframe thead th {\n",
       "        text-align: right;\n",
       "    }\n",
       "</style>\n",
       "<table border=\"1\" class=\"dataframe\">\n",
       "  <thead>\n",
       "    <tr style=\"text-align: right;\">\n",
       "      <th></th>\n",
       "      <th>shop_id</th>\n",
       "      <th>item_id</th>\n",
       "      <th>date_block_num</th>\n",
       "      <th>item_cnt_month</th>\n",
       "    </tr>\n",
       "  </thead>\n",
       "  <tbody>\n",
       "    <tr>\n",
       "      <th>0</th>\n",
       "      <td>2</td>\n",
       "      <td>30</td>\n",
       "      <td>0</td>\n",
       "      <td>0</td>\n",
       "    </tr>\n",
       "    <tr>\n",
       "      <th>1</th>\n",
       "      <td>2</td>\n",
       "      <td>31</td>\n",
       "      <td>0</td>\n",
       "      <td>0</td>\n",
       "    </tr>\n",
       "    <tr>\n",
       "      <th>2</th>\n",
       "      <td>2</td>\n",
       "      <td>32</td>\n",
       "      <td>0</td>\n",
       "      <td>0</td>\n",
       "    </tr>\n",
       "    <tr>\n",
       "      <th>3</th>\n",
       "      <td>2</td>\n",
       "      <td>33</td>\n",
       "      <td>0</td>\n",
       "      <td>1</td>\n",
       "    </tr>\n",
       "    <tr>\n",
       "      <th>4</th>\n",
       "      <td>2</td>\n",
       "      <td>38</td>\n",
       "      <td>0</td>\n",
       "      <td>0</td>\n",
       "    </tr>\n",
       "  </tbody>\n",
       "</table>\n",
       "</div>"
      ],
      "text/plain": [
       "   shop_id  item_id  date_block_num  item_cnt_month\n",
       "0        2       30               0               0\n",
       "1        2       31               0               0\n",
       "2        2       32               0               0\n",
       "3        2       33               0               1\n",
       "4        2       38               0               0"
      ]
     },
     "execution_count": 41,
     "metadata": {},
     "output_type": "execute_result"
    }
   ],
   "source": [
    "all_data.head()"
   ]
  },
  {
   "cell_type": "code",
   "execution_count": 42,
   "metadata": {},
   "outputs": [
    {
     "data": {
      "text/html": [
       "<div>\n",
       "<style scoped>\n",
       "    .dataframe tbody tr th:only-of-type {\n",
       "        vertical-align: middle;\n",
       "    }\n",
       "\n",
       "    .dataframe tbody tr th {\n",
       "        vertical-align: top;\n",
       "    }\n",
       "\n",
       "    .dataframe thead th {\n",
       "        text-align: right;\n",
       "    }\n",
       "</style>\n",
       "<table border=\"1\" class=\"dataframe\">\n",
       "  <thead>\n",
       "    <tr style=\"text-align: right;\">\n",
       "      <th></th>\n",
       "      <th>shop_id</th>\n",
       "      <th>item_id</th>\n",
       "      <th>date_block_num</th>\n",
       "      <th>item_cnt_month</th>\n",
       "      <th>month</th>\n",
       "      <th>days_of_month</th>\n",
       "      <th>year</th>\n",
       "    </tr>\n",
       "  </thead>\n",
       "  <tbody>\n",
       "    <tr>\n",
       "      <th>0</th>\n",
       "      <td>2</td>\n",
       "      <td>30</td>\n",
       "      <td>0</td>\n",
       "      <td>0</td>\n",
       "      <td>1</td>\n",
       "      <td>31</td>\n",
       "      <td>2</td>\n",
       "    </tr>\n",
       "    <tr>\n",
       "      <th>1</th>\n",
       "      <td>2</td>\n",
       "      <td>31</td>\n",
       "      <td>0</td>\n",
       "      <td>0</td>\n",
       "      <td>1</td>\n",
       "      <td>31</td>\n",
       "      <td>2</td>\n",
       "    </tr>\n",
       "    <tr>\n",
       "      <th>2</th>\n",
       "      <td>2</td>\n",
       "      <td>32</td>\n",
       "      <td>0</td>\n",
       "      <td>0</td>\n",
       "      <td>1</td>\n",
       "      <td>31</td>\n",
       "      <td>2</td>\n",
       "    </tr>\n",
       "    <tr>\n",
       "      <th>3</th>\n",
       "      <td>2</td>\n",
       "      <td>33</td>\n",
       "      <td>0</td>\n",
       "      <td>1</td>\n",
       "      <td>1</td>\n",
       "      <td>31</td>\n",
       "      <td>2</td>\n",
       "    </tr>\n",
       "    <tr>\n",
       "      <th>4</th>\n",
       "      <td>2</td>\n",
       "      <td>38</td>\n",
       "      <td>0</td>\n",
       "      <td>0</td>\n",
       "      <td>1</td>\n",
       "      <td>31</td>\n",
       "      <td>2</td>\n",
       "    </tr>\n",
       "  </tbody>\n",
       "</table>\n",
       "</div>"
      ],
      "text/plain": [
       "   shop_id  item_id  date_block_num  item_cnt_month  month  days_of_month  \\\n",
       "0        2       30               0               0      1             31   \n",
       "1        2       31               0               0      1             31   \n",
       "2        2       32               0               0      1             31   \n",
       "3        2       33               0               1      1             31   \n",
       "4        2       38               0               0      1             31   \n",
       "\n",
       "   year  \n",
       "0     2  \n",
       "1     2  \n",
       "2     2  \n",
       "3     2  \n",
       "4     2  "
      ]
     },
     "execution_count": 42,
     "metadata": {},
     "output_type": "execute_result"
    }
   ],
   "source": [
    "all_data['month'] = all_data['date_block_num'] % 12 \n",
    "days = pd.Series([31,28,31,30,31,30,31,31,30,31,30,31])\n",
    "all_data['days_of_month'] = all_data['month'].map(days).astype(np.int8)\n",
    "all_data['month'] = all_data['month'] + 1\n",
    "all_data['year'] = all_data['date_block_num'].apply(lambda x:int((34-x)/12))\n",
    "\n",
    "all_data.head()"
   ]
  },
  {
   "cell_type": "code",
   "execution_count": 43,
   "metadata": {},
   "outputs": [
    {
     "data": {
      "text/plain": [
       "shop_id           int64\n",
       "item_id           int64\n",
       "date_block_num    int64\n",
       "item_cnt_month    int64\n",
       "month             int64\n",
       "days_of_month      int8\n",
       "year              int64\n",
       "dtype: object"
      ]
     },
     "execution_count": 43,
     "metadata": {},
     "output_type": "execute_result"
    }
   ],
   "source": [
    "all_data.dtypes"
   ]
  },
  {
   "cell_type": "markdown",
   "metadata": {},
   "source": [
    "#### Merge with shops, items and item_categories"
   ]
  },
  {
   "cell_type": "code",
   "execution_count": 44,
   "metadata": {
    "colab": {},
    "colab_type": "code",
    "id": "0E5g8U35PhfT"
   },
   "outputs": [],
   "source": [
    "all_data = pd.merge(all_data, shops, on=['shop_id'], how='left')\n",
    "all_data = pd.merge(all_data, items, on=['item_id'], how='left')\n",
    "all_data = pd.merge(all_data, item_categories, on=['item_category_id'], how='left')"
   ]
  },
  {
   "cell_type": "code",
   "execution_count": 45,
   "metadata": {
    "colab": {
     "base_uri": "https://localhost:8080/",
     "height": 34
    },
    "colab_type": "code",
    "executionInfo": {
     "elapsed": 3573,
     "status": "ok",
     "timestamp": 1561966141442,
     "user": {
      "displayName": "Shengbing YU",
      "photoUrl": "",
      "userId": "03994843105687918628"
     },
     "user_tz": -600
    },
    "id": "3XrGW3TwPhfW",
    "outputId": "17c6c2e2-945c-4b3a-d675-cb5240942da1"
   },
   "outputs": [
    {
     "data": {
      "text/plain": [
       "(7497000, 11)"
      ]
     },
     "execution_count": 45,
     "metadata": {},
     "output_type": "execute_result"
    }
   ],
   "source": [
    "all_data.shape"
   ]
  },
  {
   "cell_type": "code",
   "execution_count": 46,
   "metadata": {
    "colab": {
     "base_uri": "https://localhost:8080/",
     "height": 34
    },
    "colab_type": "code",
    "executionInfo": {
     "elapsed": 5414,
     "status": "ok",
     "timestamp": 1561966154141,
     "user": {
      "displayName": "Shengbing YU",
      "photoUrl": "",
      "userId": "03994843105687918628"
     },
     "user_tz": -600
    },
    "id": "RUM4OaYSPhfZ",
    "outputId": "9c0aad98-1d58-4031-a158-2d8dbaed3431"
   },
   "outputs": [
    {
     "data": {
      "text/plain": [
       "(7497000, 67)"
      ]
     },
     "execution_count": 46,
     "metadata": {},
     "output_type": "execute_result"
    }
   ],
   "source": [
    "all_data = pd.merge(all_data, items_copy.drop('item_category_id',axis=1), how='left', on='item_id')\n",
    "all_data = pd.merge(all_data, shops_copy, how='left', on='shop_id')\n",
    "del shops, items, item_categories, items_copy, shops_copy\n",
    "all_data.shape"
   ]
  },
  {
   "cell_type": "code",
   "execution_count": 47,
   "metadata": {
    "colab": {},
    "colab_type": "code",
    "id": "p_tvEHIVPhfP"
   },
   "outputs": [],
   "source": [
    "def downcast_dtypes(df):\n",
    "\n",
    "    float_cols = [c for c in df if df[c].dtype == \"float64\"]\n",
    "    int_cols =   [c for c in df if df[c].dtype in [\"int64\", \"int32\"]]\n",
    "\n",
    "    df[float_cols] = df[float_cols].astype(np.float32)\n",
    "    #df[float_cols] = df[float_cols].astype(np.float16)\n",
    "    df[int_cols]   = df[int_cols].astype(np.int16)\n",
    "    #df[int_cols]   = df[int_cols].astype(np.int8)\n",
    "\n",
    "    return df"
   ]
  },
  {
   "cell_type": "code",
   "execution_count": 48,
   "metadata": {
    "colab": {
     "base_uri": "https://localhost:8080/",
     "height": 34
    },
    "colab_type": "code",
    "executionInfo": {
     "elapsed": 4168,
     "status": "ok",
     "timestamp": 1561966167119,
     "user": {
      "displayName": "Shengbing YU",
      "photoUrl": "",
      "userId": "03994843105687918628"
     },
     "user_tz": -600
    },
    "id": "IQg5IZhrPhfb",
    "outputId": "5d3ab4e7-b333-450e-e65c-d4a8f0fb69d7"
   },
   "outputs": [
    {
     "name": "stdout",
     "output_type": "stream",
     "text": [
      "(7497000, 61)\n"
     ]
    }
   ],
   "source": [
    "all_data.drop(['item_name', 'item_name_len', 'item_name_wc', \n",
    "         'shop_name', 'shop_name_len', 'shop_name_wc'], axis=1, inplace=True)\n",
    "all_data = downcast_dtypes(all_data)\n",
    "\n",
    "print(all_data.shape)"
   ]
  },
  {
   "cell_type": "code",
   "execution_count": 49,
   "metadata": {
    "colab": {
     "base_uri": "https://localhost:8080/",
     "height": 51
    },
    "colab_type": "code",
    "executionInfo": {
     "elapsed": 11207,
     "status": "ok",
     "timestamp": 1561966237681,
     "user": {
      "displayName": "Shengbing YU",
      "photoUrl": "",
      "userId": "03994843105687918628"
     },
     "user_tz": -600
    },
    "id": "casCDb3zcJQD",
    "outputId": "ea78f8b6-1d0b-42f8-c4a8-cbabff8cbb0d"
   },
   "outputs": [
    {
     "data": {
      "text/plain": [
       "Series([], dtype: int64)"
      ]
     },
     "execution_count": 49,
     "metadata": {},
     "output_type": "execute_result"
    }
   ],
   "source": [
    "missing = all_data.isnull().sum()\n",
    "missing[missing > 0]"
   ]
  },
  {
   "cell_type": "code",
   "execution_count": 50,
   "metadata": {},
   "outputs": [],
   "source": [
    "#all_data.fillna(0, inplace=True)"
   ]
  },
  {
   "cell_type": "code",
   "execution_count": 51,
   "metadata": {},
   "outputs": [
    {
     "data": {
      "text/html": [
       "<div>\n",
       "<style scoped>\n",
       "    .dataframe tbody tr th:only-of-type {\n",
       "        vertical-align: middle;\n",
       "    }\n",
       "\n",
       "    .dataframe tbody tr th {\n",
       "        vertical-align: top;\n",
       "    }\n",
       "\n",
       "    .dataframe thead th {\n",
       "        text-align: right;\n",
       "    }\n",
       "</style>\n",
       "<table border=\"1\" class=\"dataframe\">\n",
       "  <thead>\n",
       "    <tr style=\"text-align: right;\">\n",
       "      <th></th>\n",
       "      <th>ID</th>\n",
       "      <th>shop_id</th>\n",
       "      <th>item_id</th>\n",
       "    </tr>\n",
       "  </thead>\n",
       "  <tbody>\n",
       "    <tr>\n",
       "      <th>0</th>\n",
       "      <td>0</td>\n",
       "      <td>5</td>\n",
       "      <td>5037</td>\n",
       "    </tr>\n",
       "    <tr>\n",
       "      <th>1</th>\n",
       "      <td>1</td>\n",
       "      <td>5</td>\n",
       "      <td>5320</td>\n",
       "    </tr>\n",
       "    <tr>\n",
       "      <th>2</th>\n",
       "      <td>2</td>\n",
       "      <td>5</td>\n",
       "      <td>5233</td>\n",
       "    </tr>\n",
       "    <tr>\n",
       "      <th>3</th>\n",
       "      <td>3</td>\n",
       "      <td>5</td>\n",
       "      <td>5232</td>\n",
       "    </tr>\n",
       "    <tr>\n",
       "      <th>4</th>\n",
       "      <td>4</td>\n",
       "      <td>5</td>\n",
       "      <td>5268</td>\n",
       "    </tr>\n",
       "  </tbody>\n",
       "</table>\n",
       "</div>"
      ],
      "text/plain": [
       "   ID  shop_id  item_id\n",
       "0   0        5     5037\n",
       "1   1        5     5320\n",
       "2   2        5     5233\n",
       "3   3        5     5232\n",
       "4   4        5     5268"
      ]
     },
     "execution_count": 51,
     "metadata": {},
     "output_type": "execute_result"
    }
   ],
   "source": [
    "test.head()"
   ]
  },
  {
   "cell_type": "code",
   "execution_count": 52,
   "metadata": {},
   "outputs": [],
   "source": [
    "# save temp file\n",
    "outfile = open('test','wb')\n",
    "pickle.dump(test,outfile)\n",
    "outfile.close()"
   ]
  },
  {
   "cell_type": "code",
   "execution_count": 53,
   "metadata": {
    "colab": {},
    "colab_type": "code",
    "id": "FXZvR2tBPhfj"
   },
   "outputs": [],
   "source": [
    "# save temp file\n",
    "outfile = open('all_data2','wb')\n",
    "pickle.dump(all_data,outfile)\n",
    "outfile.close()"
   ]
  },
  {
   "cell_type": "code",
   "execution_count": 54,
   "metadata": {
    "colab": {
     "base_uri": "https://localhost:8080/",
     "height": 63
    },
    "colab_type": "code",
    "executionInfo": {
     "elapsed": 30774,
     "status": "ok",
     "timestamp": 1561966343794,
     "user": {
      "displayName": "Shengbing YU",
      "photoUrl": "",
      "userId": "03994843105687918628"
     },
     "user_tz": -600
    },
    "id": "WDHObNTgcdcI",
    "outputId": "7e79f5e6-13a6-45dc-8b9a-ae79c76e9eb1"
   },
   "outputs": [],
   "source": [
    "#!tar -czvf all_data2.tar.gz  'all_data2'"
   ]
  },
  {
   "cell_type": "markdown",
   "metadata": {
    "colab_type": "text",
    "id": "2gdBGsLUPhfl"
   },
   "source": [
    "infile = open('all_data2','rb')\n",
    "all_data = pickle.load(infile)\n",
    "infile.close()"
   ]
  },
  {
   "cell_type": "markdown",
   "metadata": {
    "colab_type": "text",
    "id": "jbUwv8knPhfl"
   },
   "source": []
  },
  {
   "cell_type": "markdown",
   "metadata": {
    "colab_type": "text",
    "id": "XarhxNYGPhga"
   },
   "source": []
  },
  {
   "cell_type": "code",
   "execution_count": 55,
   "metadata": {},
   "outputs": [],
   "source": [
    "dates = all_data['date_block_num']"
   ]
  },
  {
   "cell_type": "code",
   "execution_count": 56,
   "metadata": {},
   "outputs": [],
   "source": [
    "Target = 'item_cnt_month'\n",
    "selected_features = all_data.columns.tolist()\n",
    "selected_features.remove(Target)\n",
    "selected_features.remove('date_block_num')"
   ]
  },
  {
   "cell_type": "code",
   "execution_count": 57,
   "metadata": {},
   "outputs": [],
   "source": [
    "def standard_all_data(all_data):\n",
    "    \n",
    "    df = all_data.nunique()\n",
    "    df = df[df > 2]\n",
    "    features_to_scale = df.index.tolist()\n",
    "    features_to_scale.remove('item_cnt_month')\n",
    "\n",
    "    #X_train = all_data[dates < 34]\n",
    "    #X_test = all_data[dates == 34]\n",
    "\n",
    "    scaler = StandardScaler()\n",
    "\n",
    "    all_data.loc[dates < 34,features_to_scale] = scaler.fit_transform(all_data[dates < 34][features_to_scale])\n",
    "    all_data.loc[dates == 34,features_to_scale] = scaler.transform(all_data[dates == 34][features_to_scale])\n",
    "    \n",
    "    #all_data = pd.concat([X_train, X_test], axis = 0)\n",
    "    \n",
    "    #all_data = downcast_dtypes(all_data)\n",
    "\n",
    "    return all_data"
   ]
  },
  {
   "cell_type": "code",
   "execution_count": 58,
   "metadata": {},
   "outputs": [
    {
     "name": "stdout",
     "output_type": "stream",
     "text": [
      "(7068600, 59)\n",
      "(7068600,)\n",
      "(214200, 59)\n",
      "(214200,)\n",
      "(214200, 59)\n"
     ]
    }
   ],
   "source": [
    "all_data_tmp = all_data.copy()\n",
    "all_data_tmp = standard_all_data(all_data_tmp)\n",
    "\n",
    "X_train = all_data_tmp[dates<33][selected_features]\n",
    "Y_train = all_data_tmp[dates<33][Target]\n",
    "\n",
    "X_valid = all_data_tmp[dates==33][selected_features]\n",
    "Y_valid = all_data_tmp[dates==33][Target]\n",
    "\n",
    "X_test =  all_data_tmp[dates==34][selected_features]\n",
    "\n",
    "\n",
    "\n",
    "print(X_train.shape)\n",
    "print(Y_train.shape)\n",
    "print(X_valid.shape)\n",
    "print(Y_valid.shape)\n",
    "print(X_test.shape)"
   ]
  },
  {
   "cell_type": "code",
   "execution_count": 59,
   "metadata": {
    "colab": {
     "base_uri": "https://localhost:8080/",
     "height": 34
    },
    "colab_type": "code",
    "executionInfo": {
     "elapsed": 54918,
     "status": "ok",
     "timestamp": 1561968508777,
     "user": {
      "displayName": "Shengbing YU",
      "photoUrl": "",
      "userId": "03994843105687918628"
     },
     "user_tz": -600
    },
    "id": "uAelbdz1Phgc",
    "outputId": "8dce608e-386f-4fb8-ca75-9b7040f28c79"
   },
   "outputs": [
    {
     "name": "stdout",
     "output_type": "stream",
     "text": [
      "Valid error:  1.0721808294897435\n",
      "preds mean 0.29573819504961196\n"
     ]
    }
   ],
   "source": [
    "model_linreg = LinearRegression(fit_intercept=True)\n",
    "model_linreg.fit(X_train, Y_train)\n",
    "print('Valid error: ',np.sqrt(mean_squared_error(Y_valid, model_linreg.predict(X_valid))))\n",
    "preds = model_linreg.predict(X_test).clip(0,20)\n",
    "print('preds mean',preds.mean())"
   ]
  },
  {
   "cell_type": "code",
   "execution_count": 60,
   "metadata": {
    "colab": {
     "base_uri": "https://localhost:8080/",
     "height": 34
    },
    "colab_type": "code",
    "executionInfo": {
     "elapsed": 6839,
     "status": "ok",
     "timestamp": 1561968536070,
     "user": {
      "displayName": "Shengbing YU",
      "photoUrl": "",
      "userId": "03994843105687918628"
     },
     "user_tz": -600
    },
    "id": "egwtSGkBPhge",
    "outputId": "998a3275-c5e4-4daf-af99-df0631aba135"
   },
   "outputs": [
    {
     "name": "stdout",
     "output_type": "stream",
     "text": [
      "Valid error:  1.072180843416906\n",
      "preds mean 0.29573817251871537\n"
     ]
    }
   ],
   "source": [
    "model_ridge = Ridge()\n",
    "model_ridge.fit(X_train, Y_train)\n",
    "print('Valid error: ',np.sqrt(mean_squared_error(Y_valid, model_ridge.predict(X_valid))))\n",
    "preds = model_ridge.predict(X_test).clip(0,20)\n",
    "print('preds mean',preds.mean())"
   ]
  },
  {
   "cell_type": "code",
   "execution_count": 61,
   "metadata": {
    "colab": {
     "base_uri": "https://localhost:8080/",
     "height": 34
    },
    "colab_type": "code",
    "executionInfo": {
     "elapsed": 9204,
     "status": "ok",
     "timestamp": 1561968549811,
     "user": {
      "displayName": "Shengbing YU",
      "photoUrl": "",
      "userId": "03994843105687918628"
     },
     "user_tz": -600
    },
    "id": "yukmTwMDPhgg",
    "outputId": "291072ac-5a78-419b-a76c-4cd780e23b20"
   },
   "outputs": [
    {
     "name": "stdout",
     "output_type": "stream",
     "text": [
      "Valid error:  1.0930244910155278\n",
      "preds mean 0.186589989531166\n"
     ]
    }
   ],
   "source": [
    "model_lasso = Lasso(alpha=10.0, fit_intercept=True, max_iter=1000)\n",
    "model_lasso.fit(X_train, Y_train)\n",
    "print('Valid error: ',np.sqrt(mean_squared_error(Y_valid, model_lasso.predict(X_valid))))\n",
    "preds = model_lasso.predict(X_test).clip(0,20)\n",
    "print('preds mean',preds.mean())"
   ]
  },
  {
   "cell_type": "code",
   "execution_count": 62,
   "metadata": {},
   "outputs": [],
   "source": [
    "del all_data_tmp"
   ]
  },
  {
   "cell_type": "markdown",
   "metadata": {
    "colab_type": "text",
    "id": "mw0r1wZ4Phfq"
   },
   "source": [
    "# Part 4/8: Advanced Feature Engineering<a name=\"Advanced4\"></a>"
   ]
  },
  {
   "cell_type": "markdown",
   "metadata": {
    "colab_type": "text",
    "id": "NBtKIKpzPhf2"
   },
   "source": [
    "## 4.1. Matrix factorization of TFIDF processed features<a name=\"Matrix42\"></a>\n",
    "\n",
    "To reduce the dimensionality of the TFIDF-processed features (from 50 dimensions to 10) and extract nonlinear relationships between the text features with **Non-Negative Matrix Factorization (NMF)**:"
   ]
  },
  {
   "cell_type": "code",
   "execution_count": 63,
   "metadata": {
    "colab": {
     "base_uri": "https://localhost:8080/",
     "height": 34
    },
    "colab_type": "code",
    "executionInfo": {
     "elapsed": 3232,
     "status": "ok",
     "timestamp": 1561967227089,
     "user": {
      "displayName": "Shengbing YU",
      "photoUrl": "",
      "userId": "03994843105687918628"
     },
     "user_tz": -600
    },
    "id": "mvoL44xhPhf2",
    "outputId": "ce8600bd-29cb-462a-af14-e0743da02c67"
   },
   "outputs": [
    {
     "name": "stdout",
     "output_type": "stream",
     "text": [
      "(7282800, 50) (214200, 50)\n"
     ]
    }
   ],
   "source": [
    "tfidf_features = ['item_name_tfidf_0', 'item_name_tfidf_1', 'item_name_tfidf_2',\n",
    "                  'item_name_tfidf_3', 'item_name_tfidf_4', 'item_name_tfidf_5',\n",
    "                  'item_name_tfidf_6', 'item_name_tfidf_7', 'item_name_tfidf_8',\n",
    "                  'item_name_tfidf_9', 'item_name_tfidf_10', 'item_name_tfidf_11',\n",
    "                  'item_name_tfidf_12', 'item_name_tfidf_13', 'item_name_tfidf_14',\n",
    "                  'item_name_tfidf_15', 'item_name_tfidf_16', 'item_name_tfidf_17',\n",
    "                  'item_name_tfidf_18', 'item_name_tfidf_19', 'item_name_tfidf_20',\n",
    "                  'item_name_tfidf_21', 'item_name_tfidf_22', 'item_name_tfidf_23',\n",
    "                  'item_name_tfidf_24', 'shop_name_tfidf_0', 'shop_name_tfidf_1',\n",
    "                  'shop_name_tfidf_2', 'shop_name_tfidf_3', 'shop_name_tfidf_4',\n",
    "                  'shop_name_tfidf_5', 'shop_name_tfidf_6', 'shop_name_tfidf_7',\n",
    "                  'shop_name_tfidf_8', 'shop_name_tfidf_9', 'shop_name_tfidf_10',\n",
    "                  'shop_name_tfidf_11', 'shop_name_tfidf_12', 'shop_name_tfidf_13',\n",
    "                  'shop_name_tfidf_14', 'shop_name_tfidf_15', 'shop_name_tfidf_16',\n",
    "                  'shop_name_tfidf_17', 'shop_name_tfidf_18', 'shop_name_tfidf_19',\n",
    "                  'shop_name_tfidf_20', 'shop_name_tfidf_21', 'shop_name_tfidf_22',\n",
    "                  'shop_name_tfidf_23', 'shop_name_tfidf_24']\n",
    "\n",
    "Xtrain = all_data[all_data['date_block_num']<34][tfidf_features]\n",
    "Xtest = all_data[all_data['date_block_num']==34][tfidf_features]\n",
    "print(Xtrain.shape, Xtest.shape)\n",
    "#X_all = pd.concat([Xtrain, Xtest], ignore_index=True)\n",
    "#X_all.shape"
   ]
  },
  {
   "cell_type": "code",
   "execution_count": 64,
   "metadata": {
    "colab": {},
    "colab_type": "code",
    "id": "8YVzJ25uPhf5"
   },
   "outputs": [],
   "source": [
    "nmf = NMF(n_components=10, \n",
    "          init=None, solver='cd', \n",
    "          beta_loss='frobenius', \n",
    "          tol=0.0001, \n",
    "          max_iter=200)\n",
    "nmf.fit(all_data[tfidf_features]);"
   ]
  },
  {
   "cell_type": "code",
   "execution_count": 65,
   "metadata": {
    "colab": {},
    "colab_type": "code",
    "id": "c_ox6vViPhf7"
   },
   "outputs": [],
   "source": [
    "Xtrain = nmf.transform(Xtrain)\n",
    "Xtest = nmf.transform(Xtest)"
   ]
  },
  {
   "cell_type": "code",
   "execution_count": 66,
   "metadata": {
    "colab": {
     "base_uri": "https://localhost:8080/",
     "height": 34
    },
    "colab_type": "code",
    "executionInfo": {
     "elapsed": 729,
     "status": "ok",
     "timestamp": 1561967562135,
     "user": {
      "displayName": "Shengbing YU",
      "photoUrl": "",
      "userId": "03994843105687918628"
     },
     "user_tz": -600
    },
    "id": "g_pjZj5gPhf9",
    "outputId": "be2c9d38-22c2-4988-fbd4-0bdcc989001a"
   },
   "outputs": [
    {
     "name": "stdout",
     "output_type": "stream",
     "text": [
      "(7282800, 10) (214200, 10)\n"
     ]
    }
   ],
   "source": [
    "print(Xtrain.shape, Xtest.shape)"
   ]
  },
  {
   "cell_type": "code",
   "execution_count": 67,
   "metadata": {
    "colab": {},
    "colab_type": "code",
    "id": "VhSq-OiaPhgB"
   },
   "outputs": [],
   "source": [
    "all_data.drop(tfidf_features, axis=1, inplace=True)"
   ]
  },
  {
   "cell_type": "code",
   "execution_count": 68,
   "metadata": {
    "colab": {
     "base_uri": "https://localhost:8080/",
     "height": 261
    },
    "colab_type": "code",
    "executionInfo": {
     "elapsed": 828,
     "status": "ok",
     "timestamp": 1561967573107,
     "user": {
      "displayName": "Shengbing YU",
      "photoUrl": "",
      "userId": "03994843105687918628"
     },
     "user_tz": -600
    },
    "id": "nr9qYgKJPhgD",
    "outputId": "b43da9d1-6fc7-4365-ed86-0f1a4040d04e"
   },
   "outputs": [
    {
     "name": "stdout",
     "output_type": "stream",
     "text": [
      "(7497000, 10)\n"
     ]
    },
    {
     "data": {
      "text/html": [
       "<div>\n",
       "<style scoped>\n",
       "    .dataframe tbody tr th:only-of-type {\n",
       "        vertical-align: middle;\n",
       "    }\n",
       "\n",
       "    .dataframe tbody tr th {\n",
       "        vertical-align: top;\n",
       "    }\n",
       "\n",
       "    .dataframe thead th {\n",
       "        text-align: right;\n",
       "    }\n",
       "</style>\n",
       "<table border=\"1\" class=\"dataframe\">\n",
       "  <thead>\n",
       "    <tr style=\"text-align: right;\">\n",
       "      <th></th>\n",
       "      <th>tfidf_interaction_1</th>\n",
       "      <th>tfidf_interaction_2</th>\n",
       "      <th>tfidf_interaction_3</th>\n",
       "      <th>tfidf_interaction_4</th>\n",
       "      <th>tfidf_interaction_5</th>\n",
       "      <th>tfidf_interaction_6</th>\n",
       "      <th>tfidf_interaction_7</th>\n",
       "      <th>tfidf_interaction_8</th>\n",
       "      <th>tfidf_interaction_9</th>\n",
       "      <th>tfidf_interaction_10</th>\n",
       "    </tr>\n",
       "  </thead>\n",
       "  <tbody>\n",
       "    <tr>\n",
       "      <th>0</th>\n",
       "      <td>0.003916</td>\n",
       "      <td>0.0</td>\n",
       "      <td>0.0</td>\n",
       "      <td>0.0</td>\n",
       "      <td>0.000000</td>\n",
       "      <td>0.030064</td>\n",
       "      <td>0.0</td>\n",
       "      <td>0.0</td>\n",
       "      <td>0.0</td>\n",
       "      <td>0.0</td>\n",
       "    </tr>\n",
       "    <tr>\n",
       "      <th>1</th>\n",
       "      <td>0.003734</td>\n",
       "      <td>0.0</td>\n",
       "      <td>0.0</td>\n",
       "      <td>0.0</td>\n",
       "      <td>0.032865</td>\n",
       "      <td>0.030042</td>\n",
       "      <td>0.0</td>\n",
       "      <td>0.0</td>\n",
       "      <td>0.0</td>\n",
       "      <td>0.0</td>\n",
       "    </tr>\n",
       "    <tr>\n",
       "      <th>2</th>\n",
       "      <td>0.003916</td>\n",
       "      <td>0.0</td>\n",
       "      <td>0.0</td>\n",
       "      <td>0.0</td>\n",
       "      <td>0.000000</td>\n",
       "      <td>0.030064</td>\n",
       "      <td>0.0</td>\n",
       "      <td>0.0</td>\n",
       "      <td>0.0</td>\n",
       "      <td>0.0</td>\n",
       "    </tr>\n",
       "    <tr>\n",
       "      <th>3</th>\n",
       "      <td>0.003734</td>\n",
       "      <td>0.0</td>\n",
       "      <td>0.0</td>\n",
       "      <td>0.0</td>\n",
       "      <td>0.032865</td>\n",
       "      <td>0.030042</td>\n",
       "      <td>0.0</td>\n",
       "      <td>0.0</td>\n",
       "      <td>0.0</td>\n",
       "      <td>0.0</td>\n",
       "    </tr>\n",
       "    <tr>\n",
       "      <th>4</th>\n",
       "      <td>0.003916</td>\n",
       "      <td>0.0</td>\n",
       "      <td>0.0</td>\n",
       "      <td>0.0</td>\n",
       "      <td>0.000000</td>\n",
       "      <td>0.030064</td>\n",
       "      <td>0.0</td>\n",
       "      <td>0.0</td>\n",
       "      <td>0.0</td>\n",
       "      <td>0.0</td>\n",
       "    </tr>\n",
       "  </tbody>\n",
       "</table>\n",
       "</div>"
      ],
      "text/plain": [
       "   tfidf_interaction_1  tfidf_interaction_2  tfidf_interaction_3  \\\n",
       "0             0.003916                  0.0                  0.0   \n",
       "1             0.003734                  0.0                  0.0   \n",
       "2             0.003916                  0.0                  0.0   \n",
       "3             0.003734                  0.0                  0.0   \n",
       "4             0.003916                  0.0                  0.0   \n",
       "\n",
       "   tfidf_interaction_4  tfidf_interaction_5  tfidf_interaction_6  \\\n",
       "0                  0.0             0.000000             0.030064   \n",
       "1                  0.0             0.032865             0.030042   \n",
       "2                  0.0             0.000000             0.030064   \n",
       "3                  0.0             0.032865             0.030042   \n",
       "4                  0.0             0.000000             0.030064   \n",
       "\n",
       "   tfidf_interaction_7  tfidf_interaction_8  tfidf_interaction_9  \\\n",
       "0                  0.0                  0.0                  0.0   \n",
       "1                  0.0                  0.0                  0.0   \n",
       "2                  0.0                  0.0                  0.0   \n",
       "3                  0.0                  0.0                  0.0   \n",
       "4                  0.0                  0.0                  0.0   \n",
       "\n",
       "   tfidf_interaction_10  \n",
       "0                   0.0  \n",
       "1                   0.0  \n",
       "2                   0.0  \n",
       "3                   0.0  \n",
       "4                   0.0  "
      ]
     },
     "execution_count": 68,
     "metadata": {},
     "output_type": "execute_result"
    }
   ],
   "source": [
    "tfidf_reduced_df = pd.concat([pd.DataFrame(Xtrain), pd.DataFrame(Xtest)], axis=0)\n",
    "tfidf_reduced_df.columns = ['tfidf_interaction_1', 'tfidf_interaction_2', 'tfidf_interaction_3',\n",
    "                            'tfidf_interaction_4', 'tfidf_interaction_5', 'tfidf_interaction_6',\n",
    "                            'tfidf_interaction_7', 'tfidf_interaction_8', 'tfidf_interaction_9',\n",
    "                            'tfidf_interaction_10']\n",
    "print(tfidf_reduced_df.shape)\n",
    "tfidf_reduced_df.head()"
   ]
  },
  {
   "cell_type": "code",
   "execution_count": 69,
   "metadata": {
    "colab": {
     "base_uri": "https://localhost:8080/",
     "height": 187
    },
    "colab_type": "code",
    "executionInfo": {
     "elapsed": 1102,
     "status": "ok",
     "timestamp": 1561967578519,
     "user": {
      "displayName": "Shengbing YU",
      "photoUrl": "",
      "userId": "03994843105687918628"
     },
     "user_tz": -600
    },
    "id": "qVrYjBclPhgG",
    "outputId": "77eb38bb-3665-4a4f-a213-7249d5746bf6"
   },
   "outputs": [
    {
     "name": "stdout",
     "output_type": "stream",
     "text": [
      "tfidf_interaction_1\n",
      "tfidf_interaction_2\n",
      "tfidf_interaction_3\n",
      "tfidf_interaction_4\n",
      "tfidf_interaction_5\n",
      "tfidf_interaction_6\n",
      "tfidf_interaction_7\n",
      "tfidf_interaction_8\n",
      "tfidf_interaction_9\n",
      "tfidf_interaction_10\n"
     ]
    }
   ],
   "source": [
    "for col in tfidf_reduced_df.columns:\n",
    "    print(col)\n",
    "    all_data[col] = tfidf_reduced_df[col].values\n",
    "     \n",
    "del tfidf_reduced_df"
   ]
  },
  {
   "cell_type": "code",
   "execution_count": 70,
   "metadata": {},
   "outputs": [],
   "source": [
    "Target = 'item_cnt_month'\n",
    "selected_features = all_data.columns.tolist()\n",
    "selected_features.remove(Target)\n",
    "selected_features.remove('date_block_num')"
   ]
  },
  {
   "cell_type": "code",
   "execution_count": 71,
   "metadata": {},
   "outputs": [
    {
     "name": "stdout",
     "output_type": "stream",
     "text": [
      "(7068600, 19)\n",
      "(7068600,)\n",
      "(214200, 19)\n",
      "(214200,)\n",
      "(214200, 19)\n"
     ]
    }
   ],
   "source": [
    "all_data_tmp = all_data.copy()\n",
    "all_data_tmp = standard_all_data(all_data_tmp)\n",
    "\n",
    "X_train = all_data_tmp[dates<33][selected_features]\n",
    "Y_train = all_data_tmp[dates<33][Target]\n",
    "\n",
    "X_valid = all_data_tmp[dates==33][selected_features]\n",
    "Y_valid = all_data_tmp[dates==33][Target]\n",
    "\n",
    "X_test =  all_data_tmp[dates==34][selected_features]\n",
    "\n",
    "\n",
    "\n",
    "print(X_train.shape)\n",
    "print(Y_train.shape)\n",
    "print(X_valid.shape)\n",
    "print(Y_valid.shape)\n",
    "print(X_test.shape)"
   ]
  },
  {
   "cell_type": "code",
   "execution_count": 72,
   "metadata": {
    "colab": {
     "base_uri": "https://localhost:8080/",
     "height": 34
    },
    "colab_type": "code",
    "executionInfo": {
     "elapsed": 54918,
     "status": "ok",
     "timestamp": 1561968508777,
     "user": {
      "displayName": "Shengbing YU",
      "photoUrl": "",
      "userId": "03994843105687918628"
     },
     "user_tz": -600
    },
    "id": "uAelbdz1Phgc",
    "outputId": "8dce608e-386f-4fb8-ca75-9b7040f28c79"
   },
   "outputs": [
    {
     "name": "stdout",
     "output_type": "stream",
     "text": [
      "Valid error:  1.0829878854822252\n",
      "preds mean 0.29449021783900914\n"
     ]
    }
   ],
   "source": [
    "model_linreg = LinearRegression(fit_intercept=True)\n",
    "model_linreg.fit(X_train, Y_train)\n",
    "print('Valid error: ',np.sqrt(mean_squared_error(Y_valid, model_linreg.predict(X_valid))))\n",
    "preds = model_linreg.predict(X_test).clip(0,20)\n",
    "print('preds mean',preds.mean())"
   ]
  },
  {
   "cell_type": "code",
   "execution_count": 73,
   "metadata": {
    "colab": {
     "base_uri": "https://localhost:8080/",
     "height": 34
    },
    "colab_type": "code",
    "executionInfo": {
     "elapsed": 6839,
     "status": "ok",
     "timestamp": 1561968536070,
     "user": {
      "displayName": "Shengbing YU",
      "photoUrl": "",
      "userId": "03994843105687918628"
     },
     "user_tz": -600
    },
    "id": "egwtSGkBPhge",
    "outputId": "998a3275-c5e4-4daf-af99-df0631aba135"
   },
   "outputs": [
    {
     "name": "stdout",
     "output_type": "stream",
     "text": [
      "Valid error:  1.0829878873179206\n",
      "preds mean 0.2944902008211133\n"
     ]
    }
   ],
   "source": [
    "model_ridge = Ridge()\n",
    "model_ridge.fit(X_train, Y_train)\n",
    "print('Valid error: ',np.sqrt(mean_squared_error(Y_valid, model_ridge.predict(X_valid))))\n",
    "preds = model_ridge.predict(X_test).clip(0,20)\n",
    "print('preds mean',preds.mean())"
   ]
  },
  {
   "cell_type": "code",
   "execution_count": 74,
   "metadata": {
    "colab": {
     "base_uri": "https://localhost:8080/",
     "height": 34
    },
    "colab_type": "code",
    "executionInfo": {
     "elapsed": 9204,
     "status": "ok",
     "timestamp": 1561968549811,
     "user": {
      "displayName": "Shengbing YU",
      "photoUrl": "",
      "userId": "03994843105687918628"
     },
     "user_tz": -600
    },
    "id": "yukmTwMDPhgg",
    "outputId": "291072ac-5a78-419b-a76c-4cd780e23b20"
   },
   "outputs": [
    {
     "name": "stdout",
     "output_type": "stream",
     "text": [
      "Valid error:  1.0930244910155278\n",
      "preds mean 0.186589989531166\n"
     ]
    }
   ],
   "source": [
    "model_lasso = Lasso(alpha=10.0, fit_intercept=True, max_iter=1000)\n",
    "model_lasso.fit(X_train, Y_train)\n",
    "print('Valid error: ',np.sqrt(mean_squared_error(Y_valid, model_lasso.predict(X_valid))))\n",
    "preds = model_lasso.predict(X_test).clip(0,20)\n",
    "print('preds mean',preds.mean())"
   ]
  },
  {
   "cell_type": "code",
   "execution_count": 75,
   "metadata": {},
   "outputs": [
    {
     "data": {
      "text/plain": [
       "Index(['shop_id', 'item_id', 'date_block_num', 'item_cnt_month', 'month',\n",
       "       'days_of_month', 'year', 'city_code', 'item_category_id', 'type_code',\n",
       "       'subtype_code', 'tfidf_interaction_1', 'tfidf_interaction_2',\n",
       "       'tfidf_interaction_3', 'tfidf_interaction_4', 'tfidf_interaction_5',\n",
       "       'tfidf_interaction_6', 'tfidf_interaction_7', 'tfidf_interaction_8',\n",
       "       'tfidf_interaction_9', 'tfidf_interaction_10'],\n",
       "      dtype='object')"
      ]
     },
     "execution_count": 75,
     "metadata": {},
     "output_type": "execute_result"
    }
   ],
   "source": [
    "# save temp file\n",
    "outfile = open('all_data40','wb')\n",
    "pickle.dump(all_data,outfile)\n",
    "outfile.close()\n",
    "all_data.columns"
   ]
  },
  {
   "cell_type": "code",
   "execution_count": 76,
   "metadata": {},
   "outputs": [],
   "source": [
    "del all_data_tmp"
   ]
  },
  {
   "cell_type": "code",
   "execution_count": 77,
   "metadata": {},
   "outputs": [],
   "source": [
    "infile = open('all_data40','rb')\n",
    "all_data = pickle.load(infile)\n",
    "infile.close()"
   ]
  },
  {
   "cell_type": "markdown",
   "metadata": {},
   "source": [
    "## 4.2. Mean encodings on categorical features (not working,overfitting)<a name=\"Mean41\"></a>\n",
    "\n",
    "Mean encodings look to map a high cardinality categorical feature into a 1D array (instead of high numbers of them had we used one-hot encoding) based on how often the target variable appears on average in the categorical feature. It is a convenient approach since it also has a clever way of imputing missing values among categorical variables."
   ]
  },
  {
   "cell_type": "markdown",
   "metadata": {},
   "source": [
    "## 4.3. Last sales month<a name=\"Last\"></a>"
   ]
  },
  {
   "cell_type": "code",
   "execution_count": 78,
   "metadata": {},
   "outputs": [
    {
     "name": "stderr",
     "output_type": "stream",
     "text": [
      "100%|██████████| 2/2 [00:10<00:00,  5.15s/it]\n"
     ]
    }
   ],
   "source": [
    "group = sales_train.groupby(['date_block_num', 'shop_id', 'item_id']).agg(\n",
    "    {'item_cnt_day': ['sum']})\n",
    "group.columns = ['item_cnt_month']\n",
    "group['item_cnt_month'] = group['item_cnt_month'].clip(0,20)\n",
    "group.reset_index(inplace=True)\n",
    "\n",
    "for col in tqdm([['item_id'],['shop_id', 'item_id']]):\n",
    "    last_sale = pd.DataFrame()\n",
    "    for month in range(12,35):    \n",
    "        last_month = group.loc[(group['date_block_num']<month)&(\n",
    "            group['item_cnt_month']>0)].groupby(col).agg(\n",
    "            {'date_block_num':['max','min']})\n",
    "        feature_name = ['last_sale_' + ''.join(col),'first_sale_' + ''.join(col)]\n",
    "        last_month.columns = feature_name\n",
    "        last_month.reset_index(inplace=True)\n",
    "        df = pd.DataFrame()\n",
    "        df[col+feature_name] = last_month[col+feature_name]\n",
    "        df[feature_name] = month - df[feature_name]\n",
    "        df['date_block_num'] = month\n",
    "        \n",
    "#         df = pd.DataFrame({'date_block_num':np.ones([last_month.shape[0],])*month,\n",
    "#                            col[0]: last_month.index.values,\n",
    "#                            'last_sale' + '_'.join(col): last_month.values})\n",
    "        last_sale = last_sale.append(df)\n",
    "#     last_sale['date_block_num'] = last_sale['date_block_num'].astype(np.int8)\n",
    "\n",
    "    all_data = all_data.merge(last_sale, on=['date_block_num']+col, \n",
    "                              how='left',suffixes=(False, False))\n",
    "    all_data[feature_name] = all_data[feature_name].fillna(100)"
   ]
  },
  {
   "cell_type": "code",
   "execution_count": 79,
   "metadata": {},
   "outputs": [
    {
     "data": {
      "text/plain": [
       "Index(['shop_id', 'item_id', 'date_block_num', 'item_cnt_month', 'month',\n",
       "       'days_of_month', 'year', 'city_code', 'item_category_id', 'type_code',\n",
       "       'subtype_code', 'tfidf_interaction_1', 'tfidf_interaction_2',\n",
       "       'tfidf_interaction_3', 'tfidf_interaction_4', 'tfidf_interaction_5',\n",
       "       'tfidf_interaction_6', 'tfidf_interaction_7', 'tfidf_interaction_8',\n",
       "       'tfidf_interaction_9', 'tfidf_interaction_10', 'last_sale_item_id',\n",
       "       'first_sale_item_id', 'last_sale_shop_iditem_id',\n",
       "       'first_sale_shop_iditem_id'],\n",
       "      dtype='object')"
      ]
     },
     "execution_count": 79,
     "metadata": {},
     "output_type": "execute_result"
    }
   ],
   "source": [
    "all_data.columns"
   ]
  },
  {
   "cell_type": "code",
   "execution_count": 80,
   "metadata": {},
   "outputs": [
    {
     "data": {
      "text/plain": [
       "1.0"
      ]
     },
     "execution_count": 80,
     "metadata": {},
     "output_type": "execute_result"
    }
   ],
   "source": [
    "all_data['first_sale_shop_iditem_id'].min()"
   ]
  },
  {
   "cell_type": "markdown",
   "metadata": {},
   "source": [
    "## 4.4. Creating lag features<a name=\"lag\"></a>"
   ]
  },
  {
   "cell_type": "code",
   "execution_count": 81,
   "metadata": {},
   "outputs": [
    {
     "data": {
      "text/plain": [
       "Index(['date_block_num', 'shop_id', 'item_id', 'item_category_id', 'type_code',\n",
       "       'subtype_code', 'city_code', 'days_of_month', 'item_cnt_month'],\n",
       "      dtype='object')"
      ]
     },
     "execution_count": 81,
     "metadata": {},
     "output_type": "execute_result"
    }
   ],
   "source": [
    "Target = 'item_cnt_month'\n",
    "index_cols = ['date_block_num','shop_id', 'item_id',\n",
    "              'item_category_id','type_code','subtype_code','city_code','days_of_month'] \n",
    "train = all_data[all_data['date_block_num']<34][index_cols + [Target]].copy()"
   ]
  },
  {
   "cell_type": "code",
   "execution_count": 82,
   "metadata": {},
   "outputs": [
    {
     "name": "stderr",
     "output_type": "stream",
     "text": [
      "100%|██████████| 9/9 [00:10<00:00,  1.16s/it]\n"
     ]
    }
   ],
   "source": [
    "group_cols = ['date_block_num', 'shop_id', 'item_id']\n",
    "group = sales_train.groupby(group_cols).agg(\n",
    "    {'item_price':['mean']})\n",
    "group.columns = ['price_shop_item_mean']\n",
    "group.reset_index(inplace=True)\n",
    "train = pd.merge(train, group, on=group_cols, how='left', suffixes=(False, False))\n",
    "\n",
    "group_cols = ['item_id', 'date_block_num']\n",
    "group = sales_train.groupby(group_cols).agg(\n",
    "    {'item_price':['mean']})\n",
    "group.columns = ['price_item_mean']\n",
    "group.reset_index(inplace=True)\n",
    "train = pd.merge(train, group, on=group_cols, how='left', suffixes=(False, False))\n",
    "\n",
    "group_cols = ['item_id', 'date_block_num']\n",
    "group = train.groupby(group_cols).agg({'item_cnt_month':'mean'})\n",
    "group.columns = ['item_cnt_month_by_item_id_mean']\n",
    "group.reset_index(inplace=True)\n",
    "train = pd.merge(train, group, on=group_cols, how='left', suffixes=(False, False))\n",
    "\n",
    "cols_group = [\n",
    "['date_block_num', 'shop_id'],\n",
    "['date_block_num', 'item_category_id'],\n",
    "['date_block_num', 'shop_id', 'item_category_id'],\n",
    "['date_block_num', 'shop_id', 'type_code'],\n",
    "['date_block_num', 'shop_id', 'subtype_code'],\n",
    "['date_block_num', 'city_code'],\n",
    "['date_block_num', 'item_id', 'city_code'],\n",
    "['date_block_num', 'type_code'],\n",
    "['date_block_num', 'subtype_code'],\n",
    "]\n",
    "\n",
    "for cols in tqdm(cols_group):\n",
    "    group = train.groupby(cols).agg({'item_cnt_month':'mean'})\n",
    "    group.columns = ['item_cnt_month_by_' + '_'.join(cols)]\n",
    "    group.reset_index(inplace=True)\n",
    "    train = pd.merge(train, group, on=cols, how='left', suffixes=(False, False))\n",
    "\n",
    "lag_cols = ['item_cnt_month',\n",
    "            'item_cnt_month_by_item_id_mean',\n",
    "            'price_shop_item_mean',\n",
    "            'price_item_mean',\n",
    "           ]\n",
    "lag_cols += ['item_cnt_month_by_' + '_'.join(cols) for cols in cols_group]\n"
   ]
  },
  {
   "cell_type": "code",
   "execution_count": 83,
   "metadata": {},
   "outputs": [
    {
     "name": "stderr",
     "output_type": "stream",
     "text": [
      "100%|██████████| 11/11 [00:00<00:00, 43.43it/s]\n"
     ]
    }
   ],
   "source": [
    "item_cnt_list = [e for e in lag_cols if e not in ['price_shop_item_mean','price_item_mean']]\n",
    "for col in tqdm(item_cnt_list):\n",
    "    train[col] /= train['days_of_month']"
   ]
  },
  {
   "cell_type": "code",
   "execution_count": 84,
   "metadata": {},
   "outputs": [
    {
     "data": {
      "text/plain": [
       "Index(['date_block_num', 'shop_id', 'item_id', 'item_category_id', 'type_code',\n",
       "       'subtype_code', 'city_code', 'days_of_month', 'item_cnt_month',\n",
       "       'price_shop_item_mean', 'price_item_mean',\n",
       "       'item_cnt_month_by_item_id_mean',\n",
       "       'item_cnt_month_by_date_block_num_shop_id',\n",
       "       'item_cnt_month_by_date_block_num_item_category_id',\n",
       "       'item_cnt_month_by_date_block_num_shop_id_item_category_id',\n",
       "       'item_cnt_month_by_date_block_num_shop_id_type_code',\n",
       "       'item_cnt_month_by_date_block_num_shop_id_subtype_code',\n",
       "       'item_cnt_month_by_date_block_num_city_code',\n",
       "       'item_cnt_month_by_date_block_num_item_id_city_code',\n",
       "       'item_cnt_month_by_date_block_num_type_code',\n",
       "       'item_cnt_month_by_date_block_num_subtype_code'],\n",
       "      dtype='object')"
      ]
     },
     "execution_count": 84,
     "metadata": {},
     "output_type": "execute_result"
    }
   ],
   "source": [
    "train.columns"
   ]
  },
  {
   "cell_type": "code",
   "execution_count": 85,
   "metadata": {},
   "outputs": [
    {
     "data": {
      "text/plain": [
       "price_shop_item_mean    6681051\n",
       "price_item_mean         4358256\n",
       "dtype: int64"
      ]
     },
     "execution_count": 85,
     "metadata": {},
     "output_type": "execute_result"
    }
   ],
   "source": [
    "missing = train.isnull().sum()\n",
    "missing[missing > 0]"
   ]
  },
  {
   "cell_type": "code",
   "execution_count": 86,
   "metadata": {},
   "outputs": [
    {
     "data": {
      "text/plain": [
       "['item_cnt_month',\n",
       " 'item_cnt_month_by_item_id_mean',\n",
       " 'price_shop_item_mean',\n",
       " 'price_item_mean',\n",
       " 'item_cnt_month_by_date_block_num_shop_id',\n",
       " 'item_cnt_month_by_date_block_num_item_category_id',\n",
       " 'item_cnt_month_by_date_block_num_shop_id_item_category_id',\n",
       " 'item_cnt_month_by_date_block_num_shop_id_type_code',\n",
       " 'item_cnt_month_by_date_block_num_shop_id_subtype_code',\n",
       " 'item_cnt_month_by_date_block_num_city_code',\n",
       " 'item_cnt_month_by_date_block_num_item_id_city_code',\n",
       " 'item_cnt_month_by_date_block_num_type_code',\n",
       " 'item_cnt_month_by_date_block_num_subtype_code']"
      ]
     },
     "execution_count": 86,
     "metadata": {},
     "output_type": "execute_result"
    }
   ],
   "source": [
    "lag_cols"
   ]
  },
  {
   "cell_type": "code",
   "execution_count": 87,
   "metadata": {},
   "outputs": [
    {
     "data": {
      "text/plain": [
       "['item_cnt_month',\n",
       " 'item_cnt_month_by_item_id_mean',\n",
       " 'item_cnt_month_by_date_block_num_shop_id',\n",
       " 'item_cnt_month_by_date_block_num_item_category_id',\n",
       " 'item_cnt_month_by_date_block_num_shop_id_item_category_id',\n",
       " 'item_cnt_month_by_date_block_num_shop_id_type_code',\n",
       " 'item_cnt_month_by_date_block_num_shop_id_subtype_code',\n",
       " 'item_cnt_month_by_date_block_num_city_code',\n",
       " 'item_cnt_month_by_date_block_num_item_id_city_code',\n",
       " 'item_cnt_month_by_date_block_num_type_code',\n",
       " 'item_cnt_month_by_date_block_num_subtype_code']"
      ]
     },
     "execution_count": 87,
     "metadata": {},
     "output_type": "execute_result"
    }
   ],
   "source": [
    "item_cnt_list"
   ]
  },
  {
   "cell_type": "code",
   "execution_count": 88,
   "metadata": {
    "scrolled": true
   },
   "outputs": [
    {
     "name": "stderr",
     "output_type": "stream",
     "text": [
      "100%|██████████| 12/12 [02:48<00:00, 14.05s/it]\n"
     ]
    }
   ],
   "source": [
    "# 2.2 Creating item/shop pair lags lag-based features ----------------------------\n",
    "\n",
    "last_lag_names = []\n",
    "\n",
    "lag_month = [1,2,3,4,5,6,7,8,9,10,11,12]\n",
    "all_data = all_data[all_data.date_block_num >= max(lag_month)].copy()\n",
    "i = 0\n",
    "eps = 1e-5\n",
    "index_cols = ['date_block_num','shop_id', 'item_id']\n",
    "train_shift = train[index_cols + lag_cols].copy()\n",
    "for m in tqdm(lag_month):\n",
    "\n",
    "    #train_shift = train[index_cols + cols_to_rename].copy()\n",
    "    train_shift.columns = index_cols + lag_cols\n",
    "\n",
    "    train_shift['date_block_num'] = train['date_block_num'] + m\n",
    "\n",
    "    lag_names = [col + '_lag_' + str(m) for col in lag_cols]\n",
    "\n",
    "    train_shift.columns = index_cols + lag_names\n",
    "\n",
    "    all_data = pd.merge(all_data, train_shift, on=index_cols, how='left', suffixes=(False, False))\n",
    "    \n",
    "    item_cnt_lag_list = [col + '_lag_' + str(m) for col in item_cnt_list]\n",
    "    for col in item_cnt_lag_list:\n",
    "        all_data[col] *= all_data['days_of_month']\n",
    "\n",
    "    feature_name = ['is_sold_shopitem_month_' + str(m),\n",
    "                    'is_sold_item_month_' + str(m),\n",
    "                    'is_sales_down_shopitem_month_' + str(m),\n",
    "                    'is_sales_up_shopitem_month_' + str(m), \n",
    "                    'is_sales_down_item_month_' + str(m),\n",
    "                    'is_sales_up_item_month_' + str(m), \n",
    "                    'is_price_down_shopitem_month_' + str(m),\n",
    "                    'is_price_up_shopitem_month_' + str(m), \n",
    "                    'is_price_down_item_month_' + str(m),\n",
    "                    'is_price_up_item_month_' + str(m)\n",
    "                   ]\n",
    "        \n",
    "    all_data.loc[:,lag_names[:2]].fillna(0, inplace=True)\n",
    "    \n",
    "#     condition = all_data[lag_names[0]] != 0\n",
    "#     all_data.loc[condition,feature_name[0]] = 1\n",
    "#     condition = all_data[lag_names[1]] != 0\n",
    "#     all_data.loc[condition,feature_name[1]] = 1\n",
    "    \n",
    "    if i > 0:\n",
    "        # sales delta\n",
    "        all_data['sales_shopitem_delta'+str(m)] = \\\n",
    "            (all_data[lag_names[0]] - all_data[lag_cols[0]+'_lag_1']) / \\\n",
    "            (all_data[lag_cols[0]+'_lag_1'] + 1e-10)\n",
    "        all_data['sales_item_delta'+str(m)] = \\\n",
    "            (all_data[lag_names[1]] - all_data[lag_cols[1]+'_lag_1']) / \\\n",
    "            (all_data[lag_cols[1]+'_lag_1'] + 1e-10)\n",
    "        all_data['sales_shopitem_delta'+str(m)] = \\\n",
    "            all_data['sales_shopitem_delta'+str(m)].replace([np.inf, -np.inf], np.nan).clip(-10,10)\n",
    "        all_data['sales_item_delta'+str(m)] = \\\n",
    "            all_data['sales_item_delta'+str(m)].replace([np.inf, -np.inf], np.nan).clip(-10,10)\n",
    "        \n",
    "        # sales diff\n",
    "        all_data['sales_shopitem_diff'] = all_data[last_lag_names[0]] - all_data[lag_names[0]]\n",
    "        #  0  price not change\n",
    "        all_data[feature_name[2]] = np.where(all_data['sales_shopitem_diff'] < 0 - eps, 1, 0)\n",
    "        all_data[feature_name[3]] = np.where(all_data['sales_shopitem_diff'] > 0 + eps, 1, 0)\n",
    "        \n",
    "        all_data['sales_item_diff'] = all_data[last_lag_names[1]] - all_data[lag_names[1]]\n",
    "        all_data[feature_name[4]] = np.where(all_data['sales_item_diff'] < 0 - eps, 1, 0)\n",
    "        all_data[feature_name[5]] = np.where(all_data['sales_item_diff'] > 0 + eps, 1, 0)\n",
    "        \n",
    "        # price diff\n",
    "        all_data['price_shopitem_diff'] = all_data[last_lag_names[2]] - all_data[lag_names[2]]\n",
    "        #  0  price not change\n",
    "        all_data[feature_name[6]] = np.where(all_data['price_shopitem_diff'] < 0 - eps, 1, 0)\n",
    "        all_data[feature_name[7]] = np.where(all_data['price_shopitem_diff'] > 0 + eps, 1, 0)\n",
    "        \n",
    "        all_data['price_item_diff'] = all_data[last_lag_names[3]] - all_data[lag_names[3]]\n",
    "        all_data[feature_name[8]] = np.where(all_data['price_item_diff'] < 0 - eps, 1, 0)\n",
    "        all_data[feature_name[9]] = np.where(all_data['price_item_diff'] > 0 + eps, 1, 0)\n",
    "        \n",
    "        cols_drop = ['sales_shopitem_diff','sales_item_diff',\n",
    "                     'price_shopitem_diff','price_item_diff']\n",
    "        all_data.drop(cols_drop, axis=1, inplace=True)\n",
    "    \n",
    "    i += 1\n",
    "    last_lag_names = lag_names\n",
    "\n",
    "all_data.sort_index(axis=1, inplace=True)\n",
    "all_data.fillna(0,inplace=True)\n",
    "del train_shift, train"
   ]
  },
  {
   "cell_type": "code",
   "execution_count": 89,
   "metadata": {},
   "outputs": [
    {
     "name": "stderr",
     "output_type": "stream",
     "text": [
      "100%|██████████| 4/4 [00:06<00:00,  1.50s/it]\n"
     ]
    }
   ],
   "source": [
    "# delete some lags\n",
    "drop_lag = [4,5,7,8,9,10,11]\n",
    "feature_prefix = [ \n",
    "    'sales_shopitem_delta','sales_item_delta',\n",
    "    'price_shop_item_mean_lag_','price_item_mean_lag_']\n",
    "\n",
    "for feature in tqdm(feature_prefix):\n",
    "    drop_features = [feature+str(lag) for lag in drop_lag]\n",
    "    all_data.drop(drop_features,axis=1,inplace=True)"
   ]
  },
  {
   "cell_type": "markdown",
   "metadata": {},
   "source": [
    "## 4.5. Sale stats in recent<a name=\"stats\"></a> "
   ]
  },
  {
   "cell_type": "code",
   "execution_count": 91,
   "metadata": {},
   "outputs": [
    {
     "name": "stderr",
     "output_type": "stream",
     "text": [
      "100%|██████████| 11/11 [01:08<00:00,  6.22s/it]\n"
     ]
    }
   ],
   "source": [
    "sales_features = ['item_cnt_month',\n",
    " 'item_cnt_month_by_item_id_mean',\n",
    " 'item_cnt_month_by_date_block_num_shop_id',\n",
    " 'item_cnt_month_by_date_block_num_item_category_id',\n",
    " 'item_cnt_month_by_date_block_num_shop_id_item_category_id',\n",
    " 'item_cnt_month_by_date_block_num_shop_id_type_code',\n",
    " 'item_cnt_month_by_date_block_num_shop_id_subtype_code',\n",
    " 'item_cnt_month_by_date_block_num_city_code',\n",
    " 'item_cnt_month_by_date_block_num_item_id_city_code',\n",
    " 'item_cnt_month_by_date_block_num_type_code',\n",
    " 'item_cnt_month_by_date_block_num_subtype_code']\n",
    "\n",
    "last_periods = [6,12]\n",
    "for feature in tqdm(sales_features):\n",
    "    for period in last_periods:\n",
    "        #[col + '_lag_' + str(m) for col in lag_cols]\n",
    "            lag_feats = [feature+'_lag_'+str(lag) for lag in np.arange(1,period+1)]\n",
    "            # we do not use mean and svd directly because we want to include months with sales = 0\n",
    "            mean = all_data[lag_feats].sum(axis=1)/float(period)\n",
    "            mean2 = (all_data[lag_feats]**2).sum(axis=1)/float(period)\n",
    "            new_name1 = 'avg_sale_last_'+str(period)+'_'+feature\n",
    "            new_name2 = 'std_sale_last_'+str(period)+'_'+feature\n",
    "            all_data[new_name1] = mean\n",
    "            all_data[new_name2] = (mean2 - mean**2).apply(np.sqrt)\n",
    "            all_data[new_name2].replace(np.inf,0,inplace=True)\n",
    "            # divide by mean, this scales the features for NN\n",
    "            all_data[new_name1] /= (all_data[new_name1].mean() + 1e-10)\n",
    "            all_data[new_name2] /= (all_data[new_name2].mean() + 1e-10)\n",
    "        \n",
    "    # delete\n",
    "    drop_lag = [4,5,7,8,9,10,11]\n",
    "    drop_features = [feature+'_lag_'+str(lag) for lag in drop_lag]\n",
    "    all_data.drop(drop_features,axis=1,inplace=True) "
   ]
  },
  {
   "cell_type": "markdown",
   "metadata": {},
   "source": [
    "## 4.6. Consecutive_month_number<a name=\"consecutive\"></a>"
   ]
  },
  {
   "cell_type": "code",
   "execution_count": 93,
   "metadata": {},
   "outputs": [],
   "source": [
    "# consecutive number of month for sales down or up before\n",
    "\n",
    "def create_consecutive_month_number(row, feature_name_prefix):\n",
    "    count = 0\n",
    "    for m in lag_month[1:]:\n",
    "        feature_name = feature_name_prefix + str(m)\n",
    "        if row[feature_name] == 1:\n",
    "            count += 1\n",
    "        else:\n",
    "            return count\n",
    "    return count\n",
    "\n",
    "feature_names = [\n",
    "                    'is_sales_down_shopitem_month_',\n",
    "                    'is_sales_up_shopitem_month_', \n",
    "                    'is_sales_down_item_month_',\n",
    "                    'is_sales_up_item_month_', \n",
    "                    'is_price_down_shopitem_month_',\n",
    "                    'is_price_up_shopitem_month_', \n",
    "                    'is_price_down_item_month_',\n",
    "                    'is_price_up_item_month_',\n",
    "                   ]"
   ]
  },
  {
   "cell_type": "code",
   "execution_count": 94,
   "metadata": {},
   "outputs": [
    {
     "name": "stderr",
     "output_type": "stream",
     "text": [
      "100%|██████████| 8/8 [04:38<00:00, 34.84s/it]\n"
     ]
    }
   ],
   "source": [
    "for feature in tqdm(feature_names):\n",
    "    all_data.loc[:,'consecutive'+feature] = all_data.apply(\n",
    "        lambda row: create_consecutive_month_number(row, feature),axis=1)\n",
    "    drop_cols = [f for f in all_data.columns if f.startswith(feature)]\n",
    "    all_data.drop(drop_cols,axis=1,inplace=True)"
   ]
  },
  {
   "cell_type": "markdown",
   "metadata": {},
   "source": [
    "all_data = pd.get_dummies(all_data, prefix=['month'], columns=['month'])\n",
    "all_data.columns.values       "
   ]
  },
  {
   "cell_type": "code",
   "execution_count": 96,
   "metadata": {},
   "outputs": [
    {
     "data": {
      "text/plain": [
       "Series([], dtype: int64)"
      ]
     },
     "execution_count": 96,
     "metadata": {},
     "output_type": "execute_result"
    }
   ],
   "source": [
    "missing = all_data.isnull().sum()\n",
    "missing[missing>0]"
   ]
  },
  {
   "cell_type": "code",
   "execution_count": 97,
   "metadata": {},
   "outputs": [
    {
     "data": {
      "text/plain": [
       "Series([], dtype: int64)"
      ]
     },
     "execution_count": 97,
     "metadata": {},
     "output_type": "execute_result"
    }
   ],
   "source": [
    "# check constant column\n",
    "df = all_data.nunique()\n",
    "df1 = df[df < 2]\n",
    "df1"
   ]
  },
  {
   "cell_type": "code",
   "execution_count": 98,
   "metadata": {},
   "outputs": [
    {
     "data": {
      "text/plain": [
       "[]"
      ]
     },
     "execution_count": 98,
     "metadata": {},
     "output_type": "execute_result"
    }
   ],
   "source": [
    "# check if unique number is [0,1]\n",
    "df1 = df[df == 2]\n",
    "check_list = []\n",
    "for col in df1.index:\n",
    "    if set(all_data[col].unique()) != set([0,1]):\n",
    "        check_list.append(col)\n",
    "check_list"
   ]
  },
  {
   "cell_type": "code",
   "execution_count": 99,
   "metadata": {},
   "outputs": [],
   "source": [
    "def reduce_mem_usage(props):\n",
    "    start_mem_usg = props.memory_usage().sum() / 1024**2 \n",
    "    print(\"Memory usage of properties dataframe is :\",start_mem_usg,\" MB\")\n",
    "    NAlist = [] # Keeps track of columns that have missing values filled in. \n",
    "    \n",
    "    #float_cols = [c for c in df if df[c].dtype == \"float64\"]\n",
    "    #int_cols =   [c for c in df if df[c].dtype in [\"int64\", \"int32\"]]\n",
    "    cols_to_downcast = [c for c in props if props[c].dtype in [\"float64\", \"int64\", \"int32\"]]\n",
    "    for col in cols_to_downcast:\n",
    "        if props[col].dtype != object:  # Exclude strings\n",
    "            \n",
    "            # Print current column type\n",
    "            #print(\"******************************\")\n",
    "            #print(\"Column: \",col)\n",
    "            #print(\"dtype before: \",props[col].dtype)\n",
    "            type_before = props[col].dtype\n",
    "            \n",
    "            # make variables for Int, max and min\n",
    "            IsInt = False\n",
    "            mx = props[col].max()\n",
    "            mn = props[col].min()\n",
    "            \n",
    "            # Integer does not support NA, therefore, NA needs to be filled\n",
    "            if not np.isfinite(props[col]).all(): \n",
    "                NAlist.append(col)\n",
    "                props[col].fillna(mn-1,inplace=True)  \n",
    "                   \n",
    "            # test if column can be converted to an integer\n",
    "            asint = props[col].fillna(0).astype(np.int64)\n",
    "            result = (props[col] - asint)\n",
    "            result = result.sum()\n",
    "            if result > -0.01 and result < 0.01:\n",
    "                IsInt = True\n",
    "\n",
    "    \n",
    "            # Make Integer/unsigned Integer datatypes\n",
    "            if IsInt:\n",
    "                if mn >= 0:\n",
    "                    if mx < 255:\n",
    "                        props[col] = props[col].astype(np.uint8)\n",
    "                    elif mx < 65535:\n",
    "                        props[col] = props[col].astype(np.uint16)\n",
    "                    elif mx < 4294967295:\n",
    "                        props[col] = props[col].astype(np.uint32)\n",
    "                    else:\n",
    "                        props[col] = props[col].astype(np.uint64)\n",
    "                else:\n",
    "                    if mn > np.iinfo(np.int8).min and mx < np.iinfo(np.int8).max:\n",
    "                        props[col] = props[col].astype(np.int8)\n",
    "                    elif mn > np.iinfo(np.int16).min and mx < np.iinfo(np.int16).max:\n",
    "                        props[col] = props[col].astype(np.int16)\n",
    "                    elif mn > np.iinfo(np.int32).min and mx < np.iinfo(np.int32).max:\n",
    "                        props[col] = props[col].astype(np.int32)\n",
    "                    elif mn > np.iinfo(np.int64).min and mx < np.iinfo(np.int64).max:\n",
    "                        props[col] = props[col].astype(np.int64)    \n",
    "            \n",
    "            # Make float datatypes 32 bit\n",
    "            else:\n",
    "                props[col] = props[col].astype(np.float32)\n",
    "            \n",
    "#             print(\"Dtype before: {}  after: {}  Column: {}\".format(type_before, props[col].dtype, col))\n",
    "            #print(\"dtype before: \",props[col].dtype)\n",
    "            # Print new column type\n",
    "            #print(\"dtype after: \",props[col].dtype)\n",
    "            #print(\"******************************\")\n",
    "    \n",
    "    # Print final result\n",
    "    print(\"___MEMORY USAGE AFTER COMPLETION:___\")\n",
    "    mem_usg = props.memory_usage().sum() / 1024**2 \n",
    "    print(\"Memory usage is: \",mem_usg,\" MB\")\n",
    "    print(\"This is \",100*mem_usg/start_mem_usg,\"% of the initial size\")\n",
    "    return props, NAlist"
   ]
  },
  {
   "cell_type": "code",
   "execution_count": null,
   "metadata": {},
   "outputs": [],
   "source": [
    "all_data, NAlist = reduce_mem_usage(all_data)"
   ]
  },
  {
   "cell_type": "code",
   "execution_count": null,
   "metadata": {},
   "outputs": [],
   "source": [
    "all_data = open(\"all_data\")"
   ]
  },
  {
   "cell_type": "code",
   "execution_count": 101,
   "metadata": {},
   "outputs": [
    {
     "data": {
      "text/plain": [
       "[]"
      ]
     },
     "execution_count": 101,
     "metadata": {},
     "output_type": "execute_result"
    }
   ],
   "source": [
    "NAlist"
   ]
  },
  {
   "cell_type": "code",
   "execution_count": 102,
   "metadata": {},
   "outputs": [
    {
     "data": {
      "text/plain": [
       "(4926600, 150)"
      ]
     },
     "execution_count": 102,
     "metadata": {},
     "output_type": "execute_result"
    }
   ],
   "source": [
    "all_data.shape"
   ]
  },
  {
   "cell_type": "code",
   "execution_count": null,
   "metadata": {},
   "outputs": [],
   "source": [
    "# save processed data to disk in case the kernel restart because of out of memory\n",
    "outfile = open('all_data42','wb')\n",
    "pickle.dump(all_data,outfile,protocol=4)\n",
    "outfile.close()"
   ]
  },
  {
   "cell_type": "code",
   "execution_count": 104,
   "metadata": {},
   "outputs": [],
   "source": [
    "infile = open('all_data42','rb')\n",
    "all_data = pickle.load(infile)\n",
    "infile.close()"
   ]
  },
  {
   "cell_type": "code",
   "execution_count": 105,
   "metadata": {},
   "outputs": [],
   "source": [
    "# save processed data to disk in case the kernel restart because of out of memory\n",
    "outfile = open('all_data_final','wb')\n",
    "pickle.dump(all_data,outfile,protocol=4)\n",
    "outfile.close()"
   ]
  },
  {
   "cell_type": "code",
   "execution_count": 10,
   "metadata": {},
   "outputs": [],
   "source": [
    "infile = open('all_data_final','rb')\n",
    "all_data = pickle.load(infile)\n",
    "infile.close()"
   ]
  },
  {
   "cell_type": "markdown",
   "metadata": {},
   "source": [
    "## 4.7. StandardScaler<a name=\"Simple43\"></a>"
   ]
  },
  {
   "cell_type": "code",
   "execution_count": 11,
   "metadata": {},
   "outputs": [],
   "source": [
    "infile = open('test','rb')\n",
    "test = pickle.load(infile)\n",
    "infile.close()"
   ]
  },
  {
   "cell_type": "code",
   "execution_count": 12,
   "metadata": {},
   "outputs": [
    {
     "name": "stdout",
     "output_type": "stream",
     "text": [
      "shop_id    0.0\n",
      "item_id    0.0\n",
      "dtype: float64\n"
     ]
    }
   ],
   "source": [
    "# check id order\n",
    "all_data_tmp = all_data[['date_block_num','shop_id','item_id']].copy()\n",
    "for m in range(12,35):\n",
    "    all_data_tmp.loc[all_data_tmp.date_block_num==m,['shop_id','item_id']] -= test[['shop_id','item_id']]\n",
    "print(all_data_tmp.loc[:,['shop_id','item_id']].sum())\n",
    "del all_data_tmp\n"
   ]
  },
  {
   "cell_type": "code",
   "execution_count": 13,
   "metadata": {
    "colab": {
     "base_uri": "https://localhost:8080/",
     "height": 244
    },
    "colab_type": "code",
    "executionInfo": {
     "elapsed": 3133,
     "status": "ok",
     "timestamp": 1561967621516,
     "user": {
      "displayName": "Shengbing YU",
      "photoUrl": "",
      "userId": "03994843105687918628"
     },
     "user_tz": -600
    },
    "id": "2s-tEO3qPhgI",
    "outputId": "cef0df39-72da-4ee5-b3b0-7e92e79da433"
   },
   "outputs": [],
   "source": [
    "# Save `date_block_num`, as we can't use them as features, but will need them to split the dataset into parts\n",
    "dates = all_data['date_block_num']\n",
    "all_data.drop(['date_block_num'], axis=1, inplace=True)"
   ]
  },
  {
   "cell_type": "code",
   "execution_count": 14,
   "metadata": {},
   "outputs": [],
   "source": [
    "#all_data.fillna(0, inplace=True)"
   ]
  },
  {
   "cell_type": "code",
   "execution_count": 15,
   "metadata": {},
   "outputs": [],
   "source": [
    "def standard_all_data(all_data):\n",
    "    \n",
    "    df = all_data.nunique()\n",
    "    df = df[df > 2]\n",
    "    features_to_scale = df.index.tolist()\n",
    "    features_to_scale.remove('item_cnt_month')\n",
    "\n",
    "    #X_train = all_data[dates < 34]\n",
    "    #X_test = all_data[dates == 34]\n",
    "\n",
    "    scaler = StandardScaler()\n",
    "\n",
    "    all_data.loc[dates < 34,features_to_scale] = scaler.fit_transform(all_data[dates < 34][features_to_scale])\n",
    "    all_data.loc[dates == 34,features_to_scale] = scaler.transform(all_data[dates == 34][features_to_scale])\n",
    "    \n",
    "    #all_data = pd.concat([X_train, X_test], axis = 0)\n",
    "    \n",
    "    #all_data = downcast_dtypes(all_data)\n",
    "\n",
    "    return all_data"
   ]
  },
  {
   "cell_type": "code",
   "execution_count": 16,
   "metadata": {},
   "outputs": [],
   "source": [
    "all_data = standard_all_data(all_data)"
   ]
  },
  {
   "cell_type": "code",
   "execution_count": 19,
   "metadata": {},
   "outputs": [],
   "source": [
    "outfile = open('all_data_scaled','wb')\n",
    "pickle.dump(all_data,outfile, protocol=4)\n",
    "outfile.close()\n",
    "\n",
    "outfile = open('dates','wb')\n",
    "pickle.dump(dates,outfile)\n",
    "outfile.close()"
   ]
  },
  {
   "cell_type": "markdown",
   "metadata": {},
   "source": [
    "infile = open('all_data_scaled','rb')\n",
    "all_data = pickle.load(infile)\n",
    "infile.close()\n",
    "\n",
    "infile = open('dates','rb')\n",
    "dates = pickle.load(infile)\n",
    "infile.close()"
   ]
  },
  {
   "cell_type": "code",
   "execution_count": 20,
   "metadata": {},
   "outputs": [],
   "source": [
    "Target = 'item_cnt_month'\n",
    "selected_features = all_data.columns.tolist()\n",
    "selected_features.remove(Target)"
   ]
  },
  {
   "cell_type": "code",
   "execution_count": 21,
   "metadata": {},
   "outputs": [
    {
     "name": "stdout",
     "output_type": "stream",
     "text": [
      "(4498200, 148)\n",
      "(4498200,)\n",
      "(214200, 148)\n",
      "(214200,)\n",
      "(214200, 148)\n"
     ]
    }
   ],
   "source": [
    "\n",
    "X_train = all_data[dates<33][selected_features]\n",
    "Y_train = all_data[dates<33][Target]\n",
    "\n",
    "X_valid = all_data[dates==33][selected_features]\n",
    "Y_valid = all_data[dates==33][Target]\n",
    "\n",
    "X_test =  all_data[dates==34][selected_features]\n",
    "\n",
    "print(X_train.shape)\n",
    "print(Y_train.shape)\n",
    "print(X_valid.shape)\n",
    "print(Y_valid.shape)\n",
    "print(X_test.shape)"
   ]
  },
  {
   "cell_type": "code",
   "execution_count": 22,
   "metadata": {
    "colab": {
     "base_uri": "https://localhost:8080/",
     "height": 34
    },
    "colab_type": "code",
    "executionInfo": {
     "elapsed": 54918,
     "status": "ok",
     "timestamp": 1561968508777,
     "user": {
      "displayName": "Shengbing YU",
      "photoUrl": "",
      "userId": "03994843105687918628"
     },
     "user_tz": -600
    },
    "id": "uAelbdz1Phgc",
    "outputId": "8dce608e-386f-4fb8-ca75-9b7040f28c79"
   },
   "outputs": [
    {
     "name": "stdout",
     "output_type": "stream",
     "text": [
      "Valid error:  0.8826210603090036\n",
      "preds mean 0.3229991625639485\n"
     ]
    }
   ],
   "source": [
    "model_linreg = LinearRegression(fit_intercept=True)\n",
    "model_linreg.fit(X_train, Y_train)\n",
    "print('Valid error: ',np.sqrt(mean_squared_error(Y_valid, model_linreg.predict(X_valid))))\n",
    "preds = model_linreg.predict(X_test).clip(0,20)\n",
    "print('preds mean',preds.mean())"
   ]
  },
  {
   "cell_type": "code",
   "execution_count": 23,
   "metadata": {
    "colab": {
     "base_uri": "https://localhost:8080/",
     "height": 34
    },
    "colab_type": "code",
    "executionInfo": {
     "elapsed": 6839,
     "status": "ok",
     "timestamp": 1561968536070,
     "user": {
      "displayName": "Shengbing YU",
      "photoUrl": "",
      "userId": "03994843105687918628"
     },
     "user_tz": -600
    },
    "id": "egwtSGkBPhge",
    "outputId": "998a3275-c5e4-4daf-af99-df0631aba135"
   },
   "outputs": [
    {
     "name": "stdout",
     "output_type": "stream",
     "text": [
      "Valid error:  0.8826209766624958\n",
      "preds mean 0.3229994766992978\n"
     ]
    }
   ],
   "source": [
    "model_ridge = Ridge()\n",
    "model_ridge.fit(X_train, Y_train)\n",
    "print('Valid error: ',np.sqrt(mean_squared_error(Y_valid, model_ridge.predict(X_valid))))\n",
    "preds = model_ridge.predict(X_test).clip(0,20)\n",
    "print('preds mean',preds.mean())"
   ]
  },
  {
   "cell_type": "code",
   "execution_count": 24,
   "metadata": {
    "colab": {
     "base_uri": "https://localhost:8080/",
     "height": 34
    },
    "colab_type": "code",
    "executionInfo": {
     "elapsed": 9204,
     "status": "ok",
     "timestamp": 1561968549811,
     "user": {
      "displayName": "Shengbing YU",
      "photoUrl": "",
      "userId": "03994843105687918628"
     },
     "user_tz": -600
    },
    "id": "yukmTwMDPhgg",
    "outputId": "291072ac-5a78-419b-a76c-4cd780e23b20"
   },
   "outputs": [
    {
     "name": "stdout",
     "output_type": "stream",
     "text": [
      "Valid error:  1.0913896101211986\n",
      "preds mean 0.2205517762660619\n"
     ]
    }
   ],
   "source": [
    "model_lasso = Lasso(alpha=10.0, fit_intercept=True, max_iter=1000)\n",
    "model_lasso.fit(X_train, Y_train)\n",
    "print('Valid error: ',np.sqrt(mean_squared_error(Y_valid, model_lasso.predict(X_valid))))\n",
    "preds = model_lasso.predict(X_test).clip(0,20)\n",
    "print('preds mean',preds.mean())"
   ]
  },
  {
   "cell_type": "markdown",
   "metadata": {},
   "source": [
    "Great! Feature engineering works as expected. Linear models give lower valid error. So happy!"
   ]
  },
  {
   "cell_type": "markdown",
   "metadata": {},
   "source": [
    "## 4.8. Simple feature selection<a name=\"Simple48\"></a>"
   ]
  },
  {
   "cell_type": "code",
   "execution_count": 25,
   "metadata": {},
   "outputs": [],
   "source": [
    "from sklearn.feature_selection import VarianceThreshold\n",
    "\n",
    "from sklearn.feature_selection import SelectFromModel"
   ]
  },
  {
   "cell_type": "code",
   "execution_count": 26,
   "metadata": {},
   "outputs": [],
   "source": [
    "Target = 'item_cnt_month'\n",
    "selected_features = all_data.columns.tolist()\n",
    "selected_features.remove(Target)"
   ]
  },
  {
   "cell_type": "code",
   "execution_count": 27,
   "metadata": {},
   "outputs": [
    {
     "name": "stdout",
     "output_type": "stream",
     "text": [
      "(4498200, 148)\n",
      "(4498200,)\n",
      "(214200, 148)\n"
     ]
    }
   ],
   "source": [
    "X_train = all_data[dates<33][selected_features]\n",
    "Y_train = all_data[dates<33][Target]\n",
    "\n",
    "X_test =  all_data[dates==33][selected_features]\n",
    "Y_test = all_data[dates==33][Target]\n",
    "\n",
    "print(X_train.shape)\n",
    "print(Y_train.shape)\n",
    "print(X_test.shape)"
   ]
  },
  {
   "cell_type": "markdown",
   "metadata": {},
   "source": [
    "### Remove constant features"
   ]
  },
  {
   "cell_type": "code",
   "execution_count": 28,
   "metadata": {},
   "outputs": [
    {
     "name": "stdout",
     "output_type": "stream",
     "text": [
      "constant_features []\n"
     ]
    },
    {
     "data": {
      "text/plain": [
       "((4498200, 148), (214200, 148))"
      ]
     },
     "execution_count": 28,
     "metadata": {},
     "output_type": "execute_result"
    }
   ],
   "source": [
    "# remove constant features\n",
    "constant_features = [\n",
    "    feat for feat in X_train.columns if X_train[feat].std() == 0\n",
    "]\n",
    "print('constant_features',constant_features)\n",
    "X_train.drop(labels=constant_features, axis=1, inplace=True)\n",
    "X_test.drop(labels=constant_features, axis=1, inplace=True)\n",
    "\n",
    "X_train.shape, X_test.shape"
   ]
  },
  {
   "cell_type": "markdown",
   "metadata": {},
   "source": [
    "### Remove quasi-constant features"
   ]
  },
  {
   "cell_type": "code",
   "execution_count": 29,
   "metadata": {},
   "outputs": [
    {
     "data": {
      "text/plain": [
       "148"
      ]
     },
     "execution_count": 29,
     "metadata": {},
     "output_type": "execute_result"
    }
   ],
   "source": [
    "# remove quasi-constant features\n",
    "sel = VarianceThreshold(\n",
    "    threshold=0.01)  # 0.1 indicates 99% of observations approximately\n",
    "\n",
    "sel.fit(X_train)  # fit finds the features with low variance\n",
    "\n",
    "sum(sel.get_support()) # how many not quasi-constant?"
   ]
  },
  {
   "cell_type": "code",
   "execution_count": 30,
   "metadata": {},
   "outputs": [
    {
     "data": {
      "text/plain": [
       "Index([], dtype='object')"
      ]
     },
     "execution_count": 30,
     "metadata": {},
     "output_type": "execute_result"
    }
   ],
   "source": [
    "X_train.columns[~sel.get_support()]"
   ]
  },
  {
   "cell_type": "code",
   "execution_count": 31,
   "metadata": {},
   "outputs": [],
   "source": [
    "features_to_keep = X_train.columns[sel.get_support()]"
   ]
  },
  {
   "cell_type": "code",
   "execution_count": 32,
   "metadata": {},
   "outputs": [
    {
     "data": {
      "text/plain": [
       "((4498200, 148), (214200, 148))"
      ]
     },
     "execution_count": 32,
     "metadata": {},
     "output_type": "execute_result"
    }
   ],
   "source": [
    "# we can then remove the features like this\n",
    "X_train = sel.transform(X_train)\n",
    "X_test = sel.transform(X_test)\n",
    "\n",
    "X_train.shape, X_test.shape"
   ]
  },
  {
   "cell_type": "code",
   "execution_count": 33,
   "metadata": {},
   "outputs": [],
   "source": [
    "# sklearn transformations lead to numpy arrays\n",
    "# here I transform the arrays back to dataframes\n",
    "# please be mindful of getting the columns assigned\n",
    "# correctly\n",
    "\n",
    "X_train= pd.DataFrame(X_train)\n",
    "X_train.columns = features_to_keep\n",
    "\n",
    "X_test= pd.DataFrame(X_test)\n",
    "X_test.columns = features_to_keep"
   ]
  },
  {
   "cell_type": "markdown",
   "metadata": {},
   "source": [
    "### Remove duplicated features"
   ]
  },
  {
   "cell_type": "code",
   "execution_count": 34,
   "metadata": {
    "scrolled": true
   },
   "outputs": [
    {
     "name": "stderr",
     "output_type": "stream",
     "text": [
      "100%|██████████| 148/148 [01:29<00:00,  1.65it/s]"
     ]
    },
    {
     "name": "stdout",
     "output_type": "stream",
     "text": [
      "0\n"
     ]
    },
    {
     "name": "stderr",
     "output_type": "stream",
     "text": [
      "\n"
     ]
    },
    {
     "data": {
      "text/plain": [
       "[]"
      ]
     },
     "execution_count": 34,
     "metadata": {},
     "output_type": "execute_result"
    }
   ],
   "source": [
    "# check for duplicated features in the training set\n",
    "duplicated_feat = []\n",
    "for i in tqdm(range(0, len(X_train.columns))):\n",
    "#     if i % 10 == 0:  # this helps me understand how the loop is going\n",
    "#         print(i)\n",
    "\n",
    "    col_1 = X_train.columns[i]\n",
    "\n",
    "    for col_2 in X_train.columns[i + 1:]:\n",
    "        if X_train[col_1].equals(X_train[col_2]):\n",
    "            duplicated_feat.append(col_2)\n",
    "            \n",
    "print(len(duplicated_feat))\n",
    "duplicated_feat"
   ]
  },
  {
   "cell_type": "code",
   "execution_count": 35,
   "metadata": {},
   "outputs": [
    {
     "data": {
      "text/plain": [
       "((4498200, 148), (214200, 148))"
      ]
     },
     "execution_count": 35,
     "metadata": {},
     "output_type": "execute_result"
    }
   ],
   "source": [
    "# remove duplicated features\n",
    "X_train.drop(labels=duplicated_feat, axis=1, inplace=True)\n",
    "X_test.drop(labels=duplicated_feat, axis=1, inplace=True)\n",
    "\n",
    "X_train.shape, X_test.shape"
   ]
  },
  {
   "cell_type": "markdown",
   "metadata": {},
   "source": [
    "## find and remove correlated features"
   ]
  },
  {
   "cell_type": "code",
   "execution_count": 36,
   "metadata": {},
   "outputs": [],
   "source": [
    "#Using Pearson Correlation\n",
    "tmp_df = pd.concat([X_train,Y_train], axis=1, ignore_index=True, sort=False)\n",
    "cor = tmp_df.corr().abs()\n",
    "outfile = open('cor','wb')\n",
    "pickle.dump(cor,outfile)\n",
    "outfile.close()\n",
    "\n",
    "# plt.figure(figsize=(12,10))\n",
    "# sns.heatmap(cor, annot=True, cmap=plt.cm.Reds)\n",
    "# plt.show()"
   ]
  },
  {
   "cell_type": "markdown",
   "metadata": {},
   "source": [
    "infile = open('cor','rb')\n",
    "cor = pickle.load(infile)\n",
    "infile.close()"
   ]
  },
  {
   "cell_type": "code",
   "execution_count": 37,
   "metadata": {},
   "outputs": [],
   "source": [
    "cor.columns = X_train.columns.tolist() + ['item_cnt_month']\n",
    "cor.index = X_train.columns.tolist() + ['item_cnt_month']"
   ]
  },
  {
   "cell_type": "code",
   "execution_count": 38,
   "metadata": {},
   "outputs": [
    {
     "data": {
      "text/html": [
       "<div>\n",
       "<style scoped>\n",
       "    .dataframe tbody tr th:only-of-type {\n",
       "        vertical-align: middle;\n",
       "    }\n",
       "\n",
       "    .dataframe tbody tr th {\n",
       "        vertical-align: top;\n",
       "    }\n",
       "\n",
       "    .dataframe thead th {\n",
       "        text-align: right;\n",
       "    }\n",
       "</style>\n",
       "<table border=\"1\" class=\"dataframe\">\n",
       "  <thead>\n",
       "    <tr style=\"text-align: right;\">\n",
       "      <th></th>\n",
       "      <th>level_0</th>\n",
       "      <th>level_1</th>\n",
       "      <th>0</th>\n",
       "    </tr>\n",
       "  </thead>\n",
       "  <tbody>\n",
       "    <tr>\n",
       "      <th>6</th>\n",
       "      <td>last_sale_shop_iditem_id</td>\n",
       "      <td>first_sale_shop_iditem_id</td>\n",
       "      <td>0.994478</td>\n",
       "    </tr>\n",
       "    <tr>\n",
       "      <th>563</th>\n",
       "      <td>avg_sale_last_12_item_cnt_month_by_date_block_...</td>\n",
       "      <td>avg_sale_last_12_item_cnt_month_by_date_block_...</td>\n",
       "      <td>0.994006</td>\n",
       "    </tr>\n",
       "    <tr>\n",
       "      <th>544</th>\n",
       "      <td>avg_sale_last_6_item_cnt_month_by_date_block_n...</td>\n",
       "      <td>avg_sale_last_6_item_cnt_month_by_date_block_n...</td>\n",
       "      <td>0.993876</td>\n",
       "    </tr>\n",
       "    <tr>\n",
       "      <th>46</th>\n",
       "      <td>item_cnt_month_by_date_block_num_item_category...</td>\n",
       "      <td>item_cnt_month_by_date_block_num_subtype_code_...</td>\n",
       "      <td>0.992255</td>\n",
       "    </tr>\n",
       "    <tr>\n",
       "      <th>76</th>\n",
       "      <td>item_cnt_month_by_date_block_num_item_category...</td>\n",
       "      <td>item_cnt_month_by_date_block_num_subtype_code_...</td>\n",
       "      <td>0.992081</td>\n",
       "    </tr>\n",
       "    <tr>\n",
       "      <th>91</th>\n",
       "      <td>item_cnt_month_by_date_block_num_item_category...</td>\n",
       "      <td>item_cnt_month_by_date_block_num_subtype_code_...</td>\n",
       "      <td>0.991453</td>\n",
       "    </tr>\n",
       "    <tr>\n",
       "      <th>106</th>\n",
       "      <td>item_cnt_month_by_date_block_num_subtype_code_...</td>\n",
       "      <td>item_cnt_month_by_date_block_num_item_category...</td>\n",
       "      <td>0.991103</td>\n",
       "    </tr>\n",
       "    <tr>\n",
       "      <th>599</th>\n",
       "      <td>avg_sale_last_12_item_cnt_month_by_date_block_...</td>\n",
       "      <td>avg_sale_last_12_item_cnt_month_by_date_block_...</td>\n",
       "      <td>0.989973</td>\n",
       "    </tr>\n",
       "    <tr>\n",
       "      <th>580</th>\n",
       "      <td>avg_sale_last_6_item_cnt_month_by_date_block_n...</td>\n",
       "      <td>avg_sale_last_6_item_cnt_month_by_date_block_n...</td>\n",
       "      <td>0.989629</td>\n",
       "    </tr>\n",
       "    <tr>\n",
       "      <th>4</th>\n",
       "      <td>first_sale_item_id</td>\n",
       "      <td>last_sale_item_id</td>\n",
       "      <td>0.988887</td>\n",
       "    </tr>\n",
       "  </tbody>\n",
       "</table>\n",
       "</div>"
      ],
      "text/plain": [
       "                                               level_0  \\\n",
       "6                             last_sale_shop_iditem_id   \n",
       "563  avg_sale_last_12_item_cnt_month_by_date_block_...   \n",
       "544  avg_sale_last_6_item_cnt_month_by_date_block_n...   \n",
       "46   item_cnt_month_by_date_block_num_item_category...   \n",
       "76   item_cnt_month_by_date_block_num_item_category...   \n",
       "91   item_cnt_month_by_date_block_num_item_category...   \n",
       "106  item_cnt_month_by_date_block_num_subtype_code_...   \n",
       "599  avg_sale_last_12_item_cnt_month_by_date_block_...   \n",
       "580  avg_sale_last_6_item_cnt_month_by_date_block_n...   \n",
       "4                                   first_sale_item_id   \n",
       "\n",
       "                                               level_1         0  \n",
       "6                            first_sale_shop_iditem_id  0.994478  \n",
       "563  avg_sale_last_12_item_cnt_month_by_date_block_...  0.994006  \n",
       "544  avg_sale_last_6_item_cnt_month_by_date_block_n...  0.993876  \n",
       "46   item_cnt_month_by_date_block_num_subtype_code_...  0.992255  \n",
       "76   item_cnt_month_by_date_block_num_subtype_code_...  0.992081  \n",
       "91   item_cnt_month_by_date_block_num_subtype_code_...  0.991453  \n",
       "106  item_cnt_month_by_date_block_num_item_category...  0.991103  \n",
       "599  avg_sale_last_12_item_cnt_month_by_date_block_...  0.989973  \n",
       "580  avg_sale_last_6_item_cnt_month_by_date_block_n...  0.989629  \n",
       "4                                    last_sale_item_id  0.988887  "
      ]
     },
     "execution_count": 38,
     "metadata": {},
     "output_type": "execute_result"
    }
   ],
   "source": [
    "dataCorr = cor[cor >= 0.8].stack().reset_index()\n",
    "dataCorr = dataCorr[dataCorr['level_0'].astype(str)!=dataCorr['level_1'].astype(str)]\n",
    "\n",
    "# filtering out lower/upper triangular duplicates \n",
    "dataCorr['ordered-cols'] = dataCorr.apply(lambda x: '-'.join(sorted([x['level_0'],x['level_1']])),axis=1)\n",
    "dataCorr = dataCorr.drop_duplicates(['ordered-cols'])\n",
    "dataCorr.drop(['ordered-cols'], axis=1, inplace=True)\n",
    "dataCorr.sort_values(0, axis = 0, ascending = False, inplace = True) \n",
    "\n",
    "corr_features = []\n",
    "#Level_0 has higher cor with target\n",
    "for i in range(len(dataCorr)):\n",
    "    if cor.loc[dataCorr.iloc[i,0],'item_cnt_month'] < cor.loc[dataCorr.iloc[i,1],'item_cnt_month']:\n",
    "        tmp = dataCorr.iloc[i,0]\n",
    "        dataCorr.iloc[i,0] = dataCorr.iloc[i,1]\n",
    "        dataCorr.iloc[i,1] = tmp\n",
    "    if  (dataCorr.iloc[i,1] not in dataCorr.iloc[0:i,0]) & ('item_cnt_month' not in dataCorr.iloc[i,0:2]):\n",
    "        corr_features.append(dataCorr.iloc[i,1])\n",
    "dataCorr.head(10)"
   ]
  },
  {
   "cell_type": "code",
   "execution_count": 40,
   "metadata": {},
   "outputs": [
    {
     "data": {
      "text/plain": [
       "((4498200, 58), (214200, 58))"
      ]
     },
     "execution_count": 40,
     "metadata": {},
     "output_type": "execute_result"
    }
   ],
   "source": [
    "# removed correlated  features\n",
    "X_train.drop(labels=corr_features, axis=1, inplace=True)\n",
    "X_test.drop(labels=corr_features, axis=1, inplace=True)\n",
    "\n",
    "X_train.shape, X_test.shape"
   ]
  },
  {
   "cell_type": "code",
   "execution_count": 41,
   "metadata": {},
   "outputs": [],
   "source": [
    "selected_features = X_train.columns.tolist()\n",
    "pickle.dump(selected_features, open('selected_features.pkl', 'wb'))"
   ]
  },
  {
   "cell_type": "code",
   "execution_count": 43,
   "metadata": {},
   "outputs": [
    {
     "name": "stderr",
     "output_type": "stream",
     "text": [
      "[Parallel(n_jobs=30)]: Using backend ThreadingBackend with 30 concurrent workers.\n",
      "[Parallel(n_jobs=30)]: Done 100 out of 100 | elapsed: 22.3min finished\n",
      "[Parallel(n_jobs=30)]: Using backend ThreadingBackend with 30 concurrent workers.\n",
      "[Parallel(n_jobs=30)]: Done 100 out of 100 | elapsed:    0.5s finished\n"
     ]
    },
    {
     "name": "stdout",
     "output_type": "stream",
     "text": [
      "Test error:  0.9184715356057697\n",
      "Took 22.32 minutes\n"
     ]
    }
   ],
   "source": [
    "start_time = time.time()\n",
    "\n",
    "model_rf = RandomForestRegressor(n_estimators=100, n_jobs=30, verbose=1)\n",
    "# Fit model\n",
    "model_rf.fit(X_train, Y_train)\n",
    "#print('Valid error: ',np.sqrt(mean_squared_error(Y_valid, model_rf.predict(X_valid))))\n",
    "print('Test error: ', np.sqrt(mean_squared_error(Y_test, model_rf.predict(X_test))))\n",
    "\n",
    "pickle.dump(model_rf, open('model_rf.pkl', \"wb\"))\n",
    "\n",
    "print('Took %0.2f minutes'%((time.time() - start_time)/60))"
   ]
  },
  {
   "cell_type": "code",
   "execution_count": 44,
   "metadata": {},
   "outputs": [],
   "source": [
    "idx = np.argsort(model_rf.feature_importances_)\n",
    "cols = np.array(X_train.columns.tolist())[idx][::-1]\n"
   ]
  },
  {
   "cell_type": "code",
   "execution_count": 45,
   "metadata": {},
   "outputs": [],
   "source": [
    "selected_features = cols[:94]"
   ]
  },
  {
   "cell_type": "markdown",
   "metadata": {},
   "source": [
    "#### Train"
   ]
  },
  {
   "cell_type": "code",
   "execution_count": 46,
   "metadata": {},
   "outputs": [],
   "source": [
    "Target = 'item_cnt_month'\n",
    "selected_features = all_data.columns.tolist()\n",
    "selected_features.remove(Target)"
   ]
  },
  {
   "cell_type": "code",
   "execution_count": 47,
   "metadata": {},
   "outputs": [],
   "source": [
    "\n",
    "X_train = all_data[dates<33][selected_features]\n",
    "Y_train = all_data[dates<33][Target]\n",
    "\n",
    "X_valid = all_data[dates==33][selected_features]\n",
    "Y_valid = all_data[dates==33][Target]\n",
    "\n",
    "X_test =  all_data[dates==34][selected_features]\n",
    "\n"
   ]
  },
  {
   "cell_type": "code",
   "execution_count": 48,
   "metadata": {
    "colab": {
     "base_uri": "https://localhost:8080/",
     "height": 34
    },
    "colab_type": "code",
    "executionInfo": {
     "elapsed": 54918,
     "status": "ok",
     "timestamp": 1561968508777,
     "user": {
      "displayName": "Shengbing YU",
      "photoUrl": "",
      "userId": "03994843105687918628"
     },
     "user_tz": -600
    },
    "id": "uAelbdz1Phgc",
    "outputId": "8dce608e-386f-4fb8-ca75-9b7040f28c79"
   },
   "outputs": [
    {
     "name": "stdout",
     "output_type": "stream",
     "text": [
      "Valid error:  0.8826210603090036\n",
      "preds mean 0.3229991625639485\n"
     ]
    }
   ],
   "source": [
    "model_linreg = LinearRegression(fit_intercept=True)\n",
    "model_linreg.fit(X_train, Y_train)\n",
    "print('Valid error: ',np.sqrt(mean_squared_error(Y_valid, model_linreg.predict(X_valid))))\n",
    "preds = model_linreg.predict(X_test).clip(0,20)\n",
    "print('preds mean',preds.mean())"
   ]
  },
  {
   "cell_type": "code",
   "execution_count": 49,
   "metadata": {
    "colab": {
     "base_uri": "https://localhost:8080/",
     "height": 34
    },
    "colab_type": "code",
    "executionInfo": {
     "elapsed": 6839,
     "status": "ok",
     "timestamp": 1561968536070,
     "user": {
      "displayName": "Shengbing YU",
      "photoUrl": "",
      "userId": "03994843105687918628"
     },
     "user_tz": -600
    },
    "id": "egwtSGkBPhge",
    "outputId": "998a3275-c5e4-4daf-af99-df0631aba135"
   },
   "outputs": [
    {
     "name": "stdout",
     "output_type": "stream",
     "text": [
      "Valid error:  0.8826209766624958\n",
      "preds mean 0.3229994766992978\n"
     ]
    }
   ],
   "source": [
    "model_ridge = Ridge()\n",
    "model_ridge.fit(X_train, Y_train)\n",
    "print('Valid error: ',np.sqrt(mean_squared_error(Y_valid, model_ridge.predict(X_valid))))\n",
    "preds = model_ridge.predict(X_test).clip(0,20)\n",
    "print('preds mean',preds.mean())"
   ]
  },
  {
   "cell_type": "code",
   "execution_count": 50,
   "metadata": {
    "colab": {
     "base_uri": "https://localhost:8080/",
     "height": 34
    },
    "colab_type": "code",
    "executionInfo": {
     "elapsed": 9204,
     "status": "ok",
     "timestamp": 1561968549811,
     "user": {
      "displayName": "Shengbing YU",
      "photoUrl": "",
      "userId": "03994843105687918628"
     },
     "user_tz": -600
    },
    "id": "yukmTwMDPhgg",
    "outputId": "291072ac-5a78-419b-a76c-4cd780e23b20"
   },
   "outputs": [
    {
     "name": "stdout",
     "output_type": "stream",
     "text": [
      "Valid error:  1.0913896101211986\n",
      "preds mean 0.2205517762660619\n"
     ]
    }
   ],
   "source": [
    "model_lasso = Lasso(alpha=10.0, fit_intercept=True, max_iter=1000)\n",
    "model_lasso.fit(X_train, Y_train)\n",
    "print('Valid error: ',np.sqrt(mean_squared_error(Y_valid, model_lasso.predict(X_valid))))\n",
    "preds = model_lasso.predict(X_test).clip(0,20)\n",
    "print('preds mean',preds.mean())"
   ]
  },
  {
   "cell_type": "code",
   "execution_count": 51,
   "metadata": {},
   "outputs": [],
   "source": [
    "\n",
    "outfile = open('all_data_ready','wb')\n",
    "pickle.dump(all_data,outfile, protocol=4)\n",
    "outfile.close()"
   ]
  },
  {
   "cell_type": "code",
   "execution_count": 58,
   "metadata": {},
   "outputs": [],
   "source": [
    "idx = np.argsort(model_linreg.coef_)[::-1]\n",
    "cols = X_train.columns.tolist()\n",
    "cols = np.array(cols)[idx]\n"
   ]
  },
  {
   "cell_type": "code",
   "execution_count": 53,
   "metadata": {},
   "outputs": [
    {
     "name": "stdout",
     "output_type": "stream",
     "text": [
      "0:\tlearn: 1.0313412\ttotal: 1.31s\tremaining: 15m 15s\n",
      "1:\tlearn: 0.9769141\ttotal: 2.52s\tremaining: 14m 39s\n",
      "2:\tlearn: 0.9339172\ttotal: 3.71s\tremaining: 14m 21s\n",
      "3:\tlearn: 0.9014002\ttotal: 5.07s\tremaining: 14m 42s\n",
      "4:\tlearn: 0.8751183\ttotal: 6.26s\tremaining: 14m 30s\n",
      "5:\tlearn: 0.8543638\ttotal: 7.49s\tremaining: 14m 26s\n",
      "6:\tlearn: 0.8382587\ttotal: 8.69s\tremaining: 14m 20s\n",
      "7:\tlearn: 0.8254861\ttotal: 9.89s\tremaining: 14m 15s\n",
      "8:\tlearn: 0.8154175\ttotal: 11.1s\tremaining: 14m 15s\n",
      "9:\tlearn: 0.8072940\ttotal: 12.4s\tremaining: 14m 13s\n",
      "10:\tlearn: 0.8007996\ttotal: 13.5s\tremaining: 14m 7s\n",
      "11:\tlearn: 0.7955883\ttotal: 14.8s\tremaining: 14m 6s\n",
      "12:\tlearn: 0.7912615\ttotal: 15.9s\tremaining: 14m 2s\n",
      "13:\tlearn: 0.7873867\ttotal: 17.1s\tremaining: 13m 57s\n",
      "14:\tlearn: 0.7841240\ttotal: 18.3s\tremaining: 13m 55s\n",
      "15:\tlearn: 0.7813848\ttotal: 19.5s\tremaining: 13m 52s\n",
      "16:\tlearn: 0.7790246\ttotal: 20.7s\tremaining: 13m 53s\n",
      "17:\tlearn: 0.7766196\ttotal: 22s\tremaining: 13m 52s\n",
      "18:\tlearn: 0.7750169\ttotal: 23.2s\tremaining: 13m 50s\n",
      "19:\tlearn: 0.7724570\ttotal: 24.4s\tremaining: 13m 50s\n",
      "20:\tlearn: 0.7704970\ttotal: 25.8s\tremaining: 13m 52s\n",
      "21:\tlearn: 0.7686894\ttotal: 27s\tremaining: 13m 50s\n",
      "22:\tlearn: 0.7673762\ttotal: 28.2s\tremaining: 13m 50s\n",
      "23:\tlearn: 0.7661926\ttotal: 29.5s\tremaining: 13m 50s\n",
      "24:\tlearn: 0.7650159\ttotal: 30.7s\tremaining: 13m 47s\n",
      "25:\tlearn: 0.7640624\ttotal: 31.9s\tremaining: 13m 47s\n",
      "26:\tlearn: 0.7632953\ttotal: 33.1s\tremaining: 13m 45s\n",
      "27:\tlearn: 0.7622652\ttotal: 34.3s\tremaining: 13m 42s\n",
      "28:\tlearn: 0.7610276\ttotal: 35.5s\tremaining: 13m 41s\n",
      "29:\tlearn: 0.7596389\ttotal: 36.8s\tremaining: 13m 40s\n",
      "30:\tlearn: 0.7586088\ttotal: 37.9s\tremaining: 13m 38s\n",
      "31:\tlearn: 0.7577870\ttotal: 39.1s\tremaining: 13m 36s\n",
      "32:\tlearn: 0.7568644\ttotal: 40.4s\tremaining: 13m 36s\n",
      "33:\tlearn: 0.7563008\ttotal: 41.6s\tremaining: 13m 35s\n",
      "34:\tlearn: 0.7556729\ttotal: 42.8s\tremaining: 13m 32s\n",
      "35:\tlearn: 0.7549185\ttotal: 44s\tremaining: 13m 32s\n",
      "36:\tlearn: 0.7542323\ttotal: 45.3s\tremaining: 13m 32s\n",
      "37:\tlearn: 0.7535572\ttotal: 46.6s\tremaining: 13m 31s\n",
      "38:\tlearn: 0.7528565\ttotal: 47.8s\tremaining: 13m 30s\n",
      "39:\tlearn: 0.7518393\ttotal: 49s\tremaining: 13m 29s\n",
      "40:\tlearn: 0.7511738\ttotal: 50.3s\tremaining: 13m 27s\n",
      "41:\tlearn: 0.7505884\ttotal: 51.6s\tremaining: 13m 28s\n",
      "42:\tlearn: 0.7499514\ttotal: 52.8s\tremaining: 13m 27s\n",
      "43:\tlearn: 0.7495336\ttotal: 54.1s\tremaining: 13m 26s\n",
      "44:\tlearn: 0.7486355\ttotal: 55.3s\tremaining: 13m 25s\n",
      "45:\tlearn: 0.7480674\ttotal: 56.5s\tremaining: 13m 23s\n",
      "46:\tlearn: 0.7472565\ttotal: 57.8s\tremaining: 13m 22s\n",
      "47:\tlearn: 0.7466667\ttotal: 59.1s\tremaining: 13m 22s\n",
      "48:\tlearn: 0.7462372\ttotal: 1m\tremaining: 13m 21s\n",
      "49:\tlearn: 0.7454745\ttotal: 1m 1s\tremaining: 13m 21s\n",
      "50:\tlearn: 0.7445019\ttotal: 1m 2s\tremaining: 13m 19s\n",
      "51:\tlearn: 0.7440598\ttotal: 1m 4s\tremaining: 13m 19s\n",
      "52:\tlearn: 0.7434698\ttotal: 1m 5s\tremaining: 13m 19s\n",
      "53:\tlearn: 0.7428681\ttotal: 1m 6s\tremaining: 13m 16s\n",
      "54:\tlearn: 0.7417988\ttotal: 1m 7s\tremaining: 13m 15s\n",
      "55:\tlearn: 0.7412254\ttotal: 1m 8s\tremaining: 13m 13s\n",
      "56:\tlearn: 0.7408335\ttotal: 1m 10s\tremaining: 13m 11s\n",
      "57:\tlearn: 0.7400981\ttotal: 1m 11s\tremaining: 13m 10s\n",
      "58:\tlearn: 0.7395574\ttotal: 1m 12s\tremaining: 13m 9s\n",
      "59:\tlearn: 0.7390798\ttotal: 1m 13s\tremaining: 13m 8s\n",
      "60:\tlearn: 0.7385808\ttotal: 1m 15s\tremaining: 13m 7s\n",
      "61:\tlearn: 0.7382627\ttotal: 1m 16s\tremaining: 13m 6s\n",
      "62:\tlearn: 0.7376831\ttotal: 1m 17s\tremaining: 13m 4s\n",
      "63:\tlearn: 0.7372384\ttotal: 1m 18s\tremaining: 13m 3s\n",
      "64:\tlearn: 0.7366831\ttotal: 1m 20s\tremaining: 13m 1s\n",
      "65:\tlearn: 0.7362906\ttotal: 1m 21s\tremaining: 13m\n",
      "66:\tlearn: 0.7357898\ttotal: 1m 22s\tremaining: 12m 58s\n",
      "67:\tlearn: 0.7354328\ttotal: 1m 23s\tremaining: 12m 57s\n",
      "68:\tlearn: 0.7350168\ttotal: 1m 24s\tremaining: 12m 56s\n",
      "69:\tlearn: 0.7344216\ttotal: 1m 26s\tremaining: 12m 55s\n",
      "70:\tlearn: 0.7339057\ttotal: 1m 27s\tremaining: 12m 53s\n",
      "71:\tlearn: 0.7335448\ttotal: 1m 28s\tremaining: 12m 52s\n",
      "72:\tlearn: 0.7316276\ttotal: 1m 29s\tremaining: 12m 51s\n",
      "73:\tlearn: 0.7312993\ttotal: 1m 30s\tremaining: 12m 49s\n",
      "74:\tlearn: 0.7310097\ttotal: 1m 32s\tremaining: 12m 47s\n",
      "75:\tlearn: 0.7305471\ttotal: 1m 33s\tremaining: 12m 46s\n",
      "76:\tlearn: 0.7302631\ttotal: 1m 34s\tremaining: 12m 45s\n",
      "77:\tlearn: 0.7299735\ttotal: 1m 35s\tremaining: 12m 44s\n",
      "78:\tlearn: 0.7295583\ttotal: 1m 37s\tremaining: 12m 42s\n",
      "79:\tlearn: 0.7292250\ttotal: 1m 38s\tremaining: 12m 42s\n",
      "80:\tlearn: 0.7289947\ttotal: 1m 39s\tremaining: 12m 41s\n",
      "81:\tlearn: 0.7286208\ttotal: 1m 40s\tremaining: 12m 40s\n",
      "82:\tlearn: 0.7283975\ttotal: 1m 42s\tremaining: 12m 38s\n",
      "83:\tlearn: 0.7280506\ttotal: 1m 43s\tremaining: 12m 37s\n",
      "84:\tlearn: 0.7275644\ttotal: 1m 44s\tremaining: 12m 35s\n",
      "85:\tlearn: 0.7271956\ttotal: 1m 45s\tremaining: 12m 34s\n",
      "86:\tlearn: 0.7267388\ttotal: 1m 46s\tremaining: 12m 33s\n",
      "87:\tlearn: 0.7263743\ttotal: 1m 48s\tremaining: 12m 32s\n",
      "88:\tlearn: 0.7261141\ttotal: 1m 49s\tremaining: 12m 30s\n",
      "89:\tlearn: 0.7255084\ttotal: 1m 50s\tremaining: 12m 29s\n",
      "90:\tlearn: 0.7241226\ttotal: 1m 51s\tremaining: 12m 27s\n",
      "91:\tlearn: 0.7238573\ttotal: 1m 52s\tremaining: 12m 26s\n",
      "92:\tlearn: 0.7234503\ttotal: 1m 54s\tremaining: 12m 24s\n",
      "93:\tlearn: 0.7232137\ttotal: 1m 55s\tremaining: 12m 23s\n",
      "94:\tlearn: 0.7229779\ttotal: 1m 56s\tremaining: 12m 22s\n",
      "95:\tlearn: 0.7213915\ttotal: 1m 57s\tremaining: 12m 20s\n",
      "96:\tlearn: 0.7211730\ttotal: 1m 58s\tremaining: 12m 19s\n",
      "97:\tlearn: 0.7206717\ttotal: 2m\tremaining: 12m 18s\n",
      "98:\tlearn: 0.7199253\ttotal: 2m 1s\tremaining: 12m 16s\n",
      "99:\tlearn: 0.7195866\ttotal: 2m 2s\tremaining: 12m 15s\n",
      "100:\tlearn: 0.7192654\ttotal: 2m 3s\tremaining: 12m 14s\n",
      "101:\tlearn: 0.7178224\ttotal: 2m 5s\tremaining: 12m 13s\n",
      "102:\tlearn: 0.7176263\ttotal: 2m 6s\tremaining: 12m 11s\n",
      "103:\tlearn: 0.7173562\ttotal: 2m 7s\tremaining: 12m 10s\n",
      "104:\tlearn: 0.7165917\ttotal: 2m 8s\tremaining: 12m 9s\n",
      "105:\tlearn: 0.7163750\ttotal: 2m 9s\tremaining: 12m 7s\n",
      "106:\tlearn: 0.7161060\ttotal: 2m 11s\tremaining: 12m 6s\n",
      "107:\tlearn: 0.7157885\ttotal: 2m 12s\tremaining: 12m 4s\n",
      "108:\tlearn: 0.7155494\ttotal: 2m 13s\tremaining: 12m 3s\n",
      "109:\tlearn: 0.7151170\ttotal: 2m 14s\tremaining: 12m 2s\n",
      "110:\tlearn: 0.7148399\ttotal: 2m 15s\tremaining: 12m 1s\n",
      "111:\tlearn: 0.7143008\ttotal: 2m 17s\tremaining: 11m 59s\n",
      "112:\tlearn: 0.7139539\ttotal: 2m 18s\tremaining: 11m 58s\n",
      "113:\tlearn: 0.7137250\ttotal: 2m 19s\tremaining: 11m 57s\n",
      "114:\tlearn: 0.7135916\ttotal: 2m 20s\tremaining: 11m 56s\n",
      "115:\tlearn: 0.7132749\ttotal: 2m 22s\tremaining: 11m 54s\n",
      "116:\tlearn: 0.7126765\ttotal: 2m 23s\tremaining: 11m 53s\n",
      "117:\tlearn: 0.7124726\ttotal: 2m 24s\tremaining: 11m 52s\n",
      "118:\tlearn: 0.7121022\ttotal: 2m 25s\tremaining: 11m 51s\n",
      "119:\tlearn: 0.7118084\ttotal: 2m 26s\tremaining: 11m 49s\n",
      "120:\tlearn: 0.7115371\ttotal: 2m 28s\tremaining: 11m 48s\n",
      "121:\tlearn: 0.7112334\ttotal: 2m 29s\tremaining: 11m 47s\n",
      "122:\tlearn: 0.7110095\ttotal: 2m 30s\tremaining: 11m 46s\n",
      "123:\tlearn: 0.7107293\ttotal: 2m 31s\tremaining: 11m 44s\n",
      "124:\tlearn: 0.7104493\ttotal: 2m 33s\tremaining: 11m 43s\n",
      "125:\tlearn: 0.7102344\ttotal: 2m 34s\tremaining: 11m 42s\n",
      "126:\tlearn: 0.7091206\ttotal: 2m 35s\tremaining: 11m 41s\n",
      "127:\tlearn: 0.7088383\ttotal: 2m 36s\tremaining: 11m 40s\n",
      "128:\tlearn: 0.7085468\ttotal: 2m 37s\tremaining: 11m 39s\n",
      "129:\tlearn: 0.7083889\ttotal: 2m 39s\tremaining: 11m 37s\n",
      "130:\tlearn: 0.7082951\ttotal: 2m 40s\tremaining: 11m 36s\n",
      "131:\tlearn: 0.7080588\ttotal: 2m 41s\tremaining: 11m 35s\n",
      "132:\tlearn: 0.7078762\ttotal: 2m 42s\tremaining: 11m 33s\n",
      "133:\tlearn: 0.7072439\ttotal: 2m 43s\tremaining: 11m 32s\n",
      "134:\tlearn: 0.7059608\ttotal: 2m 45s\tremaining: 11m 31s\n",
      "135:\tlearn: 0.7057471\ttotal: 2m 46s\tremaining: 11m 29s\n",
      "136:\tlearn: 0.7055250\ttotal: 2m 47s\tremaining: 11m 28s\n",
      "137:\tlearn: 0.7052214\ttotal: 2m 48s\tremaining: 11m 27s\n",
      "138:\tlearn: 0.7049169\ttotal: 2m 49s\tremaining: 11m 26s\n",
      "139:\tlearn: 0.7038401\ttotal: 2m 51s\tremaining: 11m 24s\n",
      "140:\tlearn: 0.7036617\ttotal: 2m 52s\tremaining: 11m 23s\n",
      "141:\tlearn: 0.7034657\ttotal: 2m 53s\tremaining: 11m 22s\n",
      "142:\tlearn: 0.7032246\ttotal: 2m 54s\tremaining: 11m 20s\n",
      "143:\tlearn: 0.7020804\ttotal: 2m 55s\tremaining: 11m 19s\n",
      "144:\tlearn: 0.7018698\ttotal: 2m 57s\tremaining: 11m 17s\n",
      "145:\tlearn: 0.7016266\ttotal: 2m 58s\tremaining: 11m 16s\n",
      "146:\tlearn: 0.7014203\ttotal: 2m 59s\tremaining: 11m 15s\n",
      "147:\tlearn: 0.7011886\ttotal: 3m\tremaining: 11m 14s\n",
      "148:\tlearn: 0.7009207\ttotal: 3m 2s\tremaining: 11m 13s\n",
      "149:\tlearn: 0.7007398\ttotal: 3m 3s\tremaining: 11m 11s\n",
      "150:\tlearn: 0.7005565\ttotal: 3m 4s\tremaining: 11m 10s\n",
      "151:\tlearn: 0.7003380\ttotal: 3m 5s\tremaining: 11m 10s\n",
      "152:\tlearn: 0.7001577\ttotal: 3m 7s\tremaining: 11m 8s\n",
      "153:\tlearn: 0.6999855\ttotal: 3m 8s\tremaining: 11m 7s\n",
      "154:\tlearn: 0.6998468\ttotal: 3m 9s\tremaining: 11m 6s\n",
      "155:\tlearn: 0.6996829\ttotal: 3m 10s\tremaining: 11m 5s\n",
      "156:\tlearn: 0.6995615\ttotal: 3m 11s\tremaining: 11m 3s\n",
      "157:\tlearn: 0.6987201\ttotal: 3m 13s\tremaining: 11m 2s\n",
      "158:\tlearn: 0.6983698\ttotal: 3m 14s\tremaining: 11m 1s\n",
      "159:\tlearn: 0.6980007\ttotal: 3m 15s\tremaining: 11m\n",
      "160:\tlearn: 0.6978186\ttotal: 3m 16s\tremaining: 10m 59s\n",
      "161:\tlearn: 0.6976513\ttotal: 3m 18s\tremaining: 10m 57s\n",
      "162:\tlearn: 0.6972144\ttotal: 3m 19s\tremaining: 10m 56s\n",
      "163:\tlearn: 0.6969629\ttotal: 3m 20s\tremaining: 10m 55s\n",
      "164:\tlearn: 0.6964418\ttotal: 3m 21s\tremaining: 10m 54s\n",
      "165:\tlearn: 0.6962042\ttotal: 3m 23s\tremaining: 10m 53s\n",
      "166:\tlearn: 0.6957582\ttotal: 3m 24s\tremaining: 10m 52s\n",
      "167:\tlearn: 0.6949165\ttotal: 3m 25s\tremaining: 10m 50s\n",
      "168:\tlearn: 0.6939776\ttotal: 3m 26s\tremaining: 10m 49s\n",
      "169:\tlearn: 0.6938304\ttotal: 3m 27s\tremaining: 10m 48s\n",
      "170:\tlearn: 0.6936586\ttotal: 3m 29s\tremaining: 10m 47s\n",
      "171:\tlearn: 0.6928805\ttotal: 3m 30s\tremaining: 10m 45s\n",
      "172:\tlearn: 0.6926226\ttotal: 3m 31s\tremaining: 10m 44s\n",
      "173:\tlearn: 0.6923683\ttotal: 3m 32s\tremaining: 10m 43s\n",
      "174:\tlearn: 0.6921433\ttotal: 3m 34s\tremaining: 10m 42s\n",
      "175:\tlearn: 0.6901876\ttotal: 3m 35s\tremaining: 10m 40s\n",
      "176:\tlearn: 0.6899376\ttotal: 3m 36s\tremaining: 10m 39s\n",
      "177:\tlearn: 0.6897683\ttotal: 3m 37s\tremaining: 10m 38s\n",
      "178:\tlearn: 0.6895074\ttotal: 3m 38s\tremaining: 10m 37s\n",
      "179:\tlearn: 0.6884978\ttotal: 3m 40s\tremaining: 10m 37s\n",
      "180:\tlearn: 0.6882124\ttotal: 3m 41s\tremaining: 10m 35s\n",
      "181:\tlearn: 0.6879873\ttotal: 3m 42s\tremaining: 10m 34s\n",
      "182:\tlearn: 0.6875608\ttotal: 3m 44s\tremaining: 10m 33s\n",
      "183:\tlearn: 0.6873164\ttotal: 3m 45s\tremaining: 10m 31s\n",
      "184:\tlearn: 0.6871272\ttotal: 3m 46s\tremaining: 10m 30s\n",
      "185:\tlearn: 0.6870192\ttotal: 3m 47s\tremaining: 10m 29s\n",
      "186:\tlearn: 0.6867447\ttotal: 3m 48s\tremaining: 10m 28s\n",
      "187:\tlearn: 0.6865060\ttotal: 3m 50s\tremaining: 10m 27s\n",
      "188:\tlearn: 0.6863897\ttotal: 3m 51s\tremaining: 10m 25s\n",
      "189:\tlearn: 0.6859364\ttotal: 3m 52s\tremaining: 10m 24s\n",
      "190:\tlearn: 0.6857319\ttotal: 3m 53s\tremaining: 10m 23s\n",
      "191:\tlearn: 0.6856047\ttotal: 3m 54s\tremaining: 10m 21s\n",
      "192:\tlearn: 0.6851879\ttotal: 3m 56s\tremaining: 10m 20s\n",
      "193:\tlearn: 0.6849134\ttotal: 3m 57s\tremaining: 10m 19s\n",
      "194:\tlearn: 0.6847718\ttotal: 3m 58s\tremaining: 10m 17s\n",
      "195:\tlearn: 0.6841412\ttotal: 3m 59s\tremaining: 10m 16s\n",
      "196:\tlearn: 0.6838510\ttotal: 4m 1s\tremaining: 10m 15s\n",
      "197:\tlearn: 0.6837421\ttotal: 4m 2s\tremaining: 10m 14s\n",
      "198:\tlearn: 0.6834054\ttotal: 4m 3s\tremaining: 10m 12s\n",
      "199:\tlearn: 0.6832987\ttotal: 4m 4s\tremaining: 10m 11s\n",
      "200:\tlearn: 0.6831077\ttotal: 4m 5s\tremaining: 10m 10s\n",
      "201:\tlearn: 0.6826452\ttotal: 4m 7s\tremaining: 10m 9s\n",
      "202:\tlearn: 0.6825391\ttotal: 4m 8s\tremaining: 10m 8s\n",
      "203:\tlearn: 0.6822115\ttotal: 4m 9s\tremaining: 10m 6s\n",
      "204:\tlearn: 0.6816614\ttotal: 4m 10s\tremaining: 10m 5s\n",
      "205:\tlearn: 0.6815004\ttotal: 4m 12s\tremaining: 10m 4s\n",
      "206:\tlearn: 0.6814075\ttotal: 4m 13s\tremaining: 10m 3s\n",
      "207:\tlearn: 0.6811831\ttotal: 4m 14s\tremaining: 10m 2s\n",
      "208:\tlearn: 0.6810793\ttotal: 4m 15s\tremaining: 10m\n",
      "209:\tlearn: 0.6809561\ttotal: 4m 16s\tremaining: 9m 59s\n",
      "210:\tlearn: 0.6808396\ttotal: 4m 18s\tremaining: 9m 58s\n",
      "211:\tlearn: 0.6807493\ttotal: 4m 19s\tremaining: 9m 56s\n",
      "212:\tlearn: 0.6805994\ttotal: 4m 20s\tremaining: 9m 55s\n",
      "213:\tlearn: 0.6804234\ttotal: 4m 21s\tremaining: 9m 54s\n",
      "214:\tlearn: 0.6802235\ttotal: 4m 22s\tremaining: 9m 53s\n",
      "215:\tlearn: 0.6800455\ttotal: 4m 24s\tremaining: 9m 52s\n",
      "216:\tlearn: 0.6798752\ttotal: 4m 25s\tremaining: 9m 50s\n",
      "217:\tlearn: 0.6797042\ttotal: 4m 26s\tremaining: 9m 49s\n",
      "218:\tlearn: 0.6795705\ttotal: 4m 27s\tremaining: 9m 48s\n",
      "219:\tlearn: 0.6794460\ttotal: 4m 29s\tremaining: 9m 47s\n",
      "220:\tlearn: 0.6791582\ttotal: 4m 30s\tremaining: 9m 46s\n",
      "221:\tlearn: 0.6790523\ttotal: 4m 31s\tremaining: 9m 44s\n",
      "222:\tlearn: 0.6788997\ttotal: 4m 32s\tremaining: 9m 43s\n",
      "223:\tlearn: 0.6786653\ttotal: 4m 34s\tremaining: 9m 42s\n",
      "224:\tlearn: 0.6785383\ttotal: 4m 35s\tremaining: 9m 40s\n",
      "225:\tlearn: 0.6783646\ttotal: 4m 36s\tremaining: 9m 39s\n",
      "226:\tlearn: 0.6781121\ttotal: 4m 37s\tremaining: 9m 38s\n",
      "227:\tlearn: 0.6780003\ttotal: 4m 38s\tremaining: 9m 37s\n",
      "228:\tlearn: 0.6778216\ttotal: 4m 40s\tremaining: 9m 36s\n",
      "229:\tlearn: 0.6776693\ttotal: 4m 41s\tremaining: 9m 34s\n",
      "230:\tlearn: 0.6775432\ttotal: 4m 42s\tremaining: 9m 33s\n",
      "231:\tlearn: 0.6774159\ttotal: 4m 43s\tremaining: 9m 32s\n",
      "232:\tlearn: 0.6772690\ttotal: 4m 44s\tremaining: 9m 31s\n",
      "233:\tlearn: 0.6771488\ttotal: 4m 46s\tremaining: 9m 29s\n",
      "234:\tlearn: 0.6769176\ttotal: 4m 47s\tremaining: 9m 28s\n",
      "235:\tlearn: 0.6767048\ttotal: 4m 48s\tremaining: 9m 27s\n",
      "236:\tlearn: 0.6754359\ttotal: 4m 49s\tremaining: 9m 26s\n",
      "237:\tlearn: 0.6751757\ttotal: 4m 51s\tremaining: 9m 25s\n",
      "238:\tlearn: 0.6748732\ttotal: 4m 52s\tremaining: 9m 23s\n",
      "239:\tlearn: 0.6747578\ttotal: 4m 53s\tremaining: 9m 22s\n",
      "240:\tlearn: 0.6745899\ttotal: 4m 54s\tremaining: 9m 21s\n",
      "241:\tlearn: 0.6744686\ttotal: 4m 56s\tremaining: 9m 20s\n",
      "242:\tlearn: 0.6743647\ttotal: 4m 57s\tremaining: 9m 18s\n",
      "243:\tlearn: 0.6741702\ttotal: 4m 58s\tremaining: 9m 17s\n",
      "244:\tlearn: 0.6740617\ttotal: 4m 59s\tremaining: 9m 16s\n",
      "245:\tlearn: 0.6739724\ttotal: 5m\tremaining: 9m 15s\n",
      "246:\tlearn: 0.6738168\ttotal: 5m 2s\tremaining: 9m 13s\n",
      "247:\tlearn: 0.6736042\ttotal: 5m 3s\tremaining: 9m 12s\n",
      "248:\tlearn: 0.6734133\ttotal: 5m 4s\tremaining: 9m 11s\n",
      "249:\tlearn: 0.6733048\ttotal: 5m 5s\tremaining: 9m 10s\n",
      "250:\tlearn: 0.6731907\ttotal: 5m 6s\tremaining: 9m 8s\n",
      "251:\tlearn: 0.6730087\ttotal: 5m 8s\tremaining: 9m 7s\n",
      "252:\tlearn: 0.6727975\ttotal: 5m 9s\tremaining: 9m 6s\n",
      "253:\tlearn: 0.6726354\ttotal: 5m 10s\tremaining: 9m 5s\n",
      "254:\tlearn: 0.6724804\ttotal: 5m 11s\tremaining: 9m 3s\n",
      "255:\tlearn: 0.6723044\ttotal: 5m 12s\tremaining: 9m 2s\n",
      "256:\tlearn: 0.6720317\ttotal: 5m 14s\tremaining: 9m 1s\n",
      "257:\tlearn: 0.6718982\ttotal: 5m 15s\tremaining: 9m\n",
      "258:\tlearn: 0.6717982\ttotal: 5m 16s\tremaining: 8m 59s\n",
      "259:\tlearn: 0.6716773\ttotal: 5m 17s\tremaining: 8m 57s\n",
      "260:\tlearn: 0.6713535\ttotal: 5m 19s\tremaining: 8m 56s\n",
      "261:\tlearn: 0.6712656\ttotal: 5m 20s\tremaining: 8m 55s\n",
      "262:\tlearn: 0.6711298\ttotal: 5m 21s\tremaining: 8m 54s\n",
      "263:\tlearn: 0.6709625\ttotal: 5m 22s\tremaining: 8m 52s\n",
      "264:\tlearn: 0.6707312\ttotal: 5m 23s\tremaining: 8m 51s\n",
      "265:\tlearn: 0.6706118\ttotal: 5m 24s\tremaining: 8m 50s\n",
      "266:\tlearn: 0.6704734\ttotal: 5m 26s\tremaining: 8m 48s\n",
      "267:\tlearn: 0.6702353\ttotal: 5m 27s\tremaining: 8m 47s\n",
      "268:\tlearn: 0.6701295\ttotal: 5m 28s\tremaining: 8m 46s\n",
      "269:\tlearn: 0.6700137\ttotal: 5m 29s\tremaining: 8m 45s\n",
      "270:\tlearn: 0.6698539\ttotal: 5m 30s\tremaining: 8m 43s\n",
      "271:\tlearn: 0.6696925\ttotal: 5m 32s\tremaining: 8m 42s\n",
      "272:\tlearn: 0.6694681\ttotal: 5m 33s\tremaining: 8m 41s\n",
      "273:\tlearn: 0.6693052\ttotal: 5m 34s\tremaining: 8m 40s\n",
      "274:\tlearn: 0.6686731\ttotal: 5m 35s\tremaining: 8m 38s\n",
      "275:\tlearn: 0.6682327\ttotal: 5m 36s\tremaining: 8m 37s\n",
      "276:\tlearn: 0.6681148\ttotal: 5m 38s\tremaining: 8m 36s\n",
      "277:\tlearn: 0.6679865\ttotal: 5m 39s\tremaining: 8m 34s\n",
      "278:\tlearn: 0.6678663\ttotal: 5m 40s\tremaining: 8m 33s\n",
      "279:\tlearn: 0.6677883\ttotal: 5m 41s\tremaining: 8m 32s\n",
      "280:\tlearn: 0.6676764\ttotal: 5m 42s\tremaining: 8m 31s\n",
      "281:\tlearn: 0.6675718\ttotal: 5m 44s\tremaining: 8m 30s\n",
      "282:\tlearn: 0.6674186\ttotal: 5m 45s\tremaining: 8m 29s\n",
      "283:\tlearn: 0.6673017\ttotal: 5m 46s\tremaining: 8m 27s\n",
      "284:\tlearn: 0.6672197\ttotal: 5m 47s\tremaining: 8m 26s\n",
      "285:\tlearn: 0.6670237\ttotal: 5m 49s\tremaining: 8m 25s\n",
      "286:\tlearn: 0.6669094\ttotal: 5m 50s\tremaining: 8m 24s\n",
      "287:\tlearn: 0.6666967\ttotal: 5m 51s\tremaining: 8m 22s\n",
      "288:\tlearn: 0.6666171\ttotal: 5m 52s\tremaining: 8m 21s\n",
      "289:\tlearn: 0.6664089\ttotal: 5m 53s\tremaining: 8m 20s\n",
      "290:\tlearn: 0.6659697\ttotal: 5m 55s\tremaining: 8m 19s\n",
      "291:\tlearn: 0.6658828\ttotal: 5m 56s\tremaining: 8m 17s\n",
      "292:\tlearn: 0.6657887\ttotal: 5m 57s\tremaining: 8m 16s\n",
      "293:\tlearn: 0.6657110\ttotal: 5m 58s\tremaining: 8m 15s\n",
      "294:\tlearn: 0.6656177\ttotal: 5m 59s\tremaining: 8m 14s\n",
      "295:\tlearn: 0.6654938\ttotal: 6m 1s\tremaining: 8m 12s\n",
      "296:\tlearn: 0.6654376\ttotal: 6m 2s\tremaining: 8m 11s\n",
      "297:\tlearn: 0.6653092\ttotal: 6m 3s\tremaining: 8m 10s\n",
      "298:\tlearn: 0.6649680\ttotal: 6m 4s\tremaining: 8m 9s\n",
      "299:\tlearn: 0.6647957\ttotal: 6m 6s\tremaining: 8m 8s\n",
      "300:\tlearn: 0.6646112\ttotal: 6m 7s\tremaining: 8m 7s\n",
      "301:\tlearn: 0.6644916\ttotal: 6m 8s\tremaining: 8m 5s\n",
      "302:\tlearn: 0.6643375\ttotal: 6m 10s\tremaining: 8m 4s\n",
      "303:\tlearn: 0.6640499\ttotal: 6m 11s\tremaining: 8m 3s\n",
      "304:\tlearn: 0.6638955\ttotal: 6m 12s\tremaining: 8m 2s\n",
      "305:\tlearn: 0.6637428\ttotal: 6m 13s\tremaining: 8m 1s\n",
      "306:\tlearn: 0.6635755\ttotal: 6m 15s\tremaining: 8m\n",
      "307:\tlearn: 0.6634734\ttotal: 6m 16s\tremaining: 7m 59s\n",
      "308:\tlearn: 0.6633627\ttotal: 6m 17s\tremaining: 7m 57s\n",
      "309:\tlearn: 0.6632981\ttotal: 6m 18s\tremaining: 7m 56s\n",
      "310:\tlearn: 0.6631003\ttotal: 6m 20s\tremaining: 7m 55s\n",
      "311:\tlearn: 0.6628755\ttotal: 6m 21s\tremaining: 7m 54s\n",
      "312:\tlearn: 0.6627030\ttotal: 6m 22s\tremaining: 7m 52s\n",
      "313:\tlearn: 0.6626187\ttotal: 6m 23s\tremaining: 7m 51s\n",
      "314:\tlearn: 0.6624095\ttotal: 6m 25s\tremaining: 7m 50s\n",
      "315:\tlearn: 0.6622130\ttotal: 6m 26s\tremaining: 7m 49s\n",
      "316:\tlearn: 0.6621199\ttotal: 6m 27s\tremaining: 7m 48s\n",
      "317:\tlearn: 0.6619628\ttotal: 6m 28s\tremaining: 7m 47s\n",
      "318:\tlearn: 0.6618063\ttotal: 6m 30s\tremaining: 7m 45s\n",
      "319:\tlearn: 0.6617168\ttotal: 6m 31s\tremaining: 7m 44s\n",
      "320:\tlearn: 0.6615647\ttotal: 6m 32s\tremaining: 7m 43s\n",
      "321:\tlearn: 0.6614465\ttotal: 6m 33s\tremaining: 7m 42s\n",
      "322:\tlearn: 0.6613200\ttotal: 6m 34s\tremaining: 7m 40s\n",
      "323:\tlearn: 0.6612491\ttotal: 6m 36s\tremaining: 7m 39s\n",
      "324:\tlearn: 0.6611301\ttotal: 6m 37s\tremaining: 7m 38s\n",
      "325:\tlearn: 0.6605234\ttotal: 6m 38s\tremaining: 7m 37s\n",
      "326:\tlearn: 0.6603715\ttotal: 6m 39s\tremaining: 7m 35s\n",
      "327:\tlearn: 0.6599592\ttotal: 6m 40s\tremaining: 7m 34s\n",
      "328:\tlearn: 0.6598527\ttotal: 6m 41s\tremaining: 7m 33s\n",
      "329:\tlearn: 0.6597390\ttotal: 6m 43s\tremaining: 7m 32s\n",
      "330:\tlearn: 0.6596483\ttotal: 6m 44s\tremaining: 7m 30s\n",
      "331:\tlearn: 0.6595592\ttotal: 6m 45s\tremaining: 7m 29s\n",
      "332:\tlearn: 0.6594101\ttotal: 6m 46s\tremaining: 7m 28s\n",
      "333:\tlearn: 0.6592962\ttotal: 6m 47s\tremaining: 7m 27s\n",
      "334:\tlearn: 0.6591144\ttotal: 6m 49s\tremaining: 7m 25s\n",
      "335:\tlearn: 0.6590222\ttotal: 6m 50s\tremaining: 7m 24s\n",
      "336:\tlearn: 0.6589275\ttotal: 6m 51s\tremaining: 7m 23s\n",
      "337:\tlearn: 0.6587576\ttotal: 6m 52s\tremaining: 7m 22s\n",
      "338:\tlearn: 0.6585855\ttotal: 6m 54s\tremaining: 7m 21s\n",
      "339:\tlearn: 0.6584066\ttotal: 6m 55s\tremaining: 7m 19s\n",
      "340:\tlearn: 0.6582783\ttotal: 6m 56s\tremaining: 7m 18s\n",
      "341:\tlearn: 0.6582135\ttotal: 6m 57s\tremaining: 7m 17s\n",
      "342:\tlearn: 0.6581459\ttotal: 6m 59s\tremaining: 7m 16s\n",
      "343:\tlearn: 0.6580268\ttotal: 7m\tremaining: 7m 14s\n",
      "344:\tlearn: 0.6579287\ttotal: 7m 1s\tremaining: 7m 13s\n",
      "345:\tlearn: 0.6578639\ttotal: 7m 2s\tremaining: 7m 12s\n",
      "346:\tlearn: 0.6576774\ttotal: 7m 3s\tremaining: 7m 11s\n",
      "347:\tlearn: 0.6575973\ttotal: 7m 5s\tremaining: 7m 10s\n",
      "348:\tlearn: 0.6575021\ttotal: 7m 6s\tremaining: 7m 8s\n",
      "349:\tlearn: 0.6573196\ttotal: 7m 7s\tremaining: 7m 7s\n",
      "350:\tlearn: 0.6572297\ttotal: 7m 8s\tremaining: 7m 6s\n",
      "351:\tlearn: 0.6571484\ttotal: 7m 10s\tremaining: 7m 5s\n",
      "352:\tlearn: 0.6570561\ttotal: 7m 11s\tremaining: 7m 4s\n",
      "353:\tlearn: 0.6569244\ttotal: 7m 12s\tremaining: 7m 2s\n",
      "354:\tlearn: 0.6568651\ttotal: 7m 13s\tremaining: 7m 1s\n",
      "355:\tlearn: 0.6567924\ttotal: 7m 14s\tremaining: 7m\n",
      "356:\tlearn: 0.6566613\ttotal: 7m 16s\tremaining: 6m 59s\n",
      "357:\tlearn: 0.6565911\ttotal: 7m 17s\tremaining: 6m 57s\n",
      "358:\tlearn: 0.6565272\ttotal: 7m 18s\tremaining: 6m 56s\n",
      "359:\tlearn: 0.6558389\ttotal: 7m 19s\tremaining: 6m 55s\n",
      "360:\tlearn: 0.6557105\ttotal: 7m 20s\tremaining: 6m 54s\n",
      "361:\tlearn: 0.6555848\ttotal: 7m 22s\tremaining: 6m 52s\n",
      "362:\tlearn: 0.6554543\ttotal: 7m 23s\tremaining: 6m 51s\n",
      "363:\tlearn: 0.6552878\ttotal: 7m 24s\tremaining: 6m 50s\n",
      "364:\tlearn: 0.6552024\ttotal: 7m 25s\tremaining: 6m 49s\n",
      "365:\tlearn: 0.6550818\ttotal: 7m 27s\tremaining: 6m 47s\n",
      "366:\tlearn: 0.6547101\ttotal: 7m 28s\tremaining: 6m 46s\n",
      "367:\tlearn: 0.6545344\ttotal: 7m 29s\tremaining: 6m 45s\n",
      "368:\tlearn: 0.6541126\ttotal: 7m 30s\tremaining: 6m 44s\n",
      "369:\tlearn: 0.6534834\ttotal: 7m 31s\tremaining: 6m 43s\n",
      "370:\tlearn: 0.6534238\ttotal: 7m 33s\tremaining: 6m 41s\n",
      "371:\tlearn: 0.6533117\ttotal: 7m 34s\tremaining: 6m 40s\n",
      "372:\tlearn: 0.6532638\ttotal: 7m 35s\tremaining: 6m 39s\n",
      "373:\tlearn: 0.6530951\ttotal: 7m 36s\tremaining: 6m 37s\n",
      "374:\tlearn: 0.6526261\ttotal: 7m 37s\tremaining: 6m 36s\n",
      "375:\tlearn: 0.6524677\ttotal: 7m 39s\tremaining: 6m 35s\n",
      "376:\tlearn: 0.6523551\ttotal: 7m 40s\tremaining: 6m 34s\n",
      "377:\tlearn: 0.6522073\ttotal: 7m 41s\tremaining: 6m 33s\n",
      "378:\tlearn: 0.6519660\ttotal: 7m 42s\tremaining: 6m 31s\n",
      "379:\tlearn: 0.6518275\ttotal: 7m 44s\tremaining: 6m 30s\n",
      "380:\tlearn: 0.6517420\ttotal: 7m 45s\tremaining: 6m 29s\n",
      "381:\tlearn: 0.6515968\ttotal: 7m 46s\tremaining: 6m 28s\n",
      "382:\tlearn: 0.6514934\ttotal: 7m 47s\tremaining: 6m 27s\n",
      "383:\tlearn: 0.6514503\ttotal: 7m 48s\tremaining: 6m 25s\n",
      "384:\tlearn: 0.6513117\ttotal: 7m 49s\tremaining: 6m 24s\n",
      "385:\tlearn: 0.6512553\ttotal: 7m 51s\tremaining: 6m 23s\n",
      "386:\tlearn: 0.6507932\ttotal: 7m 52s\tremaining: 6m 21s\n",
      "387:\tlearn: 0.6506987\ttotal: 7m 53s\tremaining: 6m 20s\n",
      "388:\tlearn: 0.6506319\ttotal: 7m 54s\tremaining: 6m 19s\n",
      "389:\tlearn: 0.6505388\ttotal: 7m 55s\tremaining: 6m 18s\n",
      "390:\tlearn: 0.6504326\ttotal: 7m 56s\tremaining: 6m 16s\n",
      "391:\tlearn: 0.6503601\ttotal: 7m 58s\tremaining: 6m 15s\n",
      "392:\tlearn: 0.6502573\ttotal: 7m 59s\tremaining: 6m 14s\n",
      "393:\tlearn: 0.6501377\ttotal: 8m\tremaining: 6m 13s\n",
      "394:\tlearn: 0.6500176\ttotal: 8m 1s\tremaining: 6m 12s\n",
      "395:\tlearn: 0.6499182\ttotal: 8m 2s\tremaining: 6m 10s\n",
      "396:\tlearn: 0.6498568\ttotal: 8m 4s\tremaining: 6m 9s\n",
      "397:\tlearn: 0.6496697\ttotal: 8m 5s\tremaining: 6m 8s\n",
      "398:\tlearn: 0.6495953\ttotal: 8m 6s\tremaining: 6m 7s\n",
      "399:\tlearn: 0.6495252\ttotal: 8m 7s\tremaining: 6m 5s\n",
      "400:\tlearn: 0.6494801\ttotal: 8m 8s\tremaining: 6m 4s\n",
      "401:\tlearn: 0.6492371\ttotal: 8m 10s\tremaining: 6m 3s\n",
      "402:\tlearn: 0.6491827\ttotal: 8m 11s\tremaining: 6m 2s\n",
      "403:\tlearn: 0.6490949\ttotal: 8m 12s\tremaining: 6m\n",
      "404:\tlearn: 0.6489991\ttotal: 8m 13s\tremaining: 5m 59s\n",
      "405:\tlearn: 0.6488182\ttotal: 8m 14s\tremaining: 5m 58s\n",
      "406:\tlearn: 0.6487217\ttotal: 8m 16s\tremaining: 5m 57s\n",
      "407:\tlearn: 0.6485370\ttotal: 8m 17s\tremaining: 5m 55s\n",
      "408:\tlearn: 0.6484453\ttotal: 8m 18s\tremaining: 5m 54s\n",
      "409:\tlearn: 0.6483803\ttotal: 8m 19s\tremaining: 5m 53s\n",
      "410:\tlearn: 0.6483138\ttotal: 8m 20s\tremaining: 5m 52s\n",
      "411:\tlearn: 0.6482179\ttotal: 8m 22s\tremaining: 5m 51s\n",
      "412:\tlearn: 0.6480727\ttotal: 8m 23s\tremaining: 5m 49s\n",
      "413:\tlearn: 0.6479463\ttotal: 8m 24s\tremaining: 5m 48s\n",
      "414:\tlearn: 0.6478308\ttotal: 8m 25s\tremaining: 5m 47s\n",
      "415:\tlearn: 0.6477443\ttotal: 8m 27s\tremaining: 5m 46s\n",
      "416:\tlearn: 0.6476123\ttotal: 8m 28s\tremaining: 5m 45s\n",
      "417:\tlearn: 0.6475617\ttotal: 8m 29s\tremaining: 5m 43s\n",
      "418:\tlearn: 0.6474103\ttotal: 8m 30s\tremaining: 5m 42s\n",
      "419:\tlearn: 0.6473125\ttotal: 8m 32s\tremaining: 5m 41s\n",
      "420:\tlearn: 0.6472245\ttotal: 8m 33s\tremaining: 5m 40s\n",
      "421:\tlearn: 0.6468207\ttotal: 8m 34s\tremaining: 5m 39s\n",
      "422:\tlearn: 0.6467488\ttotal: 8m 35s\tremaining: 5m 37s\n",
      "423:\tlearn: 0.6466383\ttotal: 8m 37s\tremaining: 5m 36s\n",
      "424:\tlearn: 0.6465709\ttotal: 8m 38s\tremaining: 5m 35s\n",
      "425:\tlearn: 0.6464875\ttotal: 8m 39s\tremaining: 5m 34s\n",
      "426:\tlearn: 0.6463384\ttotal: 8m 40s\tremaining: 5m 32s\n",
      "427:\tlearn: 0.6462291\ttotal: 8m 41s\tremaining: 5m 31s\n",
      "428:\tlearn: 0.6461337\ttotal: 8m 43s\tremaining: 5m 30s\n",
      "429:\tlearn: 0.6460213\ttotal: 8m 44s\tremaining: 5m 29s\n",
      "430:\tlearn: 0.6459806\ttotal: 8m 45s\tremaining: 5m 27s\n",
      "431:\tlearn: 0.6459279\ttotal: 8m 46s\tremaining: 5m 26s\n",
      "432:\tlearn: 0.6458538\ttotal: 8m 47s\tremaining: 5m 25s\n",
      "433:\tlearn: 0.6453723\ttotal: 8m 49s\tremaining: 5m 24s\n",
      "434:\tlearn: 0.6452635\ttotal: 8m 50s\tremaining: 5m 23s\n",
      "435:\tlearn: 0.6451736\ttotal: 8m 51s\tremaining: 5m 21s\n",
      "436:\tlearn: 0.6450688\ttotal: 8m 52s\tremaining: 5m 20s\n",
      "437:\tlearn: 0.6449297\ttotal: 8m 53s\tremaining: 5m 19s\n",
      "438:\tlearn: 0.6448690\ttotal: 8m 55s\tremaining: 5m 18s\n",
      "439:\tlearn: 0.6448291\ttotal: 8m 56s\tremaining: 5m 16s\n",
      "440:\tlearn: 0.6447301\ttotal: 8m 57s\tremaining: 5m 15s\n",
      "441:\tlearn: 0.6446596\ttotal: 8m 58s\tremaining: 5m 14s\n",
      "442:\tlearn: 0.6445541\ttotal: 8m 59s\tremaining: 5m 13s\n",
      "443:\tlearn: 0.6444691\ttotal: 9m\tremaining: 5m 11s\n",
      "444:\tlearn: 0.6443606\ttotal: 9m 2s\tremaining: 5m 10s\n",
      "445:\tlearn: 0.6442292\ttotal: 9m 3s\tremaining: 5m 9s\n",
      "446:\tlearn: 0.6441294\ttotal: 9m 4s\tremaining: 5m 8s\n",
      "447:\tlearn: 0.6440753\ttotal: 9m 5s\tremaining: 5m 7s\n",
      "448:\tlearn: 0.6440428\ttotal: 9m 7s\tremaining: 5m 5s\n",
      "449:\tlearn: 0.6439705\ttotal: 9m 8s\tremaining: 5m 4s\n",
      "450:\tlearn: 0.6438900\ttotal: 9m 9s\tremaining: 5m 3s\n",
      "451:\tlearn: 0.6437945\ttotal: 9m 10s\tremaining: 5m 2s\n",
      "452:\tlearn: 0.6437158\ttotal: 9m 11s\tremaining: 5m\n",
      "453:\tlearn: 0.6436439\ttotal: 9m 13s\tremaining: 4m 59s\n",
      "454:\tlearn: 0.6435875\ttotal: 9m 14s\tremaining: 4m 58s\n",
      "455:\tlearn: 0.6435295\ttotal: 9m 15s\tremaining: 4m 57s\n",
      "456:\tlearn: 0.6433454\ttotal: 9m 16s\tremaining: 4m 55s\n",
      "457:\tlearn: 0.6432560\ttotal: 9m 17s\tremaining: 4m 54s\n",
      "458:\tlearn: 0.6432075\ttotal: 9m 18s\tremaining: 4m 53s\n",
      "459:\tlearn: 0.6424897\ttotal: 9m 20s\tremaining: 4m 52s\n",
      "460:\tlearn: 0.6424335\ttotal: 9m 21s\tremaining: 4m 51s\n",
      "461:\tlearn: 0.6423301\ttotal: 9m 22s\tremaining: 4m 49s\n",
      "462:\tlearn: 0.6422540\ttotal: 9m 23s\tremaining: 4m 48s\n",
      "463:\tlearn: 0.6421922\ttotal: 9m 24s\tremaining: 4m 47s\n",
      "464:\tlearn: 0.6420687\ttotal: 9m 26s\tremaining: 4m 46s\n",
      "465:\tlearn: 0.6420156\ttotal: 9m 27s\tremaining: 4m 44s\n",
      "466:\tlearn: 0.6419138\ttotal: 9m 28s\tremaining: 4m 43s\n",
      "467:\tlearn: 0.6417515\ttotal: 9m 29s\tremaining: 4m 42s\n",
      "468:\tlearn: 0.6416548\ttotal: 9m 30s\tremaining: 4m 41s\n",
      "469:\tlearn: 0.6415834\ttotal: 9m 32s\tremaining: 4m 39s\n",
      "470:\tlearn: 0.6415581\ttotal: 9m 33s\tremaining: 4m 38s\n",
      "471:\tlearn: 0.6414489\ttotal: 9m 34s\tremaining: 4m 37s\n",
      "472:\tlearn: 0.6413810\ttotal: 9m 35s\tremaining: 4m 36s\n",
      "473:\tlearn: 0.6413448\ttotal: 9m 36s\tremaining: 4m 35s\n",
      "474:\tlearn: 0.6410258\ttotal: 9m 38s\tremaining: 4m 33s\n",
      "475:\tlearn: 0.6408521\ttotal: 9m 39s\tremaining: 4m 32s\n",
      "476:\tlearn: 0.6407797\ttotal: 9m 40s\tremaining: 4m 31s\n",
      "477:\tlearn: 0.6407063\ttotal: 9m 41s\tremaining: 4m 30s\n",
      "478:\tlearn: 0.6405620\ttotal: 9m 43s\tremaining: 4m 29s\n",
      "479:\tlearn: 0.6404660\ttotal: 9m 44s\tremaining: 4m 27s\n",
      "480:\tlearn: 0.6404158\ttotal: 9m 45s\tremaining: 4m 26s\n",
      "481:\tlearn: 0.6403012\ttotal: 9m 46s\tremaining: 4m 25s\n",
      "482:\tlearn: 0.6402494\ttotal: 9m 47s\tremaining: 4m 24s\n",
      "483:\tlearn: 0.6401359\ttotal: 9m 49s\tremaining: 4m 22s\n",
      "484:\tlearn: 0.6400562\ttotal: 9m 50s\tremaining: 4m 21s\n",
      "485:\tlearn: 0.6395668\ttotal: 9m 51s\tremaining: 4m 20s\n",
      "486:\tlearn: 0.6394134\ttotal: 9m 52s\tremaining: 4m 19s\n",
      "487:\tlearn: 0.6391751\ttotal: 9m 53s\tremaining: 4m 18s\n",
      "488:\tlearn: 0.6390352\ttotal: 9m 55s\tremaining: 4m 16s\n",
      "489:\tlearn: 0.6389803\ttotal: 9m 56s\tremaining: 4m 15s\n",
      "490:\tlearn: 0.6388833\ttotal: 9m 57s\tremaining: 4m 14s\n",
      "491:\tlearn: 0.6388469\ttotal: 9m 58s\tremaining: 4m 13s\n",
      "492:\tlearn: 0.6387902\ttotal: 9m 59s\tremaining: 4m 11s\n",
      "493:\tlearn: 0.6387255\ttotal: 10m 1s\tremaining: 4m 10s\n",
      "494:\tlearn: 0.6386161\ttotal: 10m 2s\tremaining: 4m 9s\n",
      "495:\tlearn: 0.6385617\ttotal: 10m 3s\tremaining: 4m 8s\n",
      "496:\tlearn: 0.6383600\ttotal: 10m 4s\tremaining: 4m 7s\n",
      "497:\tlearn: 0.6382541\ttotal: 10m 6s\tremaining: 4m 5s\n",
      "498:\tlearn: 0.6382190\ttotal: 10m 7s\tremaining: 4m 4s\n",
      "499:\tlearn: 0.6381939\ttotal: 10m 8s\tremaining: 4m 3s\n",
      "500:\tlearn: 0.6381549\ttotal: 10m 9s\tremaining: 4m 2s\n",
      "501:\tlearn: 0.6380705\ttotal: 10m 10s\tremaining: 4m\n",
      "502:\tlearn: 0.6379566\ttotal: 10m 12s\tremaining: 3m 59s\n",
      "503:\tlearn: 0.6378667\ttotal: 10m 13s\tremaining: 3m 58s\n",
      "504:\tlearn: 0.6377738\ttotal: 10m 14s\tremaining: 3m 57s\n",
      "505:\tlearn: 0.6376512\ttotal: 10m 15s\tremaining: 3m 56s\n",
      "506:\tlearn: 0.6375141\ttotal: 10m 16s\tremaining: 3m 54s\n",
      "507:\tlearn: 0.6374416\ttotal: 10m 18s\tremaining: 3m 53s\n",
      "508:\tlearn: 0.6373546\ttotal: 10m 19s\tremaining: 3m 52s\n",
      "509:\tlearn: 0.6372571\ttotal: 10m 20s\tremaining: 3m 51s\n",
      "510:\tlearn: 0.6371485\ttotal: 10m 21s\tremaining: 3m 50s\n",
      "511:\tlearn: 0.6370631\ttotal: 10m 23s\tremaining: 3m 48s\n",
      "512:\tlearn: 0.6369633\ttotal: 10m 24s\tremaining: 3m 47s\n",
      "513:\tlearn: 0.6359504\ttotal: 10m 25s\tremaining: 3m 46s\n",
      "514:\tlearn: 0.6358862\ttotal: 10m 26s\tremaining: 3m 45s\n",
      "515:\tlearn: 0.6358136\ttotal: 10m 27s\tremaining: 3m 43s\n",
      "516:\tlearn: 0.6357617\ttotal: 10m 29s\tremaining: 3m 42s\n",
      "517:\tlearn: 0.6356978\ttotal: 10m 30s\tremaining: 3m 41s\n",
      "518:\tlearn: 0.6355932\ttotal: 10m 31s\tremaining: 3m 40s\n",
      "519:\tlearn: 0.6355049\ttotal: 10m 32s\tremaining: 3m 39s\n",
      "520:\tlearn: 0.6353457\ttotal: 10m 34s\tremaining: 3m 37s\n",
      "521:\tlearn: 0.6352570\ttotal: 10m 35s\tremaining: 3m 36s\n",
      "522:\tlearn: 0.6351677\ttotal: 10m 36s\tremaining: 3m 35s\n",
      "523:\tlearn: 0.6350271\ttotal: 10m 37s\tremaining: 3m 34s\n",
      "524:\tlearn: 0.6349305\ttotal: 10m 39s\tremaining: 3m 33s\n",
      "525:\tlearn: 0.6348121\ttotal: 10m 40s\tremaining: 3m 31s\n",
      "526:\tlearn: 0.6347076\ttotal: 10m 41s\tremaining: 3m 30s\n",
      "527:\tlearn: 0.6346606\ttotal: 10m 42s\tremaining: 3m 29s\n",
      "528:\tlearn: 0.6342887\ttotal: 10m 44s\tremaining: 3m 28s\n",
      "529:\tlearn: 0.6342315\ttotal: 10m 45s\tremaining: 3m 26s\n",
      "530:\tlearn: 0.6342185\ttotal: 10m 46s\tremaining: 3m 25s\n",
      "531:\tlearn: 0.6336247\ttotal: 10m 47s\tremaining: 3m 24s\n",
      "532:\tlearn: 0.6335365\ttotal: 10m 48s\tremaining: 3m 23s\n",
      "533:\tlearn: 0.6334647\ttotal: 10m 50s\tremaining: 3m 22s\n",
      "534:\tlearn: 0.6334043\ttotal: 10m 51s\tremaining: 3m 20s\n",
      "535:\tlearn: 0.6333601\ttotal: 10m 52s\tremaining: 3m 19s\n",
      "536:\tlearn: 0.6332200\ttotal: 10m 53s\tremaining: 3m 18s\n",
      "537:\tlearn: 0.6330853\ttotal: 10m 54s\tremaining: 3m 17s\n",
      "538:\tlearn: 0.6327603\ttotal: 10m 55s\tremaining: 3m 15s\n",
      "539:\tlearn: 0.6327218\ttotal: 10m 57s\tremaining: 3m 14s\n",
      "540:\tlearn: 0.6326366\ttotal: 10m 58s\tremaining: 3m 13s\n",
      "541:\tlearn: 0.6324765\ttotal: 10m 59s\tremaining: 3m 12s\n",
      "542:\tlearn: 0.6323961\ttotal: 11m\tremaining: 3m 11s\n",
      "543:\tlearn: 0.6323448\ttotal: 11m 2s\tremaining: 3m 9s\n",
      "544:\tlearn: 0.6322682\ttotal: 11m 3s\tremaining: 3m 8s\n",
      "545:\tlearn: 0.6321553\ttotal: 11m 4s\tremaining: 3m 7s\n",
      "546:\tlearn: 0.6320302\ttotal: 11m 5s\tremaining: 3m 6s\n",
      "547:\tlearn: 0.6319135\ttotal: 11m 6s\tremaining: 3m 5s\n",
      "548:\tlearn: 0.6318612\ttotal: 11m 8s\tremaining: 3m 3s\n",
      "549:\tlearn: 0.6313021\ttotal: 11m 9s\tremaining: 3m 2s\n",
      "550:\tlearn: 0.6312169\ttotal: 11m 10s\tremaining: 3m 1s\n",
      "551:\tlearn: 0.6311778\ttotal: 11m 11s\tremaining: 3m\n",
      "552:\tlearn: 0.6308781\ttotal: 11m 12s\tremaining: 2m 58s\n",
      "553:\tlearn: 0.6308015\ttotal: 11m 14s\tremaining: 2m 57s\n",
      "554:\tlearn: 0.6307591\ttotal: 11m 15s\tremaining: 2m 56s\n",
      "555:\tlearn: 0.6306829\ttotal: 11m 16s\tremaining: 2m 55s\n",
      "556:\tlearn: 0.6306145\ttotal: 11m 17s\tremaining: 2m 54s\n",
      "557:\tlearn: 0.6305530\ttotal: 11m 19s\tremaining: 2m 52s\n",
      "558:\tlearn: 0.6304651\ttotal: 11m 20s\tremaining: 2m 51s\n",
      "559:\tlearn: 0.6304173\ttotal: 11m 21s\tremaining: 2m 50s\n",
      "560:\tlearn: 0.6303700\ttotal: 11m 22s\tremaining: 2m 49s\n",
      "561:\tlearn: 0.6303223\ttotal: 11m 23s\tremaining: 2m 47s\n",
      "562:\tlearn: 0.6302711\ttotal: 11m 25s\tremaining: 2m 46s\n",
      "563:\tlearn: 0.6302166\ttotal: 11m 26s\tremaining: 2m 45s\n",
      "564:\tlearn: 0.6300445\ttotal: 11m 27s\tremaining: 2m 44s\n",
      "565:\tlearn: 0.6297292\ttotal: 11m 28s\tremaining: 2m 43s\n",
      "566:\tlearn: 0.6296772\ttotal: 11m 30s\tremaining: 2m 41s\n",
      "567:\tlearn: 0.6295736\ttotal: 11m 31s\tremaining: 2m 40s\n",
      "568:\tlearn: 0.6294907\ttotal: 11m 32s\tremaining: 2m 39s\n",
      "569:\tlearn: 0.6294840\ttotal: 11m 33s\tremaining: 2m 38s\n",
      "570:\tlearn: 0.6294003\ttotal: 11m 34s\tremaining: 2m 36s\n",
      "571:\tlearn: 0.6292302\ttotal: 11m 36s\tremaining: 2m 35s\n",
      "572:\tlearn: 0.6291755\ttotal: 11m 37s\tremaining: 2m 34s\n",
      "573:\tlearn: 0.6291471\ttotal: 11m 38s\tremaining: 2m 33s\n",
      "574:\tlearn: 0.6290551\ttotal: 11m 39s\tremaining: 2m 32s\n",
      "575:\tlearn: 0.6289897\ttotal: 11m 41s\tremaining: 2m 30s\n",
      "576:\tlearn: 0.6289836\ttotal: 11m 42s\tremaining: 2m 29s\n",
      "577:\tlearn: 0.6288678\ttotal: 11m 43s\tremaining: 2m 28s\n",
      "578:\tlearn: 0.6287938\ttotal: 11m 44s\tremaining: 2m 27s\n",
      "579:\tlearn: 0.6287082\ttotal: 11m 45s\tremaining: 2m 26s\n",
      "580:\tlearn: 0.6286430\ttotal: 11m 47s\tremaining: 2m 24s\n",
      "581:\tlearn: 0.6285793\ttotal: 11m 48s\tremaining: 2m 23s\n",
      "582:\tlearn: 0.6284164\ttotal: 11m 49s\tremaining: 2m 22s\n",
      "583:\tlearn: 0.6283241\ttotal: 11m 50s\tremaining: 2m 21s\n",
      "584:\tlearn: 0.6282429\ttotal: 11m 52s\tremaining: 2m 19s\n",
      "585:\tlearn: 0.6281766\ttotal: 11m 53s\tremaining: 2m 18s\n",
      "586:\tlearn: 0.6280867\ttotal: 11m 54s\tremaining: 2m 17s\n",
      "587:\tlearn: 0.6280662\ttotal: 11m 55s\tremaining: 2m 16s\n",
      "588:\tlearn: 0.6279813\ttotal: 11m 56s\tremaining: 2m 15s\n",
      "589:\tlearn: 0.6272727\ttotal: 11m 58s\tremaining: 2m 13s\n",
      "590:\tlearn: 0.6272262\ttotal: 11m 59s\tremaining: 2m 12s\n",
      "591:\tlearn: 0.6271624\ttotal: 12m\tremaining: 2m 11s\n",
      "592:\tlearn: 0.6270934\ttotal: 12m 1s\tremaining: 2m 10s\n",
      "593:\tlearn: 0.6270474\ttotal: 12m 3s\tremaining: 2m 9s\n",
      "594:\tlearn: 0.6269979\ttotal: 12m 4s\tremaining: 2m 7s\n",
      "595:\tlearn: 0.6269325\ttotal: 12m 5s\tremaining: 2m 6s\n",
      "596:\tlearn: 0.6268757\ttotal: 12m 6s\tremaining: 2m 5s\n",
      "597:\tlearn: 0.6268673\ttotal: 12m 7s\tremaining: 2m 4s\n",
      "598:\tlearn: 0.6267920\ttotal: 12m 9s\tremaining: 2m 2s\n",
      "599:\tlearn: 0.6267034\ttotal: 12m 10s\tremaining: 2m 1s\n",
      "600:\tlearn: 0.6266285\ttotal: 12m 11s\tremaining: 2m\n",
      "601:\tlearn: 0.6261693\ttotal: 12m 12s\tremaining: 1m 59s\n",
      "602:\tlearn: 0.6260898\ttotal: 12m 13s\tremaining: 1m 58s\n",
      "603:\tlearn: 0.6260297\ttotal: 12m 15s\tremaining: 1m 56s\n",
      "604:\tlearn: 0.6259183\ttotal: 12m 16s\tremaining: 1m 55s\n",
      "605:\tlearn: 0.6258485\ttotal: 12m 17s\tremaining: 1m 54s\n",
      "606:\tlearn: 0.6257869\ttotal: 12m 18s\tremaining: 1m 53s\n",
      "607:\tlearn: 0.6257339\ttotal: 12m 19s\tremaining: 1m 51s\n",
      "608:\tlearn: 0.6256556\ttotal: 12m 21s\tremaining: 1m 50s\n",
      "609:\tlearn: 0.6256029\ttotal: 12m 22s\tremaining: 1m 49s\n",
      "610:\tlearn: 0.6254082\ttotal: 12m 23s\tremaining: 1m 48s\n",
      "611:\tlearn: 0.6253386\ttotal: 12m 24s\tremaining: 1m 47s\n",
      "612:\tlearn: 0.6253236\ttotal: 12m 26s\tremaining: 1m 45s\n",
      "613:\tlearn: 0.6252217\ttotal: 12m 27s\tremaining: 1m 44s\n",
      "614:\tlearn: 0.6248361\ttotal: 12m 28s\tremaining: 1m 43s\n",
      "615:\tlearn: 0.6247667\ttotal: 12m 29s\tremaining: 1m 42s\n",
      "616:\tlearn: 0.6246360\ttotal: 12m 31s\tremaining: 1m 41s\n",
      "617:\tlearn: 0.6241361\ttotal: 12m 32s\tremaining: 1m 39s\n",
      "618:\tlearn: 0.6240625\ttotal: 12m 33s\tremaining: 1m 38s\n",
      "619:\tlearn: 0.6239610\ttotal: 12m 34s\tremaining: 1m 37s\n",
      "620:\tlearn: 0.6236601\ttotal: 12m 35s\tremaining: 1m 36s\n",
      "621:\tlearn: 0.6235673\ttotal: 12m 36s\tremaining: 1m 34s\n",
      "622:\tlearn: 0.6235145\ttotal: 12m 38s\tremaining: 1m 33s\n",
      "623:\tlearn: 0.6234355\ttotal: 12m 39s\tremaining: 1m 32s\n",
      "624:\tlearn: 0.6233558\ttotal: 12m 40s\tremaining: 1m 31s\n",
      "625:\tlearn: 0.6232640\ttotal: 12m 41s\tremaining: 1m 30s\n",
      "626:\tlearn: 0.6232014\ttotal: 12m 43s\tremaining: 1m 28s\n",
      "627:\tlearn: 0.6231329\ttotal: 12m 44s\tremaining: 1m 27s\n",
      "628:\tlearn: 0.6230923\ttotal: 12m 45s\tremaining: 1m 26s\n",
      "629:\tlearn: 0.6230190\ttotal: 12m 46s\tremaining: 1m 25s\n",
      "630:\tlearn: 0.6229735\ttotal: 12m 47s\tremaining: 1m 23s\n",
      "631:\tlearn: 0.6229130\ttotal: 12m 49s\tremaining: 1m 22s\n",
      "632:\tlearn: 0.6228664\ttotal: 12m 50s\tremaining: 1m 21s\n",
      "633:\tlearn: 0.6228110\ttotal: 12m 51s\tremaining: 1m 20s\n",
      "634:\tlearn: 0.6227646\ttotal: 12m 52s\tremaining: 1m 19s\n",
      "635:\tlearn: 0.6226796\ttotal: 12m 53s\tremaining: 1m 17s\n",
      "636:\tlearn: 0.6221517\ttotal: 12m 55s\tremaining: 1m 16s\n",
      "637:\tlearn: 0.6220750\ttotal: 12m 56s\tremaining: 1m 15s\n",
      "638:\tlearn: 0.6220107\ttotal: 12m 57s\tremaining: 1m 14s\n",
      "639:\tlearn: 0.6219165\ttotal: 12m 58s\tremaining: 1m 12s\n",
      "640:\tlearn: 0.6218889\ttotal: 12m 59s\tremaining: 1m 11s\n",
      "641:\tlearn: 0.6218621\ttotal: 13m\tremaining: 1m 10s\n",
      "642:\tlearn: 0.6217462\ttotal: 13m 2s\tremaining: 1m 9s\n",
      "643:\tlearn: 0.6212040\ttotal: 13m 3s\tremaining: 1m 8s\n",
      "644:\tlearn: 0.6211508\ttotal: 13m 4s\tremaining: 1m 6s\n",
      "645:\tlearn: 0.6210670\ttotal: 13m 5s\tremaining: 1m 5s\n",
      "646:\tlearn: 0.6208107\ttotal: 13m 7s\tremaining: 1m 4s\n",
      "647:\tlearn: 0.6207326\ttotal: 13m 8s\tremaining: 1m 3s\n",
      "648:\tlearn: 0.6206649\ttotal: 13m 9s\tremaining: 1m 2s\n",
      "649:\tlearn: 0.6205733\ttotal: 13m 10s\tremaining: 1m\n",
      "650:\tlearn: 0.6205320\ttotal: 13m 11s\tremaining: 59.6s\n",
      "651:\tlearn: 0.6204725\ttotal: 13m 13s\tremaining: 58.4s\n",
      "652:\tlearn: 0.6204260\ttotal: 13m 14s\tremaining: 57.2s\n",
      "653:\tlearn: 0.6203609\ttotal: 13m 15s\tremaining: 55.9s\n",
      "654:\tlearn: 0.6203083\ttotal: 13m 16s\tremaining: 54.7s\n",
      "655:\tlearn: 0.6202276\ttotal: 13m 17s\tremaining: 53.5s\n",
      "656:\tlearn: 0.6197074\ttotal: 13m 19s\tremaining: 52.3s\n",
      "657:\tlearn: 0.6196419\ttotal: 13m 20s\tremaining: 51.1s\n",
      "658:\tlearn: 0.6195833\ttotal: 13m 21s\tremaining: 49.9s\n",
      "659:\tlearn: 0.6195184\ttotal: 13m 22s\tremaining: 48.7s\n",
      "660:\tlearn: 0.6194406\ttotal: 13m 23s\tremaining: 47.4s\n",
      "661:\tlearn: 0.6194297\ttotal: 13m 25s\tremaining: 46.2s\n",
      "662:\tlearn: 0.6193756\ttotal: 13m 26s\tremaining: 45s\n",
      "663:\tlearn: 0.6193441\ttotal: 13m 27s\tremaining: 43.8s\n",
      "664:\tlearn: 0.6190026\ttotal: 13m 28s\tremaining: 42.6s\n",
      "665:\tlearn: 0.6189518\ttotal: 13m 29s\tremaining: 41.3s\n",
      "666:\tlearn: 0.6188888\ttotal: 13m 31s\tremaining: 40.1s\n",
      "667:\tlearn: 0.6187892\ttotal: 13m 32s\tremaining: 38.9s\n",
      "668:\tlearn: 0.6187535\ttotal: 13m 33s\tremaining: 37.7s\n",
      "669:\tlearn: 0.6187043\ttotal: 13m 34s\tremaining: 36.5s\n",
      "670:\tlearn: 0.6186325\ttotal: 13m 35s\tremaining: 35.3s\n",
      "671:\tlearn: 0.6185799\ttotal: 13m 37s\tremaining: 34s\n",
      "672:\tlearn: 0.6184496\ttotal: 13m 38s\tremaining: 32.8s\n",
      "673:\tlearn: 0.6183924\ttotal: 13m 39s\tremaining: 31.6s\n",
      "674:\tlearn: 0.6182290\ttotal: 13m 40s\tremaining: 30.4s\n",
      "675:\tlearn: 0.6181879\ttotal: 13m 41s\tremaining: 29.2s\n",
      "676:\tlearn: 0.6180912\ttotal: 13m 43s\tremaining: 28s\n",
      "677:\tlearn: 0.6180476\ttotal: 13m 44s\tremaining: 26.7s\n",
      "678:\tlearn: 0.6179979\ttotal: 13m 45s\tremaining: 25.5s\n",
      "679:\tlearn: 0.6179485\ttotal: 13m 46s\tremaining: 24.3s\n",
      "680:\tlearn: 0.6177293\ttotal: 13m 47s\tremaining: 23.1s\n",
      "681:\tlearn: 0.6176166\ttotal: 13m 49s\tremaining: 21.9s\n",
      "682:\tlearn: 0.6175749\ttotal: 13m 50s\tremaining: 20.7s\n",
      "683:\tlearn: 0.6175073\ttotal: 13m 51s\tremaining: 19.4s\n",
      "684:\tlearn: 0.6174373\ttotal: 13m 52s\tremaining: 18.2s\n",
      "685:\tlearn: 0.6172121\ttotal: 13m 53s\tremaining: 17s\n",
      "686:\tlearn: 0.6171555\ttotal: 13m 55s\tremaining: 15.8s\n",
      "687:\tlearn: 0.6170751\ttotal: 13m 56s\tremaining: 14.6s\n",
      "688:\tlearn: 0.6170196\ttotal: 13m 57s\tremaining: 13.4s\n",
      "689:\tlearn: 0.6169461\ttotal: 13m 58s\tremaining: 12.2s\n",
      "690:\tlearn: 0.6168874\ttotal: 13m 59s\tremaining: 10.9s\n",
      "691:\tlearn: 0.6168020\ttotal: 14m 1s\tremaining: 9.72s\n",
      "692:\tlearn: 0.6166526\ttotal: 14m 2s\tremaining: 8.51s\n",
      "693:\tlearn: 0.6166273\ttotal: 14m 3s\tremaining: 7.29s\n",
      "694:\tlearn: 0.6165653\ttotal: 14m 4s\tremaining: 6.08s\n",
      "695:\tlearn: 0.6164810\ttotal: 14m 5s\tremaining: 4.86s\n",
      "696:\tlearn: 0.6164378\ttotal: 14m 7s\tremaining: 3.65s\n",
      "697:\tlearn: 0.6162874\ttotal: 14m 8s\tremaining: 2.43s\n",
      "698:\tlearn: 0.6162565\ttotal: 14m 9s\tremaining: 1.22s\n",
      "699:\tlearn: 0.6161953\ttotal: 14m 10s\tremaining: 0us\n",
      "Valid error:  0.8617574158586715\n",
      "preds mean 0.34421299513055265\n",
      "Took 14.21 minutes\n"
     ]
    }
   ],
   "source": [
    "start_time = time.time()\n",
    "# Initialize CatBoostRegressor rsm=0.8, depth=5, learning_rate=0.037, eval_metric='MAE\n",
    "model_cat = CatBoostRegressor(iterations=700, l2_leaf_reg=9,\n",
    "                              learning_rate=0.15,\n",
    "                          depth=10, eval_metric='RMSE',#task_type='GPU'\n",
    "                             )\n",
    "# Fit model\n",
    "model_cat.fit(X_train, Y_train)\n",
    "print('Valid error: ',np.sqrt(mean_squared_error(Y_valid, model_cat.predict(X_valid))))\n",
    "preds = model_cat.predict(X_test).clip(0,20)\n",
    "print('preds mean',preds.mean())\n",
    "\n",
    "pickle.dump(model_cat, open('model_cat1.pkl', \"wb\"))\n",
    "\n",
    "print('Took %0.2f minutes'%((time.time() - start_time)/60))"
   ]
  },
  {
   "cell_type": "code",
   "execution_count": 59,
   "metadata": {},
   "outputs": [],
   "source": [
    "idx = np.argsort(model_cat.feature_importances_)\n",
    "cols = np.array(model_cat.feature_names_)[idx][::-1]"
   ]
  },
  {
   "cell_type": "code",
   "execution_count": 55,
   "metadata": {},
   "outputs": [],
   "source": [
    "#all_data.drop(cols[40:], axis=1, inplace=True)"
   ]
  },
  {
   "cell_type": "code",
   "execution_count": 56,
   "metadata": {},
   "outputs": [],
   "source": [
    "all_data.drop(cols[145:],axis=1,inplace=True)"
   ]
  },
  {
   "cell_type": "code",
   "execution_count": 57,
   "metadata": {
    "colab": {},
    "colab_type": "code",
    "id": "xFqC2DnQPhgU"
   },
   "outputs": [],
   "source": [
    "# save processed data to disk in case the kernel restart because of out of memory\n",
    "outfile = open('all_data_ready','wb')\n",
    "pickle.dump(all_data, outfile)\n",
    "outfile.close()"
   ]
  },
  {
   "cell_type": "markdown",
   "metadata": {
    "colab": {},
    "colab_type": "code",
    "id": "vfkHoQODkL9n"
   },
   "source": [
    "infile = open('all_data6','rb')\n",
    "all_data = pickle.load(infile)\n",
    "infile.close()\n",
    "\n"
   ]
  }
 ],
 "metadata": {
  "colab": {
   "collapsed_sections": [
    "XsUhRPpJPhfp",
    "isP3yRHFPhgl",
    "bVL4Q5akPhgn",
    "GNTAQx4UPhg5",
    "YNFbT8UDPhg8",
    "ApKrp641Phg-",
    "AxnC4FslPhg_"
   ],
   "name": "Final Project (Predict Future Sales)_redo.ipynb",
   "provenance": [],
   "toc_visible": true,
   "version": "0.3.2"
  },
  "kernelspec": {
   "display_name": "Python 3",
   "language": "python",
   "name": "python3"
  },
  "language_info": {
   "codemirror_mode": {
    "name": "ipython",
    "version": 3
   },
   "file_extension": ".py",
   "mimetype": "text/x-python",
   "name": "python",
   "nbconvert_exporter": "python",
   "pygments_lexer": "ipython3",
   "version": "3.8.5"
  }
 },
 "nbformat": 4,
 "nbformat_minor": 4
}
